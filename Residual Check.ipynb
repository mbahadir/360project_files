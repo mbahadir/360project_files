{
 "cells": [
  {
   "cell_type": "code",
   "execution_count": 1,
   "metadata": {},
   "outputs": [],
   "source": [
    "# install the required packages first\n",
    "require(jsonlite)\n",
    "require(httr)\n",
    "require(data.table)\n",
    "\n",
    "get_token <- function(username, password, url_site){\n",
    "    \n",
    "    post_body = list(username=username,password=password)\n",
    "    post_url_string = paste0(url_site,'/token/')\n",
    "    result = POST(post_url_string, body = post_body)\n",
    "\n",
    "    # error handling (wrong credentials)\n",
    "    if(result$status_code==400){\n",
    "        print('Check your credentials')\n",
    "        return(0)\n",
    "    }\n",
    "    else if (result$status_code==201){\n",
    "        output = content(result)\n",
    "        token = output$key\n",
    "    }\n",
    "\n",
    "    return(token)\n",
    "}\n",
    "\n",
    "get_data <- function(start_date='2020-03-20', token, url_site){\n",
    "    \n",
    "    post_body = list(start_date=start_date,username=username,password=password)\n",
    "    post_url_string = paste0(url_site,'/dataset/')\n",
    "    \n",
    "    header = add_headers(c(Authorization=paste('Token',token,sep=' ')))\n",
    "    result = GET(post_url_string, header, body = post_body)\n",
    "    output = content(result)\n",
    "    data = data.table::rbindlist(output)\n",
    "    data[,event_date:=as.Date(event_date)]\n",
    "    data = data[order(event_date)]\n",
    "    return(data)\n",
    "}\n",
    "\n",
    "\n",
    "send_submission <- function(predictions, token, url_site, submit_now=F){\n",
    "    \n",
    "    format_check=check_format(predictions)\n",
    "    if(!format_check){\n",
    "        return(FALSE)\n",
    "    }\n",
    "    \n",
    "    post_string=\"list(\"\n",
    "    for(i in 1:nrow(predictions)){\n",
    "        if(i<nrow(predictions)){\n",
    "            post_string=sprintf(\"%s%s,\",post_string,predictions$forecast[i])\n",
    "        } else {\n",
    "            post_string=sprintf(\"%s%s)\",post_string,predictions$forecast[i])\n",
    "        }\n",
    "    }\n",
    "    \n",
    "    submission = eval(parse(text=post_string))\n",
    "    json_body = jsonlite::toJSON(submission, auto_unbox = TRUE)\n",
    "    submission=list(submission=json_body)\n",
    "    \n",
    "    print(submission)\n",
    "    # {\"31515569\":2.4,\"32939029\":2.4,\"4066298\":2.4,\"6676673\":2.4,\"7061886\":2.4,\"85004\":2.4} \n",
    "\n",
    "    if(!submit_now){\n",
    "        print(\"You did not submit.\")\n",
    "        return(FALSE)      \n",
    "    }\n",
    "    \n",
    "\n",
    "    header = add_headers(c(Authorization=paste('Token',token,sep=' ')))\n",
    "    post_url_string = paste0(url_site,'/submission/')\n",
    "    result = POST(post_url_string, header, body=submission)\n",
    "    \n",
    "    if (result$status_code==201){\n",
    "        print(\"Successfully submitted. Below you can see the details of your submission\")\n",
    "    } else {\n",
    "        print(\"Could not submit. Please check the error message below, contact the assistant if needed.\")\n",
    "    }\n",
    "    \n",
    "    print(content(result))\n",
    "    \n",
    "}\n",
    "\n",
    "check_format <- function(predictions){\n",
    "    \n",
    "    if(is.data.frame(predictions) | is.data.frame(predictions)){\n",
    "        if('forecast' %in% names(predictions)){\n",
    "            if(nrow(predictions)==24){\n",
    "                if(all(is.numeric(predictions$forecast))){\n",
    "                    print(\"Format OK\")\n",
    "                    return(TRUE)\n",
    "                } else {\n",
    "                    print(\"forecast information is not numeric\")\n",
    "                    return(FALSE)                \n",
    "                }\n",
    "            } else {\n",
    "                print(\"Forecasts for 24 hours should be provided, current number of rows:\")\n",
    "                print(nrow(predictions))\n",
    "                return(FALSE)     \n",
    "            }\n",
    "        } \n",
    "    } else {\n",
    "        print(\"Wrong format. Please provide data.frame or data.table object\")\n",
    "        return(FALSE)\n",
    "    }\n",
    "    \n",
    "}\n",
    "\n",
    "# this part is main code\n",
    "subm_url = 'http://46.101.124.77'\n",
    "\n",
    "u_name = \"Group10\"\n",
    "p_word = \"sSQe4kg1ne5XiB7U\"\n",
    "submit_now = FALSE\n",
    "\n",
    "username = u_name\n",
    "password = p_word\n",
    "\n",
    "token = get_token(username=u_name, password=p_word, url=subm_url)\n",
    "data = get_data(token=token,url=subm_url)\n"
   ]
  },
  {
   "cell_type": "code",
   "execution_count": 2,
   "metadata": {},
   "outputs": [
    {
     "name": "stderr",
     "output_type": "stream",
     "text": [
      "\n",
      "Attaching package: 'lubridate'\n",
      "\n",
      "The following objects are masked from 'package:data.table':\n",
      "\n",
      "    hour, isoweek, mday, minute, month, quarter, second, wday, week,\n",
      "    yday, year\n",
      "\n",
      "The following object is masked from 'package:base':\n",
      "\n",
      "    date\n",
      "\n",
      "Warning message:\n",
      "\"package 'panelaggregation' was built under R version 3.6.3\"Warning message:\n",
      "\"package 'dplyr' was built under R version 3.6.3\"\n",
      "Attaching package: 'dplyr'\n",
      "\n",
      "The following objects are masked from 'package:lubridate':\n",
      "\n",
      "    intersect, setdiff, union\n",
      "\n",
      "The following objects are masked from 'package:data.table':\n",
      "\n",
      "    between, first, last\n",
      "\n",
      "The following objects are masked from 'package:stats':\n",
      "\n",
      "    filter, lag\n",
      "\n",
      "The following objects are masked from 'package:base':\n",
      "\n",
      "    intersect, setdiff, setequal, union\n",
      "\n",
      "Warning message:\n",
      "\"package 'forecast' was built under R version 3.6.2\"Registered S3 method overwritten by 'xts':\n",
      "  method     from\n",
      "  as.zoo.xts zoo \n",
      "Registered S3 method overwritten by 'quantmod':\n",
      "  method            from\n",
      "  as.zoo.data.frame zoo \n",
      "Registered S3 method overwritten by 'rvest':\n",
      "  method            from\n",
      "  read_xml.response xml2\n",
      "-- Attaching packages ------------------------------------------------------------------------------- tidyverse 1.2.1 --\n",
      "<U+221A> ggplot2 3.3.2     <U+221A> readr   1.3.1\n",
      "<U+221A> tibble  3.0.4     <U+221A> purrr   0.3.2\n",
      "<U+221A> tidyr   1.1.2     <U+221A> stringr 1.4.0\n",
      "<U+221A> ggplot2 3.3.2     <U+221A> forcats 0.4.0\n",
      "Warning message:\n",
      "\"package 'ggplot2' was built under R version 3.6.3\"Warning message:\n",
      "\"package 'tibble' was built under R version 3.6.3\"Warning message:\n",
      "\"package 'tidyr' was built under R version 3.6.3\"-- Conflicts ---------------------------------------------------------------------------------- tidyverse_conflicts() --\n",
      "x lubridate::as.difftime() masks base::as.difftime()\n",
      "x dplyr::between()         masks data.table::between()\n",
      "x lubridate::date()        masks base::date()\n",
      "x dplyr::filter()          masks stats::filter()\n",
      "x dplyr::first()           masks data.table::first()\n",
      "x lubridate::hour()        masks data.table::hour()\n",
      "x lubridate::intersect()   masks base::intersect()\n",
      "x lubridate::isoweek()     masks data.table::isoweek()\n",
      "x dplyr::lag()             masks stats::lag()\n",
      "x dplyr::last()            masks data.table::last()\n",
      "x lubridate::mday()        masks data.table::mday()\n",
      "x lubridate::minute()      masks data.table::minute()\n",
      "x lubridate::month()       masks data.table::month()\n",
      "x lubridate::quarter()     masks data.table::quarter()\n",
      "x lubridate::second()      masks data.table::second()\n",
      "x lubridate::setdiff()     masks base::setdiff()\n",
      "x purrr::transpose()       masks data.table::transpose()\n",
      "x lubridate::union()       masks base::union()\n",
      "x lubridate::wday()        masks data.table::wday()\n",
      "x lubridate::week()        masks data.table::week()\n",
      "x lubridate::yday()        masks data.table::yday()\n",
      "x lubridate::year()        masks data.table::year()\n"
     ]
    }
   ],
   "source": [
    "library(data.table)\n",
    "library(lubridate)\n",
    "library(panelaggregation)\n",
    "library(dplyr)\n",
    "library(urca)\n",
    "library(forecast)\n",
    "library(tidyverse)"
   ]
  },
  {
   "cell_type": "code",
   "execution_count": 3,
   "metadata": {},
   "outputs": [],
   "source": [
    "data=fread(\"current_data.csv\")"
   ]
  },
  {
   "cell_type": "code",
   "execution_count": 4,
   "metadata": {},
   "outputs": [],
   "source": [
    "data=data[,c(2:11)]\n",
    "data$Date=as.Date(data$Date)"
   ]
  },
  {
   "cell_type": "code",
   "execution_count": 5,
   "metadata": {},
   "outputs": [],
   "source": [
    "# old <- c(\"event_date\", \"event_hour\", \"consumption\",\"t_1\",\"t_2\",\"t_3\",\"t_4\",\"t_5\",\"t_6\",\"t_7\")\n",
    "# new <- c(\"Date\", \"Hour\", \"Consumption\",\"T_1\",\"T_2\",\"T_3\",\"T_4\",\"T_5\",\"T_6\",\"T_7\")\n",
    "# setnames(data, old, new, skip_absent = TRUE)"
   ]
  },
  {
   "cell_type": "code",
   "execution_count": 6,
   "metadata": {},
   "outputs": [],
   "source": [
    "data=data[order(Date,Hour)]"
   ]
  },
  {
   "cell_type": "code",
   "execution_count": 7,
   "metadata": {},
   "outputs": [],
   "source": [
    "train=fread(\"bulk_consumption_with_temp.csv\")\n",
    "train$Date=as.Date(train$Date)"
   ]
  },
  {
   "cell_type": "code",
   "execution_count": 8,
   "metadata": {},
   "outputs": [],
   "source": [
    "all_dt=rbind(train,data)"
   ]
  },
  {
   "cell_type": "code",
   "execution_count": 164,
   "metadata": {},
   "outputs": [
    {
     "data": {
      "text/html": [
       "'C:/Users/bahad/GitHub/360project/R Code/bahadir_work/New Model'"
      ],
      "text/latex": [
       "'C:/Users/bahad/GitHub/360project/R Code/bahadir\\_work/New Model'"
      ],
      "text/markdown": [
       "'C:/Users/bahad/GitHub/360project/R Code/bahadir_work/New Model'"
      ],
      "text/plain": [
       "[1] \"C:/Users/bahad/GitHub/360project/R Code/bahadir_work/New Model\""
      ]
     },
     "metadata": {},
     "output_type": "display_data"
    }
   ],
   "source": [
    "getwd()"
   ]
  },
  {
   "cell_type": "markdown",
   "metadata": {},
   "source": [
    "## Performance Measure"
   ]
  },
  {
   "cell_type": "markdown",
   "metadata": {},
   "source": [
    "Performance measures will be made by calling the perf_dt() function. In this function, name of the model(with details), how many numbers of observation is evaluated, mean, standard deviation, daily bias, daily mean absolute percentage error, root mean square error, mean absolute deviation, and weighted mean absolute percentage error. Namely, this function will return all the demanded performance measures in the homework description, but also additional beneficial information related to model performance."
   ]
  },
  {
   "cell_type": "code",
   "execution_count": 9,
   "metadata": {},
   "outputs": [],
   "source": [
    "perf_dt=function(type,actual,forecast){\n",
    "    name=type\n",
    "    n=length(actual)\n",
    "    error=actual-forecast\n",
    "    mean=mean(actual)\n",
    "    sd=sd(actual)\n",
    "    FBias=sum(error)/sum(actual)\n",
    "    MPE=sum(error/actual)/n\n",
    "    MAPE=sum(abs(error/actual))/n\n",
    "    RMSE=sqrt(sum(error^2))/n\n",
    "    MAD=sum(abs(error))/n\n",
    "    WMAPE=MAD/mean\n",
    "    l=data.frame(name,n,mean,sd,FBias,MAPE,RMSE,MAD,WMAPE)\n",
    "    return(l)\n",
    "}"
   ]
  },
  {
   "cell_type": "code",
   "execution_count": 10,
   "metadata": {},
   "outputs": [],
   "source": [
    "setnames(all_dt,\"Date\",\"date\")\n",
    "setnames(all_dt,\"Consumption\",\"consumption\")\n",
    "setnames(all_dt,\"Hour\",\"hour\")"
   ]
  },
  {
   "cell_type": "markdown",
   "metadata": {},
   "source": [
    "### Group all the dataset by daily"
   ]
  },
  {
   "cell_type": "code",
   "execution_count": 11,
   "metadata": {},
   "outputs": [
    {
     "name": "stderr",
     "output_type": "stream",
     "text": [
      "`summarise()` ungrouping output (override with `.groups` argument)\n"
     ]
    }
   ],
   "source": [
    "df =all_dt %>% \n",
    "  group_by(date) %>% \n",
    "  summarise(consumption = mean(consumption))\n",
    "dt=as.data.table(df)"
   ]
  },
  {
   "cell_type": "markdown",
   "metadata": {},
   "source": [
    "### Seperating Dataset "
   ]
  },
  {
   "cell_type": "code",
   "execution_count": 97,
   "metadata": {},
   "outputs": [
    {
     "data": {
      "image/png": "[encoded data removed]",
      "text/plain": [
       "plot without title"
      ]
     },
     "metadata": {},
     "output_type": "display_data"
    }
   ],
   "source": [
    "ggplot(dt[1:(.N-10)], aes(x=date, y=consumption))+geom_line()+labs(title=\"Daily Electricity Consumption in Turkey in between `2017 to 2020`\")+\n",
    "                                                                   ylab(\"Consumption\")+xlab(\"Daily Dates\")"
   ]
  },
  {
   "cell_type": "code",
   "execution_count": 12,
   "metadata": {},
   "outputs": [],
   "source": [
    "train=filter(dt,date<=\"2021-01-07\")\n",
    "test=filter(dt,date>\"2021-01-07\")"
   ]
  },
  {
   "cell_type": "markdown",
   "metadata": {},
   "source": [
    "### Dataframe to Time-Series Object"
   ]
  },
  {
   "cell_type": "code",
   "execution_count": 13,
   "metadata": {},
   "outputs": [],
   "source": [
    "train_ts=ts(train$consumption,freq=7)\n",
    "test_ts=ts(test$consumption,freq=7)"
   ]
  },
  {
   "cell_type": "markdown",
   "metadata": {},
   "source": [
    "# Feature DF"
   ]
  },
  {
   "cell_type": "code",
   "execution_count": 14,
   "metadata": {},
   "outputs": [],
   "source": [
    "feat_dt=fread(\"C:/Users/bahad/GitHub/360project/all_features_df.csv\")\n",
    "feat_dt$date=as.Date(feat_dt$date)"
   ]
  },
  {
   "cell_type": "code",
   "execution_count": 15,
   "metadata": {},
   "outputs": [],
   "source": [
    "feat_dt[holiday_val_factor==8,holiday_val_factor:=0]"
   ]
  },
  {
   "cell_type": "code",
   "execution_count": 16,
   "metadata": {},
   "outputs": [],
   "source": [
    "train_feat=merge(train,feat_dt[,c(1,2)],by.x=\"date\",by.y=\"date\")\n",
    "#train_feat[out_and$index][holiday_val_factor==0]$holiday_val_factor=8"
   ]
  },
  {
   "cell_type": "code",
   "execution_count": 17,
   "metadata": {},
   "outputs": [],
   "source": [
    "train_feat$month=month(train_feat$date)"
   ]
  },
  {
   "cell_type": "code",
   "execution_count": 18,
   "metadata": {},
   "outputs": [],
   "source": [
    "train_feat[,year_day:=yday(date)]\n",
    "train_feat[,week_day:=wday(date)]\n",
    "train_feat[,lag_7:=shift(consumption, 7)]\n",
    "train_feat[,lag_14:=shift(consumption, 14)]\n",
    "train_feat[,for_14:=shift(consumption, type=\"lead\", 14)]\n",
    "train_feat[,for_7:=shift(consumption, type=\"lead\", 7)]\n",
    "train_feat[, lag_365:=shift(consumption, 364)]"
   ]
  },
  {
   "cell_type": "markdown",
   "metadata": {},
   "source": [
    "### New year"
   ]
  },
  {
   "cell_type": "code",
   "execution_count": 19,
   "metadata": {},
   "outputs": [],
   "source": [
    "train_feat[holiday_val_factor==1,consumption:=lag_7]\n",
    "train_feat[1]$consumption=train_feat[8]$consumption"
   ]
  },
  {
   "cell_type": "code",
   "execution_count": 20,
   "metadata": {},
   "outputs": [],
   "source": [
    "train_feat[year_day==366]$consumption=train_feat[year_day==366]$lag_7"
   ]
  },
  {
   "cell_type": "code",
   "execution_count": 21,
   "metadata": {},
   "outputs": [],
   "source": [
    "train_feat[year_day==365]$consumption=train_feat[year_day==365]$lag_7"
   ]
  },
  {
   "cell_type": "markdown",
   "metadata": {},
   "source": [
    "##### Lackdown and new year 2021"
   ]
  },
  {
   "cell_type": "code",
   "execution_count": 22,
   "metadata": {},
   "outputs": [],
   "source": [
    "train_feat[date==\"2021-01-02\", consumption:=lag_7]"
   ]
  },
  {
   "cell_type": "markdown",
   "metadata": {},
   "source": [
    "# Holiday Factor == 8"
   ]
  },
  {
   "cell_type": "markdown",
   "metadata": {},
   "source": [
    "### 2017 Ramadan Change"
   ]
  },
  {
   "cell_type": "code",
   "execution_count": 23,
   "metadata": {},
   "outputs": [],
   "source": [
    "train_feat[date<\"2017-07-02\" & date>=\"2017-06-23\" & holiday_val_factor==0,holiday_val_factor:=8]"
   ]
  },
  {
   "cell_type": "markdown",
   "metadata": {},
   "source": [
    "### 2017 Zafer Bayrami"
   ]
  },
  {
   "cell_type": "code",
   "execution_count": 24,
   "metadata": {},
   "outputs": [],
   "source": [
    "train_feat[date==\"2017-08-29\", holiday_val_factor:=8] "
   ]
  },
  {
   "cell_type": "markdown",
   "metadata": {},
   "source": [
    "### 2019 Zafer Bayrami"
   ]
  },
  {
   "cell_type": "code",
   "execution_count": 25,
   "metadata": {},
   "outputs": [],
   "source": [
    "train_feat[date==\"2019-08-31\", holiday_val_factor:=8] "
   ]
  },
  {
   "cell_type": "markdown",
   "metadata": {},
   "source": [
    "### 2018 Kurban Bayramı"
   ]
  },
  {
   "cell_type": "code",
   "execution_count": 26,
   "metadata": {},
   "outputs": [],
   "source": [
    "train_feat[date<\"2018-08-27\" & date>=\"2018-08-18\" & holiday_val_factor==0,holiday_val_factor:=8]"
   ]
  },
  {
   "cell_type": "markdown",
   "metadata": {},
   "source": [
    "### 2019 Ramazan Bayramı"
   ]
  },
  {
   "cell_type": "code",
   "execution_count": 27,
   "metadata": {},
   "outputs": [],
   "source": [
    "train_feat[date<\"2019-06-10\" & date>=\"2019-06-01\" & holiday_val_factor==0,holiday_val_factor:=8]"
   ]
  },
  {
   "cell_type": "markdown",
   "metadata": {},
   "source": [
    "### 2019 Kurban Bayramı"
   ]
  },
  {
   "cell_type": "code",
   "execution_count": 28,
   "metadata": {},
   "outputs": [],
   "source": [
    "train_feat[date<\"2019-08-19\" & date>=\"2019-08-10\" & holiday_val_factor==0,holiday_val_factor:=8]"
   ]
  },
  {
   "cell_type": "markdown",
   "metadata": {},
   "source": [
    "### New Year Holiday Before"
   ]
  },
  {
   "cell_type": "code",
   "execution_count": 29,
   "metadata": {},
   "outputs": [],
   "source": [
    "train_feat[date==\"2019-12-29\",holiday_val_factor:=8]"
   ]
  },
  {
   "cell_type": "markdown",
   "metadata": {},
   "source": [
    "### Verilen 3 haftalık tatilin ilk haftası (haftaiçi)"
   ]
  },
  {
   "cell_type": "code",
   "execution_count": 30,
   "metadata": {},
   "outputs": [],
   "source": [
    "train_feat[date<=\"2020-03-20\" & date>=\"2020-03-16\" & holiday_val_factor==0,holiday_val_factor:=8]"
   ]
  },
  {
   "cell_type": "markdown",
   "metadata": {},
   "source": [
    "### 2020 Kurban Bayramı ????????"
   ]
  },
  {
   "cell_type": "code",
   "execution_count": 31,
   "metadata": {},
   "outputs": [],
   "source": [
    "# train_feat[date>=\"2020-07-10\" & date<=\"2020-08-15\",]"
   ]
  },
  {
   "cell_type": "markdown",
   "metadata": {},
   "source": [
    "# Lag364 Holiday==9"
   ]
  },
  {
   "cell_type": "markdown",
   "metadata": {},
   "source": [
    "### İlk dönem haftasonu lackdown durumu"
   ]
  },
  {
   "cell_type": "code",
   "execution_count": 32,
   "metadata": {},
   "outputs": [],
   "source": [
    "train_feat[date>=\"2020-04-01\"&date<=\"2020-05-31\"& (week_day==1|week_day==7) & holiday_val_factor==0,holiday_val_factor:=9]"
   ]
  },
  {
   "cell_type": "markdown",
   "metadata": {},
   "source": [
    "# Adjustment"
   ]
  },
  {
   "cell_type": "code",
   "execution_count": 33,
   "metadata": {},
   "outputs": [],
   "source": [
    "for(i in 2:8){\n",
    "    for(j in 1:nrow(train_feat[holiday_val_factor==i,])){\n",
    "        new_val=0\n",
    "        count=0\n",
    "#         if(train_feat[date==train_feat[holiday_val_factor==i,][j]$date+14]$holiday_val_factor==0){\n",
    "#             new_val=new_val+train_feat[holiday_val_factor==i,][j]$for_14\n",
    "#             count=count+1\n",
    "#         }\n",
    "        if(train_feat[date==train_feat[holiday_val_factor==i,][j]$date+7]$holiday_val_factor==0){\n",
    "            new_val=new_val+train_feat[holiday_val_factor==i,][j]$for_7+train_feat[holiday_val_factor==i,][j]$for_7\n",
    "            count=count+2\n",
    "        }\n",
    "        if(train_feat[date==train_feat[holiday_val_factor==i,][j]$date-7]$holiday_val_factor==0){\n",
    "            new_val=new_val+train_feat[holiday_val_factor==i,][j]$lag_7+train_feat[holiday_val_factor==i,][j]$lag_7\n",
    "            count=count+2\n",
    "        }\n",
    "        if(train_feat[date==train_feat[holiday_val_factor==i,][j]$date+14]$holiday_val_factor==0){\n",
    "            new_val=new_val+train_feat[holiday_val_factor==i,][j]$lag_14\n",
    "            count=count+1\n",
    "        }\n",
    "        new_val=new_val/count\n",
    "        train_feat[holiday_val_factor==i,][j]$consumption=new_val        \n",
    "    }\n",
    "}"
   ]
  },
  {
   "cell_type": "markdown",
   "metadata": {},
   "source": [
    "### Holiday 9"
   ]
  },
  {
   "cell_type": "code",
   "execution_count": 34,
   "metadata": {},
   "outputs": [],
   "source": [
    "train_feat[holiday_val_factor==9 & week_day==7, consumption:=consumption+1500]"
   ]
  },
  {
   "cell_type": "markdown",
   "metadata": {},
   "source": [
    "# 19 Mayıs Zamanı Yapılan Sokağa Çıkma düzeltmesi"
   ]
  },
  {
   "cell_type": "code",
   "execution_count": 35,
   "metadata": {},
   "outputs": [],
   "source": [
    "train_feat[date==\"2020-05-16\"|date==\"2020-05-17\",consumption:=lag_7]"
   ]
  },
  {
   "cell_type": "code",
   "execution_count": 36,
   "metadata": {},
   "outputs": [],
   "source": [
    "# diff_sun=train_feat[date>=\"2019-04-01\"&date<=\"2019-06-05\" & (week_day==1), ]$consumption-train_feat[date>=\"2020-04-01\"&date<=\"2020-05-31\" & (week_day==1), ]$consumption\n",
    "# diff_sat=train_feat[date>=\"2019-04-01\"&date<=\"2019-06-05\" & (week_day==7), ]$consumption-train_feat[date>=\"2020-04-01\"&date<=\"2020-05-31\" & (week_day==7), ]$consumption"
   ]
  },
  {
   "cell_type": "code",
   "execution_count": 37,
   "metadata": {},
   "outputs": [],
   "source": [
    "# diff_sun\n",
    "# summary(diff_sun)"
   ]
  },
  {
   "cell_type": "code",
   "execution_count": 38,
   "metadata": {},
   "outputs": [],
   "source": [
    "# diff_sat\n",
    "# summary(diff_sat)"
   ]
  },
  {
   "cell_type": "code",
   "execution_count": 39,
   "metadata": {},
   "outputs": [],
   "source": [
    "# diff=train_feat[date>=\"2019-04-01\"&date<=\"2019-05-31\" & (week_day!=1 & week_day!=7), ]$consumption-train_feat[date>=\"2020-04-01\"&date<=\"2020-06-02\" & (week_day!=1 & week_day!=7), ]$consumption"
   ]
  },
  {
   "cell_type": "code",
   "execution_count": 40,
   "metadata": {},
   "outputs": [],
   "source": [
    "# summary(diff)"
   ]
  },
  {
   "cell_type": "code",
   "execution_count": 41,
   "metadata": {},
   "outputs": [],
   "source": [
    "# diff"
   ]
  },
  {
   "cell_type": "markdown",
   "metadata": {},
   "source": [
    "### Outlier Check"
   ]
  },
  {
   "cell_type": "code",
   "execution_count": 42,
   "metadata": {},
   "outputs": [
    {
     "data": {
      "image/png": "[encoded data removed]",
      "text/plain": [
       "plot without title"
      ]
     },
     "metadata": {},
     "output_type": "display_data"
    }
   ],
   "source": [
    "last_decomp=decompose(ts(train_feat$consumption,freq=7),type='add')\n",
    "plot(last_decomp)"
   ]
  },
  {
   "cell_type": "markdown",
   "metadata": {},
   "source": [
    "## Last Adjustment for Outliers"
   ]
  },
  {
   "cell_type": "code",
   "execution_count": 43,
   "metadata": {},
   "outputs": [],
   "source": [
    "out_new<-tsoutliers(last_decomp$random)"
   ]
  },
  {
   "cell_type": "code",
   "execution_count": 44,
   "metadata": {},
   "outputs": [],
   "source": [
    "# sub_decomp_new=decompose(ts(train_feat$consumption,freq=7),type='add')\n",
    "# plot(sub_decomp_new)"
   ]
  },
  {
   "cell_type": "code",
   "execution_count": 45,
   "metadata": {},
   "outputs": [],
   "source": [
    "# plot(train_feat[date>=\"2020-01-01\"&date<=\"2021-01-30\"& (week_day==7),]$date,\n",
    "#      train_feat[date>=\"2020-01-01\"&date<=\"2021-01-30\"& (week_day==7),]$consumption,type=\"l\")"
   ]
  },
  {
   "cell_type": "code",
   "execution_count": 46,
   "metadata": {},
   "outputs": [],
   "source": [
    "# plot(train_feat[date>=\"2020-01-01\"&date<=\"2021-01-30\"& (week_day==1),]$date,\n",
    "#      train_feat[date>=\"2020-01-01\"&date<=\"2021-01-30\"& (week_day==1),]$consumption,type=\"l\")"
   ]
  },
  {
   "cell_type": "code",
   "execution_count": 47,
   "metadata": {},
   "outputs": [],
   "source": [
    "# train_feat[date<=\"2021-01-30\"& month== 4 & (week_day==7),mean(consumption),by=year(date)]"
   ]
  },
  {
   "cell_type": "code",
   "execution_count": 48,
   "metadata": {},
   "outputs": [],
   "source": [
    "# train_feat[date<=\"2021-01-30\"& month== 5 & (week_day==7),mean(consumption),by=year(date)]"
   ]
  },
  {
   "cell_type": "code",
   "execution_count": 49,
   "metadata": {},
   "outputs": [],
   "source": [
    "# plot(train_feat[date<=\"2021-01-30\"& (week_day==7) & holiday_val_factor==0,]$date,\n",
    "#      train_feat[date<=\"2021-01-30\"& (week_day==7)& holiday_val_factor==0,]$consumption,type=\"l\")"
   ]
  },
  {
   "cell_type": "code",
   "execution_count": 50,
   "metadata": {},
   "outputs": [],
   "source": [
    "# plot(train_feat[date<=\"2021-01-30\"& (week_day==7) & holiday_val_factor==0,]$date,\n",
    "#      train_feat[date<=\"2021-01-30\"& (week_day==7)& holiday_val_factor==0,]$consumption,type=\"l\")"
   ]
  },
  {
   "cell_type": "code",
   "execution_count": 51,
   "metadata": {},
   "outputs": [
    {
     "data": {
      "text/plain": [
       "\n",
       "####################### \n",
       "# KPSS Unit Root Test # \n",
       "####################### \n",
       "\n",
       "Test is of type: mu with 7 lags. \n",
       "\n",
       "Value of test-statistic is: 0.0069 \n",
       "\n",
       "Critical value for a significance level of: \n",
       "                10pct  5pct 2.5pct  1pct\n",
       "critical values 0.347 0.463  0.574 0.739\n"
      ]
     },
     "metadata": {},
     "output_type": "display_data"
    }
   ],
   "source": [
    "unt_test_final=ur.kpss(last_decomp$random) \n",
    "summary(unt_test_final)"
   ]
  },
  {
   "cell_type": "code",
   "execution_count": 99,
   "metadata": {},
   "outputs": [
    {
     "data": {
      "text/plain": [
       "\n",
       "\tBox-Ljung test\n",
       "\n",
       "data:  last_decomp$random\n",
       "X-squared = 743.65, df = 10, p-value < 2.2e-16\n"
      ]
     },
     "metadata": {},
     "output_type": "display_data"
    }
   ],
   "source": [
    "Box.test(last_decomp$random, lag=10, type=\"Ljung-Box\")"
   ]
  },
  {
   "cell_type": "code",
   "execution_count": 52,
   "metadata": {},
   "outputs": [],
   "source": [
    "pred_dt=rbind(train_feat,test, fill=TRUE) \n",
    "pred_dt=pred_dt[,c(1,2)]\n",
    "pred_dt=as.data.table(pred_dt)"
   ]
  },
  {
   "cell_type": "code",
   "execution_count": 53,
   "metadata": {},
   "outputs": [
    {
     "data": {
      "text/html": [
       "<table>\n",
       "<thead><tr><th scope=col>date</th><th scope=col>consumption</th></tr></thead>\n",
       "<tbody>\n",
       "\t<tr><td>2017-01-01</td><td>28388.02  </td></tr>\n",
       "\t<tr><td>2017-01-02</td><td>31293.86  </td></tr>\n",
       "\t<tr><td>2017-01-03</td><td>32666.97  </td></tr>\n",
       "\t<tr><td>2017-01-04</td><td>33190.91  </td></tr>\n",
       "\t<tr><td>2017-01-05</td><td>32824.98  </td></tr>\n",
       "\t<tr><td>2017-01-06</td><td>31913.98  </td></tr>\n",
       "\t<tr><td>2017-01-07</td><td>30526.69  </td></tr>\n",
       "\t<tr><td>2017-01-08</td><td>28388.02  </td></tr>\n",
       "\t<tr><td>2017-01-09</td><td>32672.65  </td></tr>\n",
       "\t<tr><td>2017-01-10</td><td>33323.62  </td></tr>\n",
       "\t<tr><td>2017-01-11</td><td>32841.71  </td></tr>\n",
       "\t<tr><td>2017-01-12</td><td>32979.21  </td></tr>\n",
       "\t<tr><td>2017-01-13</td><td>32713.08  </td></tr>\n",
       "\t<tr><td>2017-01-14</td><td>31150.90  </td></tr>\n",
       "\t<tr><td>2017-01-15</td><td>28171.59  </td></tr>\n",
       "\t<tr><td>2017-01-16</td><td>32332.07  </td></tr>\n",
       "\t<tr><td>2017-01-17</td><td>32537.19  </td></tr>\n",
       "\t<tr><td>2017-01-18</td><td>32400.78  </td></tr>\n",
       "\t<tr><td>2017-01-19</td><td>32566.58  </td></tr>\n",
       "\t<tr><td>2017-01-20</td><td>32603.88  </td></tr>\n",
       "\t<tr><td>2017-01-21</td><td>31067.84  </td></tr>\n",
       "\t<tr><td>2017-01-22</td><td>27998.06  </td></tr>\n",
       "\t<tr><td>2017-01-23</td><td>32241.97  </td></tr>\n",
       "\t<tr><td>2017-01-24</td><td>33097.72  </td></tr>\n",
       "\t<tr><td>2017-01-25</td><td>33459.85  </td></tr>\n",
       "\t<tr><td>2017-01-26</td><td>33727.94  </td></tr>\n",
       "\t<tr><td>2017-01-27</td><td>33760.77  </td></tr>\n",
       "\t<tr><td>2017-01-28</td><td>31792.34  </td></tr>\n",
       "\t<tr><td>2017-01-29</td><td>28321.66  </td></tr>\n",
       "\t<tr><td>2017-01-30</td><td>33145.53  </td></tr>\n",
       "\t<tr><td>...</td><td>...</td></tr>\n",
       "\t<tr><td>2021-01-03</td><td>30023.36  </td></tr>\n",
       "\t<tr><td>2021-01-04</td><td>35548.28  </td></tr>\n",
       "\t<tr><td>2021-01-05</td><td>36723.26  </td></tr>\n",
       "\t<tr><td>2021-01-06</td><td>37182.32  </td></tr>\n",
       "\t<tr><td>2021-01-07</td><td>37299.57  </td></tr>\n",
       "\t<tr><td>2021-01-08</td><td>36873.90  </td></tr>\n",
       "\t<tr><td>2021-01-09</td><td>34781.56  </td></tr>\n",
       "\t<tr><td>2021-01-10</td><td>31841.90  </td></tr>\n",
       "\t<tr><td>2021-01-11</td><td>36431.46  </td></tr>\n",
       "\t<tr><td>2021-01-12</td><td>36897.99  </td></tr>\n",
       "\t<tr><td>2021-01-13</td><td>37409.87  </td></tr>\n",
       "\t<tr><td>2021-01-14</td><td>38056.05  </td></tr>\n",
       "\t<tr><td>2021-01-15</td><td>38170.38  </td></tr>\n",
       "\t<tr><td>2021-01-16</td><td>35667.35  </td></tr>\n",
       "\t<tr><td>2021-01-17</td><td>32557.96  </td></tr>\n",
       "\t<tr><td>2021-01-18</td><td>38447.89  </td></tr>\n",
       "\t<tr><td>2021-01-19</td><td>39723.73  </td></tr>\n",
       "\t<tr><td>2021-01-20</td><td>39960.92  </td></tr>\n",
       "\t<tr><td>2021-01-21</td><td>39791.07  </td></tr>\n",
       "\t<tr><td>2021-01-22</td><td>38902.97  </td></tr>\n",
       "\t<tr><td>2021-01-23</td><td>35635.70  </td></tr>\n",
       "\t<tr><td>2021-01-24</td><td>32569.51  </td></tr>\n",
       "\t<tr><td>2021-01-25</td><td>37537.48  </td></tr>\n",
       "\t<tr><td>2021-01-26</td><td>38118.88  </td></tr>\n",
       "\t<tr><td>2021-01-27</td><td>38511.21  </td></tr>\n",
       "\t<tr><td>2021-01-28</td><td>39299.42  </td></tr>\n",
       "\t<tr><td>2021-01-29</td><td>39057.30  </td></tr>\n",
       "\t<tr><td>2021-01-30</td><td>35959.29  </td></tr>\n",
       "\t<tr><td>2021-01-31</td><td>   -1.00  </td></tr>\n",
       "\t<tr><td>2021-02-01</td><td>   -1.00  </td></tr>\n",
       "</tbody>\n",
       "</table>\n"
      ],
      "text/latex": [
       "\\begin{tabular}{r|ll}\n",
       " date & consumption\\\\\n",
       "\\hline\n",
       "\t 2017-01-01 & 28388.02  \\\\\n",
       "\t 2017-01-02 & 31293.86  \\\\\n",
       "\t 2017-01-03 & 32666.97  \\\\\n",
       "\t 2017-01-04 & 33190.91  \\\\\n",
       "\t 2017-01-05 & 32824.98  \\\\\n",
       "\t 2017-01-06 & 31913.98  \\\\\n",
       "\t 2017-01-07 & 30526.69  \\\\\n",
       "\t 2017-01-08 & 28388.02  \\\\\n",
       "\t 2017-01-09 & 32672.65  \\\\\n",
       "\t 2017-01-10 & 33323.62  \\\\\n",
       "\t 2017-01-11 & 32841.71  \\\\\n",
       "\t 2017-01-12 & 32979.21  \\\\\n",
       "\t 2017-01-13 & 32713.08  \\\\\n",
       "\t 2017-01-14 & 31150.90  \\\\\n",
       "\t 2017-01-15 & 28171.59  \\\\\n",
       "\t 2017-01-16 & 32332.07  \\\\\n",
       "\t 2017-01-17 & 32537.19  \\\\\n",
       "\t 2017-01-18 & 32400.78  \\\\\n",
       "\t 2017-01-19 & 32566.58  \\\\\n",
       "\t 2017-01-20 & 32603.88  \\\\\n",
       "\t 2017-01-21 & 31067.84  \\\\\n",
       "\t 2017-01-22 & 27998.06  \\\\\n",
       "\t 2017-01-23 & 32241.97  \\\\\n",
       "\t 2017-01-24 & 33097.72  \\\\\n",
       "\t 2017-01-25 & 33459.85  \\\\\n",
       "\t 2017-01-26 & 33727.94  \\\\\n",
       "\t 2017-01-27 & 33760.77  \\\\\n",
       "\t 2017-01-28 & 31792.34  \\\\\n",
       "\t 2017-01-29 & 28321.66  \\\\\n",
       "\t 2017-01-30 & 33145.53  \\\\\n",
       "\t ... & ...\\\\\n",
       "\t 2021-01-03 & 30023.36  \\\\\n",
       "\t 2021-01-04 & 35548.28  \\\\\n",
       "\t 2021-01-05 & 36723.26  \\\\\n",
       "\t 2021-01-06 & 37182.32  \\\\\n",
       "\t 2021-01-07 & 37299.57  \\\\\n",
       "\t 2021-01-08 & 36873.90  \\\\\n",
       "\t 2021-01-09 & 34781.56  \\\\\n",
       "\t 2021-01-10 & 31841.90  \\\\\n",
       "\t 2021-01-11 & 36431.46  \\\\\n",
       "\t 2021-01-12 & 36897.99  \\\\\n",
       "\t 2021-01-13 & 37409.87  \\\\\n",
       "\t 2021-01-14 & 38056.05  \\\\\n",
       "\t 2021-01-15 & 38170.38  \\\\\n",
       "\t 2021-01-16 & 35667.35  \\\\\n",
       "\t 2021-01-17 & 32557.96  \\\\\n",
       "\t 2021-01-18 & 38447.89  \\\\\n",
       "\t 2021-01-19 & 39723.73  \\\\\n",
       "\t 2021-01-20 & 39960.92  \\\\\n",
       "\t 2021-01-21 & 39791.07  \\\\\n",
       "\t 2021-01-22 & 38902.97  \\\\\n",
       "\t 2021-01-23 & 35635.70  \\\\\n",
       "\t 2021-01-24 & 32569.51  \\\\\n",
       "\t 2021-01-25 & 37537.48  \\\\\n",
       "\t 2021-01-26 & 38118.88  \\\\\n",
       "\t 2021-01-27 & 38511.21  \\\\\n",
       "\t 2021-01-28 & 39299.42  \\\\\n",
       "\t 2021-01-29 & 39057.30  \\\\\n",
       "\t 2021-01-30 & 35959.29  \\\\\n",
       "\t 2021-01-31 &    -1.00  \\\\\n",
       "\t 2021-02-01 &    -1.00  \\\\\n",
       "\\end{tabular}\n"
      ],
      "text/markdown": [
       "\n",
       "| date | consumption |\n",
       "|---|---|\n",
       "| 2017-01-01 | 28388.02   |\n",
       "| 2017-01-02 | 31293.86   |\n",
       "| 2017-01-03 | 32666.97   |\n",
       "| 2017-01-04 | 33190.91   |\n",
       "| 2017-01-05 | 32824.98   |\n",
       "| 2017-01-06 | 31913.98   |\n",
       "| 2017-01-07 | 30526.69   |\n",
       "| 2017-01-08 | 28388.02   |\n",
       "| 2017-01-09 | 32672.65   |\n",
       "| 2017-01-10 | 33323.62   |\n",
       "| 2017-01-11 | 32841.71   |\n",
       "| 2017-01-12 | 32979.21   |\n",
       "| 2017-01-13 | 32713.08   |\n",
       "| 2017-01-14 | 31150.90   |\n",
       "| 2017-01-15 | 28171.59   |\n",
       "| 2017-01-16 | 32332.07   |\n",
       "| 2017-01-17 | 32537.19   |\n",
       "| 2017-01-18 | 32400.78   |\n",
       "| 2017-01-19 | 32566.58   |\n",
       "| 2017-01-20 | 32603.88   |\n",
       "| 2017-01-21 | 31067.84   |\n",
       "| 2017-01-22 | 27998.06   |\n",
       "| 2017-01-23 | 32241.97   |\n",
       "| 2017-01-24 | 33097.72   |\n",
       "| 2017-01-25 | 33459.85   |\n",
       "| 2017-01-26 | 33727.94   |\n",
       "| 2017-01-27 | 33760.77   |\n",
       "| 2017-01-28 | 31792.34   |\n",
       "| 2017-01-29 | 28321.66   |\n",
       "| 2017-01-30 | 33145.53   |\n",
       "| ... | ... |\n",
       "| 2021-01-03 | 30023.36   |\n",
       "| 2021-01-04 | 35548.28   |\n",
       "| 2021-01-05 | 36723.26   |\n",
       "| 2021-01-06 | 37182.32   |\n",
       "| 2021-01-07 | 37299.57   |\n",
       "| 2021-01-08 | 36873.90   |\n",
       "| 2021-01-09 | 34781.56   |\n",
       "| 2021-01-10 | 31841.90   |\n",
       "| 2021-01-11 | 36431.46   |\n",
       "| 2021-01-12 | 36897.99   |\n",
       "| 2021-01-13 | 37409.87   |\n",
       "| 2021-01-14 | 38056.05   |\n",
       "| 2021-01-15 | 38170.38   |\n",
       "| 2021-01-16 | 35667.35   |\n",
       "| 2021-01-17 | 32557.96   |\n",
       "| 2021-01-18 | 38447.89   |\n",
       "| 2021-01-19 | 39723.73   |\n",
       "| 2021-01-20 | 39960.92   |\n",
       "| 2021-01-21 | 39791.07   |\n",
       "| 2021-01-22 | 38902.97   |\n",
       "| 2021-01-23 | 35635.70   |\n",
       "| 2021-01-24 | 32569.51   |\n",
       "| 2021-01-25 | 37537.48   |\n",
       "| 2021-01-26 | 38118.88   |\n",
       "| 2021-01-27 | 38511.21   |\n",
       "| 2021-01-28 | 39299.42   |\n",
       "| 2021-01-29 | 39057.30   |\n",
       "| 2021-01-30 | 35959.29   |\n",
       "| 2021-01-31 |    -1.00   |\n",
       "| 2021-02-01 |    -1.00   |\n",
       "\n"
      ],
      "text/plain": [
       "     date       consumption\n",
       "1    2017-01-01 28388.02   \n",
       "2    2017-01-02 31293.86   \n",
       "3    2017-01-03 32666.97   \n",
       "4    2017-01-04 33190.91   \n",
       "5    2017-01-05 32824.98   \n",
       "6    2017-01-06 31913.98   \n",
       "7    2017-01-07 30526.69   \n",
       "8    2017-01-08 28388.02   \n",
       "9    2017-01-09 32672.65   \n",
       "10   2017-01-10 33323.62   \n",
       "11   2017-01-11 32841.71   \n",
       "12   2017-01-12 32979.21   \n",
       "13   2017-01-13 32713.08   \n",
       "14   2017-01-14 31150.90   \n",
       "15   2017-01-15 28171.59   \n",
       "16   2017-01-16 32332.07   \n",
       "17   2017-01-17 32537.19   \n",
       "18   2017-01-18 32400.78   \n",
       "19   2017-01-19 32566.58   \n",
       "20   2017-01-20 32603.88   \n",
       "21   2017-01-21 31067.84   \n",
       "22   2017-01-22 27998.06   \n",
       "23   2017-01-23 32241.97   \n",
       "24   2017-01-24 33097.72   \n",
       "25   2017-01-25 33459.85   \n",
       "26   2017-01-26 33727.94   \n",
       "27   2017-01-27 33760.77   \n",
       "28   2017-01-28 31792.34   \n",
       "29   2017-01-29 28321.66   \n",
       "30   2017-01-30 33145.53   \n",
       "...  ...        ...        \n",
       "1464 2021-01-03 30023.36   \n",
       "1465 2021-01-04 35548.28   \n",
       "1466 2021-01-05 36723.26   \n",
       "1467 2021-01-06 37182.32   \n",
       "1468 2021-01-07 37299.57   \n",
       "1469 2021-01-08 36873.90   \n",
       "1470 2021-01-09 34781.56   \n",
       "1471 2021-01-10 31841.90   \n",
       "1472 2021-01-11 36431.46   \n",
       "1473 2021-01-12 36897.99   \n",
       "1474 2021-01-13 37409.87   \n",
       "1475 2021-01-14 38056.05   \n",
       "1476 2021-01-15 38170.38   \n",
       "1477 2021-01-16 35667.35   \n",
       "1478 2021-01-17 32557.96   \n",
       "1479 2021-01-18 38447.89   \n",
       "1480 2021-01-19 39723.73   \n",
       "1481 2021-01-20 39960.92   \n",
       "1482 2021-01-21 39791.07   \n",
       "1483 2021-01-22 38902.97   \n",
       "1484 2021-01-23 35635.70   \n",
       "1485 2021-01-24 32569.51   \n",
       "1486 2021-01-25 37537.48   \n",
       "1487 2021-01-26 38118.88   \n",
       "1488 2021-01-27 38511.21   \n",
       "1489 2021-01-28 39299.42   \n",
       "1490 2021-01-29 39057.30   \n",
       "1491 2021-01-30 35959.29   \n",
       "1492 2021-01-31    -1.00   \n",
       "1493 2021-02-01    -1.00   "
      ]
     },
     "metadata": {},
     "output_type": "display_data"
    }
   ],
   "source": [
    "pred_dt"
   ]
  },
  {
   "cell_type": "markdown",
   "metadata": {},
   "source": [
    "# ARIMA Models"
   ]
  },
  {
   "cell_type": "code",
   "execution_count": 54,
   "metadata": {},
   "outputs": [
    {
     "name": "stdout",
     "output_type": "stream",
     "text": [
      "\n",
      " Fitting models using approximations to speed things up...\n",
      "\n",
      " ARIMA(2,0,2)(1,0,1)[7] with non-zero mean : Inf\n",
      " ARIMA(0,0,0)           with non-zero mean : 21964.84\n",
      " ARIMA(1,0,0)(1,0,0)[7] with non-zero mean : 21779.02\n",
      " ARIMA(0,0,1)(0,0,1)[7] with non-zero mean : 21726.25\n",
      " ARIMA(0,0,0)           with zero mean     : 21962.83\n",
      " ARIMA(0,0,1)           with non-zero mean : 21771.95\n",
      " ARIMA(0,0,1)(1,0,1)[7] with non-zero mean : 21696.12\n",
      " ARIMA(0,0,1)(1,0,0)[7] with non-zero mean : 21711.95\n",
      " ARIMA(0,0,1)(2,0,1)[7] with non-zero mean : 21698.16\n",
      " ARIMA(0,0,1)(1,0,2)[7] with non-zero mean : 21697.97\n",
      " ARIMA(0,0,1)(0,0,2)[7] with non-zero mean : 21711.65\n",
      " ARIMA(0,0,1)(2,0,0)[7] with non-zero mean : 21704.45\n",
      " ARIMA(0,0,1)(2,0,2)[7] with non-zero mean : 21700.18\n",
      " ARIMA(0,0,0)(1,0,1)[7] with non-zero mean : 21868.39\n",
      " ARIMA(1,0,1)(1,0,1)[7] with non-zero mean : 21697.12\n",
      " ARIMA(0,0,2)(1,0,1)[7] with non-zero mean : 21615.2\n",
      " ARIMA(0,0,2)(0,0,1)[7] with non-zero mean : 21610.69\n",
      " ARIMA(0,0,2)           with non-zero mean : 21625.16\n",
      " ARIMA(0,0,2)(0,0,2)[7] with non-zero mean : Inf\n",
      " ARIMA(0,0,2)(1,0,0)[7] with non-zero mean : 21614.7\n",
      " ARIMA(0,0,2)(1,0,2)[7] with non-zero mean : 21608.44\n",
      " ARIMA(0,0,2)(2,0,2)[7] with non-zero mean : Inf\n",
      " ARIMA(0,0,2)(2,0,1)[7] with non-zero mean : Inf\n",
      " ARIMA(1,0,2)(1,0,2)[7] with non-zero mean : Inf\n",
      " ARIMA(0,0,3)(1,0,2)[7] with non-zero mean : 21244.22\n",
      " ARIMA(0,0,3)(0,0,2)[7] with non-zero mean : Inf\n",
      " ARIMA(0,0,3)(1,0,1)[7] with non-zero mean : 21255.27\n",
      " ARIMA(0,0,3)(2,0,2)[7] with non-zero mean : Inf\n",
      " ARIMA(0,0,3)(0,0,1)[7] with non-zero mean : Inf\n",
      " ARIMA(0,0,3)(2,0,1)[7] with non-zero mean : Inf\n",
      " ARIMA(1,0,3)(1,0,2)[7] with non-zero mean : Inf\n",
      " ARIMA(0,0,4)(1,0,2)[7] with non-zero mean : 21217.4\n",
      " ARIMA(0,0,4)(0,0,2)[7] with non-zero mean : Inf\n",
      " ARIMA(0,0,4)(1,0,1)[7] with non-zero mean : 21229.92\n",
      " ARIMA(0,0,4)(2,0,2)[7] with non-zero mean : Inf\n",
      " ARIMA(0,0,4)(0,0,1)[7] with non-zero mean : Inf\n",
      " ARIMA(0,0,4)(2,0,1)[7] with non-zero mean : Inf\n",
      " ARIMA(1,0,4)(1,0,2)[7] with non-zero mean : Inf\n",
      " ARIMA(0,0,5)(1,0,2)[7] with non-zero mean : 21215.12\n",
      " ARIMA(0,0,5)(0,0,2)[7] with non-zero mean : Inf\n",
      " ARIMA(0,0,5)(1,0,1)[7] with non-zero mean : 21228.92\n",
      " ARIMA(0,0,5)(2,0,2)[7] with non-zero mean : Inf\n",
      " ARIMA(0,0,5)(0,0,1)[7] with non-zero mean : Inf\n",
      " ARIMA(0,0,5)(2,0,1)[7] with non-zero mean : Inf\n",
      " ARIMA(1,0,5)(1,0,2)[7] with non-zero mean : Inf\n",
      " ARIMA(0,0,5)(1,0,2)[7] with zero mean     : 21213.52\n",
      " ARIMA(0,0,5)(0,0,2)[7] with zero mean     : Inf\n",
      " ARIMA(0,0,5)(1,0,1)[7] with zero mean     : 21227.28\n",
      " ARIMA(0,0,5)(2,0,2)[7] with zero mean     : Inf\n",
      " ARIMA(0,0,5)(0,0,1)[7] with zero mean     : Inf\n",
      " ARIMA(0,0,5)(2,0,1)[7] with zero mean     : Inf\n",
      " ARIMA(0,0,4)(1,0,2)[7] with zero mean     : 21215.87\n",
      " ARIMA(1,0,5)(1,0,2)[7] with zero mean     : Inf\n",
      " ARIMA(1,0,4)(1,0,2)[7] with zero mean     : Inf\n",
      "\n",
      " Now re-fitting the best model(s) without approximations...\n",
      "\n",
      " ARIMA(0,0,5)(1,0,2)[7] with zero mean     : Inf\n",
      " ARIMA(0,0,5)(1,0,2)[7] with non-zero mean : Inf\n",
      " ARIMA(0,0,4)(1,0,2)[7] with zero mean     : Inf\n",
      " ARIMA(0,0,4)(1,0,2)[7] with non-zero mean : Inf\n",
      " ARIMA(0,0,5)(1,0,1)[7] with zero mean     : Inf\n",
      " ARIMA(0,0,5)(1,0,1)[7] with non-zero mean : Inf\n",
      " ARIMA(0,0,4)(1,0,1)[7] with non-zero mean : Inf\n",
      " ARIMA(0,0,3)(1,0,2)[7] with non-zero mean : Inf\n",
      " ARIMA(0,0,3)(1,0,1)[7] with non-zero mean : Inf\n",
      " ARIMA(0,0,2)(1,0,2)[7] with non-zero mean : Inf\n",
      " ARIMA(0,0,2)(0,0,1)[7] with non-zero mean : Inf\n",
      " ARIMA(0,0,2)(1,0,0)[7] with non-zero mean : 21608.96\n",
      "\n",
      " Best model: ARIMA(0,0,2)(1,0,0)[7] with non-zero mean \n",
      "\n"
     ]
    }
   ],
   "source": [
    "fitted=auto.arima(last_decomp$random,trace=T)"
   ]
  },
  {
   "cell_type": "code",
   "execution_count": 55,
   "metadata": {},
   "outputs": [
    {
     "data": {
      "text/plain": [
       "Series: last_decomp$random \n",
       "ARIMA(0,0,2)(1,0,0)[7] with non-zero mean \n",
       "\n",
       "Coefficients:\n",
       "          ma1      ma2    sar1     mean\n",
       "      -0.2687  -0.6777  0.1249  -0.0348\n",
       "s.e.   0.0181   0.0166  0.0284   0.6382\n",
       "\n",
       "sigma^2 estimated as 152788:  log likelihood=-10799.46\n",
       "AIC=21608.92   AICc=21608.96   BIC=21635.35"
      ]
     },
     "metadata": {},
     "output_type": "display_data"
    }
   ],
   "source": [
    "fitted"
   ]
  },
  {
   "cell_type": "code",
   "execution_count": 56,
   "metadata": {},
   "outputs": [
    {
     "data": {
      "image/png": "[encoded data removed]",
      "text/plain": [
       "Plot with title \"\""
      ]
     },
     "metadata": {},
     "output_type": "display_data"
    }
   ],
   "source": [
    "tsdisplay(residuals(fitted),main=\"General Look of ARIMA(0,0,2)(1,0,0)[7] Model\")"
   ]
  },
  {
   "cell_type": "code",
   "execution_count": 57,
   "metadata": {},
   "outputs": [
    {
     "data": {
      "text/plain": [
       "\n",
       "Call:\n",
       "arima(x = last_decomp$random, order = c(3, 0, 2), seasonal = c(0, 0, 1))\n",
       "\n",
       "Coefficients:\n",
       "         ar1     ar2      ar3      ma1      ma2    sma1  intercept\n",
       "      0.1212  0.3914  -0.4867  -0.0875  -0.8533  0.1125    -0.0177\n",
       "s.e.  0.0653  0.0653   0.0358   0.0649   0.0649  0.0278     0.6172\n",
       "\n",
       "sigma^2 estimated as 116806:  log likelihood = -10605.32,  aic = 21226.63"
      ]
     },
     "metadata": {},
     "output_type": "display_data"
    }
   ],
   "source": [
    "fitted_new=arima(last_decomp$random,order=c(3,0,2),seasonal = c(0,0,1))\n",
    "fitted_new"
   ]
  },
  {
   "cell_type": "code",
   "execution_count": 58,
   "metadata": {},
   "outputs": [
    {
     "data": {
      "image/png": "[encoded data removed]",
      "text/plain": [
       "Plot with title \"\""
      ]
     },
     "metadata": {},
     "output_type": "display_data"
    }
   ],
   "source": [
    "tsdisplay(residuals(fitted_new),main=\"General Look of ARIMA(3,0,2)(0,0,1) Model\")"
   ]
  },
  {
   "cell_type": "markdown",
   "metadata": {},
   "source": [
    "# Predictions"
   ]
  },
  {
   "cell_type": "code",
   "execution_count": 59,
   "metadata": {},
   "outputs": [],
   "source": [
    "pred_dt=rbind(train_feat,test,fill=TRUE)\n",
    "pred_dt=pred_dt[,c(1,2)]\n",
    "pred_dt=as.data.table(pred_dt)"
   ]
  },
  {
   "cell_type": "code",
   "execution_count": 60,
   "metadata": {},
   "outputs": [
    {
     "name": "stdout",
     "output_type": "stream",
     "text": [
      "Classes 'data.table' and 'data.frame':\t1493 obs. of  2 variables:\n",
      " $ date       : Date, format: \"2017-01-01\" \"2017-01-02\" ...\n",
      " $ consumption: num  28388 31294 32667 33191 32825 ...\n",
      " - attr(*, \".internal.selfref\")=<externalptr> \n"
     ]
    }
   ],
   "source": [
    "str(pred_dt)"
   ]
  },
  {
   "cell_type": "code",
   "execution_count": 61,
   "metadata": {},
   "outputs": [],
   "source": [
    "# write.csv(data,\"current_data.csv\")"
   ]
  },
  {
   "cell_type": "code",
   "execution_count": 62,
   "metadata": {
    "scrolled": false
   },
   "outputs": [
    {
     "name": "stdout",
     "output_type": "stream",
     "text": [
      "[1] \"2021-01-09\"\n",
      "[1] \"2021-01-10\"\n",
      "[1] \"2021-01-11\"\n",
      "[1] \"2021-01-12\"\n",
      "[1] \"2021-01-13\"\n",
      "[1] \"2021-01-14\"\n",
      "[1] \"2021-01-15\"\n",
      "[1] \"2021-01-16\"\n",
      "[1] \"2021-01-17\"\n",
      "[1] \"2021-01-18\"\n",
      "[1] \"2021-01-19\"\n",
      "[1] \"2021-01-20\"\n",
      "[1] \"2021-01-21\"\n",
      "[1] \"2021-01-22\"\n"
     ]
    }
   ],
   "source": [
    "test_start=as.Date(\"2021-01-08\")\n",
    "\n",
    "results=vector(\"list\",14)\n",
    "\n",
    "for(i in 1:14){\n",
    "    current_test_date=test_start+i\n",
    "    train_data=pred_dt[date<current_test_date]\n",
    "    test_data=pred_dt[date==current_test_date]\n",
    "    print(current_test_date)\n",
    "    decomp=decompose(ts(train_data$consumption,freq=7),type=\"add\")\n",
    "    rand_val=decomp$random\n",
    "    fit_mod=arima(rand_val, order=c(3,0,2), seasonal = list(order = c(0, 0, 1), period = 7))\n",
    "    test_data[,forecasted:=as.numeric(predict(fit_mod, n.ahead = 1)$pred + decomp$season[wday(current_test_date)] +\n",
    "                                     tail(decomp$trend[!is.na(decomp$trend)],1))]\n",
    "    results[[i+1]]=test_data\n",
    "}"
   ]
  },
  {
   "cell_type": "code",
   "execution_count": 63,
   "metadata": {},
   "outputs": [],
   "source": [
    "res_dt=rbindlist(results)"
   ]
  },
  {
   "cell_type": "code",
   "execution_count": 64,
   "metadata": {},
   "outputs": [],
   "source": [
    "# res_dt"
   ]
  },
  {
   "cell_type": "code",
   "execution_count": 65,
   "metadata": {},
   "outputs": [
    {
     "data": {
      "text/html": [
       "<table>\n",
       "<thead><tr><th scope=col>name</th><th scope=col>n</th><th scope=col>mean</th><th scope=col>sd</th><th scope=col>FBias</th><th scope=col>MAPE</th><th scope=col>RMSE</th><th scope=col>MAD</th><th scope=col>WMAPE</th></tr></thead>\n",
       "<tbody>\n",
       "\t<tr><td>Predictions in Arima with Slicing Window</td><td>14                                      </td><td>37045.79                                </td><td>2567.339                                </td><td>0.01961258                              </td><td>0.01901392                              </td><td>267.0696                                </td><td>728.0602                                </td><td>0.01965298                              </td></tr>\n",
       "</tbody>\n",
       "</table>\n"
      ],
      "text/latex": [
       "\\begin{tabular}{r|lllllllll}\n",
       " name & n & mean & sd & FBias & MAPE & RMSE & MAD & WMAPE\\\\\n",
       "\\hline\n",
       "\t Predictions in Arima with Slicing Window & 14                                       & 37045.79                                 & 2567.339                                 & 0.01961258                               & 0.01901392                               & 267.0696                                 & 728.0602                                 & 0.01965298                              \\\\\n",
       "\\end{tabular}\n"
      ],
      "text/markdown": [
       "\n",
       "| name | n | mean | sd | FBias | MAPE | RMSE | MAD | WMAPE |\n",
       "|---|---|---|---|---|---|---|---|---|\n",
       "| Predictions in Arima with Slicing Window | 14                                       | 37045.79                                 | 2567.339                                 | 0.01961258                               | 0.01901392                               | 267.0696                                 | 728.0602                                 | 0.01965298                               |\n",
       "\n"
      ],
      "text/plain": [
       "  name                                     n  mean     sd       FBias     \n",
       "1 Predictions in Arima with Slicing Window 14 37045.79 2567.339 0.01961258\n",
       "  MAPE       RMSE     MAD      WMAPE     \n",
       "1 0.01901392 267.0696 728.0602 0.01965298"
      ]
     },
     "metadata": {},
     "output_type": "display_data"
    }
   ],
   "source": [
    "perf_dt(\"Predictions in Arima with Slicing Window\", res_dt$consumption, res_dt$forecasted)"
   ]
  },
  {
   "cell_type": "markdown",
   "metadata": {},
   "source": [
    "# Residual Check"
   ]
  },
  {
   "cell_type": "code",
   "execution_count": 66,
   "metadata": {},
   "outputs": [],
   "source": [
    "feature_cont=read.csv(\"C:/Users/bahad/GitHub/360project/all_features_df.csv\")\n",
    "feature_cont=as.data.table(feature_cont)\n",
    "feature_cont$date=as.Date(feature_cont$date)\n",
    "temp_all=fread(\"bulk_consumption_with_temp.csv\")\n",
    "temp_all$Date=as.Date(temp_all$Date)\n",
    "temp_all=rbind(temp_all, data)"
   ]
  },
  {
   "cell_type": "code",
   "execution_count": 67,
   "metadata": {},
   "outputs": [
    {
     "name": "stderr",
     "output_type": "stream",
     "text": [
      "`summarise()` ungrouping output (override with `.groups` argument)\n"
     ]
    }
   ],
   "source": [
    "temp_df =temp_all %>% \n",
    "  group_by(Date) %>% \n",
    "  summarise(consumption = mean(Consumption),\n",
    "            reduced_tmp = mean(0.3794502 * T_1 + \n",
    "                          0.3748089 * T_2 + 0.3782977 * T_3 + \n",
    "                          0.3800144 * T_4 + 0.3790882 * T_5 + \n",
    "                          0.3803995 * T_6 + 0.3736363 * T_7),\n",
    "            reduced_tmp_max = max(0.3794502 * T_1 + \n",
    "                          0.3748089 * T_2 + 0.3782977 * T_3 + \n",
    "                          0.3800144 * T_4 + 0.3790882 * T_5 + \n",
    "                          0.3803995 * T_6 + 0.3736363 * T_7),\n",
    "            reduced_tmp_min = min(0.3794502 * T_1 + \n",
    "                          0.3748089 * T_2 + 0.3782977 * T_3 + \n",
    "                          0.3800144 * T_4 + 0.3790882 * T_5 + \n",
    "                          0.3803995 * T_6 + 0.3736363 * T_7)\n",
    "           )\n",
    "temp_dt=as.data.table(temp_df)\n"
   ]
  },
  {
   "cell_type": "code",
   "execution_count": 75,
   "metadata": {},
   "outputs": [],
   "source": [
    "final_feat_dt=merge(feature_cont[,c(1,4,5,6,7,8,9)],temp_dt[, c(1,2,3,4,5)],by.x=\"date\", by.y=\"Date\")"
   ]
  },
  {
   "cell_type": "code",
   "execution_count": 103,
   "metadata": {},
   "outputs": [
    {
     "data": {
      "text/html": [
       "<table>\n",
       "<thead><tr><th scope=col>date</th><th scope=col>month_factor</th><th scope=col>lock_down_factor</th><th scope=col>covid_severity</th><th scope=col>sunlight_time_minutes</th><th scope=col>production_capacity_rate</th><th scope=col>price_of_electricity</th><th scope=col>consumption</th><th scope=col>reduced_tmp</th><th scope=col>reduced_tmp_max</th><th scope=col>reduced_tmp_min</th></tr></thead>\n",
       "<tbody>\n",
       "\t<tr><td>2021-01-27  </td><td>1           </td><td>1           </td><td>37.21307    </td><td>596         </td><td>75.4        </td><td>55.1544     </td><td>38511.21    </td><td>16.235009   </td><td>22.982317   </td><td> 6.759384398</td></tr>\n",
       "\t<tr><td>2021-01-28  </td><td>1           </td><td>1           </td><td>38.97561    </td><td>598         </td><td>75.4        </td><td>55.1544     </td><td>39299.42    </td><td> 3.809815   </td><td> 9.291755   </td><td>-0.005150026</td></tr>\n",
       "\t<tr><td>2021-01-29  </td><td>1           </td><td>1           </td><td>30.62915    </td><td>599         </td><td>75.4        </td><td>55.1544     </td><td>39057.30    </td><td> 2.670273   </td><td>11.131276   </td><td>-3.751004985</td></tr>\n",
       "\t<tr><td>2021-01-30  </td><td>1           </td><td>2           </td><td>26.73554    </td><td>602         </td><td>75.4        </td><td>55.1544     </td><td>35959.29    </td><td> 9.106372   </td><td>17.487340   </td><td> 1.807828270</td></tr>\n",
       "\t<tr><td>2021-01-31  </td><td>1           </td><td>2           </td><td>26.15802    </td><td>604         </td><td>75.4        </td><td>55.1544     </td><td>   -1.00    </td><td>14.954697   </td><td>25.233207   </td><td> 7.681600213</td></tr>\n",
       "\t<tr><td>2021-02-01  </td><td>2           </td><td>1           </td><td>30.36288    </td><td>606         </td><td>75.5        </td><td>55.1544     </td><td>   -1.00    </td><td>19.753408   </td><td>31.624954   </td><td>12.415641098</td></tr>\n",
       "</tbody>\n",
       "</table>\n"
      ],
      "text/latex": [
       "\\begin{tabular}{r|lllllllllll}\n",
       " date & month\\_factor & lock\\_down\\_factor & covid\\_severity & sunlight\\_time\\_minutes & production\\_capacity\\_rate & price\\_of\\_electricity & consumption & reduced\\_tmp & reduced\\_tmp\\_max & reduced\\_tmp\\_min\\\\\n",
       "\\hline\n",
       "\t 2021-01-27   & 1            & 1            & 37.21307     & 596          & 75.4         & 55.1544      & 38511.21     & 16.235009    & 22.982317    &  6.759384398\\\\\n",
       "\t 2021-01-28   & 1            & 1            & 38.97561     & 598          & 75.4         & 55.1544      & 39299.42     &  3.809815    &  9.291755    & -0.005150026\\\\\n",
       "\t 2021-01-29   & 1            & 1            & 30.62915     & 599          & 75.4         & 55.1544      & 39057.30     &  2.670273    & 11.131276    & -3.751004985\\\\\n",
       "\t 2021-01-30   & 1            & 2            & 26.73554     & 602          & 75.4         & 55.1544      & 35959.29     &  9.106372    & 17.487340    &  1.807828270\\\\\n",
       "\t 2021-01-31   & 1            & 2            & 26.15802     & 604          & 75.4         & 55.1544      &    -1.00     & 14.954697    & 25.233207    &  7.681600213\\\\\n",
       "\t 2021-02-01   & 2            & 1            & 30.36288     & 606          & 75.5         & 55.1544      &    -1.00     & 19.753408    & 31.624954    & 12.415641098\\\\\n",
       "\\end{tabular}\n"
      ],
      "text/markdown": [
       "\n",
       "| date | month_factor | lock_down_factor | covid_severity | sunlight_time_minutes | production_capacity_rate | price_of_electricity | consumption | reduced_tmp | reduced_tmp_max | reduced_tmp_min |\n",
       "|---|---|---|---|---|---|---|---|---|---|---|\n",
       "| 2021-01-27   | 1            | 1            | 37.21307     | 596          | 75.4         | 55.1544      | 38511.21     | 16.235009    | 22.982317    |  6.759384398 |\n",
       "| 2021-01-28   | 1            | 1            | 38.97561     | 598          | 75.4         | 55.1544      | 39299.42     |  3.809815    |  9.291755    | -0.005150026 |\n",
       "| 2021-01-29   | 1            | 1            | 30.62915     | 599          | 75.4         | 55.1544      | 39057.30     |  2.670273    | 11.131276    | -3.751004985 |\n",
       "| 2021-01-30   | 1            | 2            | 26.73554     | 602          | 75.4         | 55.1544      | 35959.29     |  9.106372    | 17.487340    |  1.807828270 |\n",
       "| 2021-01-31   | 1            | 2            | 26.15802     | 604          | 75.4         | 55.1544      |    -1.00     | 14.954697    | 25.233207    |  7.681600213 |\n",
       "| 2021-02-01   | 2            | 1            | 30.36288     | 606          | 75.5         | 55.1544      |    -1.00     | 19.753408    | 31.624954    | 12.415641098 |\n",
       "\n"
      ],
      "text/plain": [
       "  date       month_factor lock_down_factor covid_severity sunlight_time_minutes\n",
       "1 2021-01-27 1            1                37.21307       596                  \n",
       "2 2021-01-28 1            1                38.97561       598                  \n",
       "3 2021-01-29 1            1                30.62915       599                  \n",
       "4 2021-01-30 1            2                26.73554       602                  \n",
       "5 2021-01-31 1            2                26.15802       604                  \n",
       "6 2021-02-01 2            1                30.36288       606                  \n",
       "  production_capacity_rate price_of_electricity consumption reduced_tmp\n",
       "1 75.4                     55.1544              38511.21    16.235009  \n",
       "2 75.4                     55.1544              39299.42     3.809815  \n",
       "3 75.4                     55.1544              39057.30     2.670273  \n",
       "4 75.4                     55.1544              35959.29     9.106372  \n",
       "5 75.4                     55.1544                 -1.00    14.954697  \n",
       "6 75.5                     55.1544                 -1.00    19.753408  \n",
       "  reduced_tmp_max reduced_tmp_min\n",
       "1 22.982317        6.759384398   \n",
       "2  9.291755       -0.005150026   \n",
       "3 11.131276       -3.751004985   \n",
       "4 17.487340        1.807828270   \n",
       "5 25.233207        7.681600213   \n",
       "6 31.624954       12.415641098   "
      ]
     },
     "metadata": {},
     "output_type": "display_data"
    }
   ],
   "source": [
    "tail(final_feat_dt)"
   ]
  },
  {
   "cell_type": "code",
   "execution_count": 77,
   "metadata": {},
   "outputs": [
    {
     "name": "stdout",
     "output_type": "stream",
     "text": [
      "Classes 'data.table' and 'data.frame':\t1493 obs. of  11 variables:\n",
      " $ date                    : Date, format: \"2017-01-01\" \"2017-01-02\" ...\n",
      " $ month_factor            : num  1 1 1 1 1 1 1 1 1 1 ...\n",
      " $ lock_down_factor        : num  0 0 0 0 0 0 0 0 0 0 ...\n",
      " $ covid_severity          : num  0 0 0 0 0 0 0 0 0 0 ...\n",
      " $ sunlight_time_minutes   : int  558 558 559 560 561 562 563 564 565 567 ...\n",
      " $ production_capacity_rate: num  77 77 77 77 77 77 77 77 77 77 ...\n",
      " $ price_of_electricity    : num  20.5 20.5 20.5 20.5 20.5 ...\n",
      " $ consumption             : num  25975 31294 32667 33191 32825 ...\n",
      " $ reduced_tmp             : num  -11.83 -7.656 -7.598 -0.709 10.211 ...\n",
      " $ reduced_tmp_max         : num  5.18 4.15 10.53 13.48 15.04 ...\n",
      " $ reduced_tmp_min         : num  -20.18 -14.48 -16 -11.94 4.19 ...\n",
      " - attr(*, \".internal.selfref\")=<externalptr> \n",
      " - attr(*, \"sorted\")= chr \"date\"\n"
     ]
    }
   ],
   "source": [
    "str(final_feat_dt)"
   ]
  },
  {
   "cell_type": "code",
   "execution_count": 100,
   "metadata": {
    "scrolled": false
   },
   "outputs": [
    {
     "data": {
      "text/plain": [
       "\n",
       "Call:\n",
       "lm(formula = consumption ~ . - date, data = final_feat_dt)\n",
       "\n",
       "Residuals:\n",
       "   Min     1Q Median     3Q    Max \n",
       "-33354  -1823    100   2102   7556 \n",
       "\n",
       "Coefficients:\n",
       "                          Estimate Std. Error t value Pr(>|t|)    \n",
       "(Intercept)               6331.084   3227.132   1.962 0.049969 *  \n",
       "month_factor              -221.672     33.661  -6.585 6.28e-11 ***\n",
       "lock_down_factor         -2339.970    262.303  -8.921  < 2e-16 ***\n",
       "covid_severity              30.699      6.336   4.845 1.40e-06 ***\n",
       "sunlight_time_minutes       -7.360      1.651  -4.459 8.87e-06 ***\n",
       "production_capacity_rate   365.765     33.488  10.922  < 2e-16 ***\n",
       "price_of_electricity       108.292     10.250  10.565  < 2e-16 ***\n",
       "reduced_tmp                401.203    124.628   3.219 0.001313 ** \n",
       "reduced_tmp_max           -215.626     58.750  -3.670 0.000251 ***\n",
       "reduced_tmp_min           -109.576     71.155  -1.540 0.123784    \n",
       "---\n",
       "Signif. codes:  0 '***' 0.001 '**' 0.01 '*' 0.05 '.' 0.1 ' ' 1\n",
       "\n",
       "Residual standard error: 3244 on 1483 degrees of freedom\n",
       "Multiple R-squared:  0.2232,\tAdjusted R-squared:  0.2185 \n",
       "F-statistic: 47.35 on 9 and 1483 DF,  p-value: < 2.2e-16\n"
      ]
     },
     "metadata": {},
     "output_type": "display_data"
    },
    {
     "name": "stdout",
     "output_type": "stream",
     "text": [
      "Start:  AIC=24150.27\n",
      "consumption ~ (date + month_factor + lock_down_factor + covid_severity + \n",
      "    sunlight_time_minutes + production_capacity_rate + price_of_electricity + \n",
      "    reduced_tmp + reduced_tmp_max + reduced_tmp_min) - date\n",
      "\n",
      "                           Df  Sum of Sq        RSS   AIC\n",
      "<none>                                   1.5604e+10 24150\n",
      "- reduced_tmp_min           1   24952841 1.5629e+10 24151\n",
      "- reduced_tmp               1  109043424 1.5713e+10 24159\n",
      "- reduced_tmp_max           1  141740858 1.5746e+10 24162\n",
      "- sunlight_time_minutes     1  209171414 1.5813e+10 24168\n",
      "- covid_severity            1  247009263 1.5851e+10 24172\n",
      "- month_factor              1  456315567 1.6061e+10 24191\n",
      "- lock_down_factor          1  837369506 1.6442e+10 24226\n",
      "- price_of_electricity      1 1174579401 1.6779e+10 24257\n",
      "- production_capacity_rate  1 1255217001 1.6860e+10 24264\n"
     ]
    },
    {
     "data": {
      "text/plain": [
       "\n",
       "Call:\n",
       "lm(formula = consumption ~ (date + month_factor + lock_down_factor + \n",
       "    covid_severity + sunlight_time_minutes + production_capacity_rate + \n",
       "    price_of_electricity + reduced_tmp + reduced_tmp_max + reduced_tmp_min) - \n",
       "    date, data = final_feat_dt)\n",
       "\n",
       "Residuals:\n",
       "   Min     1Q Median     3Q    Max \n",
       "-33354  -1823    100   2102   7556 \n",
       "\n",
       "Coefficients:\n",
       "                          Estimate Std. Error t value Pr(>|t|)    \n",
       "(Intercept)               6331.084   3227.132   1.962 0.049969 *  \n",
       "month_factor              -221.672     33.661  -6.585 6.28e-11 ***\n",
       "lock_down_factor         -2339.970    262.303  -8.921  < 2e-16 ***\n",
       "covid_severity              30.699      6.336   4.845 1.40e-06 ***\n",
       "sunlight_time_minutes       -7.360      1.651  -4.459 8.87e-06 ***\n",
       "production_capacity_rate   365.765     33.488  10.922  < 2e-16 ***\n",
       "price_of_electricity       108.292     10.250  10.565  < 2e-16 ***\n",
       "reduced_tmp                401.203    124.628   3.219 0.001313 ** \n",
       "reduced_tmp_max           -215.626     58.750  -3.670 0.000251 ***\n",
       "reduced_tmp_min           -109.576     71.155  -1.540 0.123784    \n",
       "---\n",
       "Signif. codes:  0 '***' 0.001 '**' 0.01 '*' 0.05 '.' 0.1 ' ' 1\n",
       "\n",
       "Residual standard error: 3244 on 1483 degrees of freedom\n",
       "Multiple R-squared:  0.2232,\tAdjusted R-squared:  0.2185 \n",
       "F-statistic: 47.35 on 9 and 1483 DF,  p-value: < 2.2e-16\n"
      ]
     },
     "metadata": {},
     "output_type": "display_data"
    }
   ],
   "source": [
    "lm1 =lm(consumption~.-date, data=final_feat_dt)\n",
    "summary(lm1)\n",
    "lm1_step=step(lm1)\n",
    "summary(lm1_step)"
   ]
  },
  {
   "cell_type": "code",
   "execution_count": 137,
   "metadata": {},
   "outputs": [],
   "source": [
    "random_dataset$random=last_decomp$random[4:1465]"
   ]
  },
  {
   "cell_type": "code",
   "execution_count": 141,
   "metadata": {
    "scrolled": false
   },
   "outputs": [
    {
     "data": {
      "text/plain": [
       "\n",
       "Call:\n",
       "lm(formula = random ~ . - date - consumption, data = random_dataset)\n",
       "\n",
       "Residuals:\n",
       "    Min      1Q  Median      3Q     Max \n",
       "-2314.0  -254.2    -6.6   241.8  1798.3 \n",
       "\n",
       "Coefficients:\n",
       "                           Estimate Std. Error t value Pr(>|t|)    \n",
       "(Intercept)               623.18608  444.83490   1.401  0.16145    \n",
       "month_factor                0.08054    4.74701   0.017  0.98647    \n",
       "lock_down_factor         -261.18862   40.72092  -6.414 1.91e-10 ***\n",
       "covid_severity              1.53490    0.86617   1.772  0.07660 .  \n",
       "sunlight_time_minutes       0.08863    0.22449   0.395  0.69305    \n",
       "production_capacity_rate   -5.99249    4.73922  -1.264  0.20627    \n",
       "price_of_electricity       -0.73387    1.40100  -0.524  0.60049    \n",
       "reduced_tmp                23.83669   17.18779   1.387  0.16570    \n",
       "reduced_tmp_max           -22.67990    8.15038  -2.783  0.00546 ** \n",
       "reduced_tmp_min             0.79344    9.73308   0.082  0.93504    \n",
       "---\n",
       "Signif. codes:  0 '***' 0.001 '**' 0.01 '*' 0.05 '.' 0.1 ' ' 1\n",
       "\n",
       "Residual standard error: 433.4 on 1452 degrees of freedom\n",
       "Multiple R-squared:  0.04581,\tAdjusted R-squared:  0.0399 \n",
       "F-statistic: 7.746 on 9 and 1452 DF,  p-value: 3.349e-11\n"
      ]
     },
     "metadata": {},
     "output_type": "display_data"
    },
    {
     "name": "stdout",
     "output_type": "stream",
     "text": [
      "Start:  AIC=17763.29\n",
      "random ~ (date + month_factor + lock_down_factor + covid_severity + \n",
      "    sunlight_time_minutes + production_capacity_rate + price_of_electricity + \n",
      "    consumption + reduced_tmp + reduced_tmp_max + reduced_tmp_min) - \n",
      "    date - consumption\n",
      "\n",
      "                           Df Sum of Sq       RSS   AIC\n",
      "- month_factor              1        54 272698369 17761\n",
      "- reduced_tmp_min           1      1248 272699563 17761\n",
      "- sunlight_time_minutes     1     29273 272727588 17762\n",
      "- price_of_electricity      1     51532 272749847 17762\n",
      "- production_capacity_rate  1    300273 272998588 17763\n",
      "- reduced_tmp               1    361216 273059531 17763\n",
      "<none>                                  272698315 17763\n",
      "- covid_severity            1    589745 273288060 17765\n",
      "- reduced_tmp_max           1   1454262 274152577 17769\n",
      "- lock_down_factor          1   7726612 280424927 17802\n",
      "\n",
      "Step:  AIC=17761.29\n",
      "random ~ lock_down_factor + covid_severity + sunlight_time_minutes + \n",
      "    production_capacity_rate + price_of_electricity + reduced_tmp + \n",
      "    reduced_tmp_max + reduced_tmp_min\n",
      "\n",
      "                           Df Sum of Sq       RSS   AIC\n",
      "- reduced_tmp_min           1      1247 272699616 17759\n",
      "- sunlight_time_minutes     1     38307 272736676 17760\n",
      "- price_of_electricity      1     51626 272749995 17760\n",
      "- production_capacity_rate  1    302376 273000745 17761\n",
      "- reduced_tmp               1    364846 273063215 17761\n",
      "<none>                                  272698369 17761\n",
      "- covid_severity            1    602988 273301357 17763\n",
      "- reduced_tmp_max           1   1464666 274163035 17767\n",
      "- lock_down_factor          1   7736380 280434748 17800\n",
      "\n",
      "Step:  AIC=17759.3\n",
      "random ~ lock_down_factor + covid_severity + sunlight_time_minutes + \n",
      "    production_capacity_rate + price_of_electricity + reduced_tmp + \n",
      "    reduced_tmp_max\n",
      "\n",
      "                           Df Sum of Sq       RSS   AIC\n",
      "- sunlight_time_minutes     1     41326 272740941 17758\n",
      "- price_of_electricity      1     52944 272752559 17758\n",
      "- production_capacity_rate  1    301483 273001098 17759\n",
      "<none>                                  272699616 17759\n",
      "- covid_severity            1    603888 273303504 17761\n",
      "- reduced_tmp               1   5027194 277726809 17784\n",
      "- reduced_tmp_max           1   5286811 277986427 17785\n",
      "- lock_down_factor          1   7741727 280441342 17798\n",
      "\n",
      "Step:  AIC=17757.52\n",
      "random ~ lock_down_factor + covid_severity + production_capacity_rate + \n",
      "    price_of_electricity + reduced_tmp + reduced_tmp_max\n",
      "\n",
      "                           Df Sum of Sq       RSS   AIC\n",
      "- price_of_electricity      1    114117 272855059 17756\n",
      "<none>                                  272740941 17758\n",
      "- production_capacity_rate  1    531973 273272915 17758\n",
      "- covid_severity            1    580371 273321312 17759\n",
      "- reduced_tmp               1   5107743 277848684 17783\n",
      "- reduced_tmp_max           1   5245622 277986563 17783\n",
      "- lock_down_factor          1   7796331 280537273 17797\n",
      "\n",
      "Step:  AIC=17756.13\n",
      "random ~ lock_down_factor + covid_severity + production_capacity_rate + \n",
      "    reduced_tmp + reduced_tmp_max\n",
      "\n",
      "                           Df Sum of Sq       RSS   AIC\n",
      "<none>                                  272855059 17756\n",
      "- production_capacity_rate  1    421661 273276719 17756\n",
      "- covid_severity            1    466613 273321672 17757\n",
      "- reduced_tmp               1   5063095 277918153 17781\n",
      "- reduced_tmp_max           1   5192282 278047340 17782\n",
      "- lock_down_factor          1   7722563 280577622 17795\n"
     ]
    },
    {
     "data": {
      "text/plain": [
       "\n",
       "Call:\n",
       "lm(formula = random ~ lock_down_factor + covid_severity + production_capacity_rate + \n",
       "    reduced_tmp + reduced_tmp_max, data = random_dataset)\n",
       "\n",
       "Residuals:\n",
       "     Min       1Q   Median       3Q      Max \n",
       "-2302.95  -250.45    -8.72   247.67  1807.14 \n",
       "\n",
       "Coefficients:\n",
       "                         Estimate Std. Error t value Pr(>|t|)    \n",
       "(Intercept)               629.561    296.353   2.124   0.0338 *  \n",
       "lock_down_factor         -260.388     40.563  -6.419 1.85e-10 ***\n",
       "covid_severity              1.221      0.774   1.578   0.1148    \n",
       "production_capacity_rate   -5.759      3.839  -1.500   0.1338    \n",
       "reduced_tmp                25.223      4.853   5.198 2.30e-07 ***\n",
       "reduced_tmp_max           -22.920      4.354  -5.264 1.62e-07 ***\n",
       "---\n",
       "Signif. codes:  0 '***' 0.001 '**' 0.01 '*' 0.05 '.' 0.1 ' ' 1\n",
       "\n",
       "Residual standard error: 432.9 on 1456 degrees of freedom\n",
       "Multiple R-squared:  0.04526,\tAdjusted R-squared:  0.04198 \n",
       "F-statistic: 13.81 on 5 and 1456 DF,  p-value: 3.378e-13\n"
      ]
     },
     "metadata": {},
     "output_type": "display_data"
    }
   ],
   "source": [
    "lm2 =lm(random~.-date-consumption, data=random_dataset)\n",
    "summary(lm2)\n",
    "lm2_step=step(lm2)\n",
    "summary(lm2_step)"
   ]
  },
  {
   "cell_type": "markdown",
   "metadata": {},
   "source": [
    "## Residual Check"
   ]
  },
  {
   "cell_type": "code",
   "execution_count": 142,
   "metadata": {},
   "outputs": [
    {
     "data": {
      "image/png": "[encoded data removed]",
      "text/plain": [
       "plot without title"
      ]
     },
     "metadata": {},
     "output_type": "display_data"
    }
   ],
   "source": [
    "plot(random_dataset$covid_severity, lm2$residuals)"
   ]
  },
  {
   "cell_type": "code",
   "execution_count": 143,
   "metadata": {},
   "outputs": [
    {
     "data": {
      "image/png": "[encoded data removed]",
      "text/plain": [
       "plot without title"
      ]
     },
     "metadata": {},
     "output_type": "display_data"
    }
   ],
   "source": [
    "plot(random_dataset$sunlight_time_minutes, lm2$residuals)"
   ]
  },
  {
   "cell_type": "code",
   "execution_count": 156,
   "metadata": {},
   "outputs": [
    {
     "data": {
      "image/png": "[encoded data removed]",
      "text/plain": [
       "plot without title"
      ]
     },
     "metadata": {},
     "output_type": "display_data"
    }
   ],
   "source": [
    "plot(random_dataset$production_capacity_rate, lm2$residuals)"
   ]
  },
  {
   "cell_type": "code",
   "execution_count": 157,
   "metadata": {},
   "outputs": [
    {
     "data": {
      "image/png": "[encoded data removed]",
      "text/plain": [
       "plot without title"
      ]
     },
     "metadata": {},
     "output_type": "display_data"
    }
   ],
   "source": [
    "plot(random_dataset$price_of_electricity , lm2$residuals)"
   ]
  },
  {
   "cell_type": "code",
   "execution_count": 158,
   "metadata": {},
   "outputs": [
    {
     "ename": "ERROR",
     "evalue": "Error in xy.coords(x, y, xlabel, ylabel, log): 'x' and 'y' lengths differ\n",
     "output_type": "error",
     "traceback": [
      "Error in xy.coords(x, y, xlabel, ylabel, log): 'x' and 'y' lengths differ\nTraceback:\n",
      "1. plot(random_dataset$usdtry, lm2$residuals)",
      "2. plot(random_dataset$usdtry, lm2$residuals)",
      "3. plot.default(random_dataset$usdtry, lm2$residuals)",
      "4. xy.coords(x, y, xlabel, ylabel, log)",
      "5. stop(\"'x' and 'y' lengths differ\")"
     ]
    }
   ],
   "source": [
    "plot(random_dataset$usdtry, lm2$residuals)"
   ]
  },
  {
   "cell_type": "code",
   "execution_count": 159,
   "metadata": {},
   "outputs": [
    {
     "data": {
      "image/png": "[encoded data removed]",
      "text/plain": [
       "plot without title"
      ]
     },
     "metadata": {},
     "output_type": "display_data"
    }
   ],
   "source": [
    "plot(random_dataset$reduced_tmp, lm2$residuals)"
   ]
  },
  {
   "cell_type": "code",
   "execution_count": 163,
   "metadata": {},
   "outputs": [
    {
     "data": {
      "image/png": "[encoded data removed]",
      "text/plain": [
       "Plot with title \"Residual Check for Temperature Feature\""
      ]
     },
     "metadata": {},
     "output_type": "display_data"
    }
   ],
   "source": [
    "plot(random_dataset$reduced_tmp_max, lm2$residuals, main=\"Residual Check for Temperature Feature\", \n",
    "                                                    ylab=\"Residuals\", xlab=\"Maximum Value of Reduced Temperature\")"
   ]
  },
  {
   "cell_type": "code",
   "execution_count": 161,
   "metadata": {},
   "outputs": [
    {
     "data": {
      "image/png": "[encoded data removed]",
      "text/plain": [
       "plot without title"
      ]
     },
     "metadata": {},
     "output_type": "display_data"
    }
   ],
   "source": [
    "plot(random_dataset$reduced_tmp_min, lm2$residuals)"
   ]
  },
  {
   "cell_type": "code",
   "execution_count": 162,
   "metadata": {},
   "outputs": [
    {
     "data": {
      "image/png": "[encoded data removed]",
      "text/plain": [
       "plot without title"
      ]
     },
     "metadata": {},
     "output_type": "display_data"
    }
   ],
   "source": [
    "plot(final_feat_dt$covid_severity, lm1$residuals)"
   ]
  },
  {
   "cell_type": "code",
   "execution_count": 148,
   "metadata": {},
   "outputs": [
    {
     "data": {
      "image/png": "[encoded data removed]",
      "text/plain": [
       "plot without title"
      ]
     },
     "metadata": {},
     "output_type": "display_data"
    }
   ],
   "source": [
    "plot(final_feat_dt$sunlight_time_minutes, lm1$residuals)"
   ]
  },
  {
   "cell_type": "code",
   "execution_count": 149,
   "metadata": {},
   "outputs": [
    {
     "data": {
      "image/png": "[encoded data removed]",
      "text/plain": [
       "plot without title"
      ]
     },
     "metadata": {},
     "output_type": "display_data"
    }
   ],
   "source": [
    "plot(final_feat_dt$production_capacity_rate, lm1$residuals)"
   ]
  },
  {
   "cell_type": "code",
   "execution_count": 150,
   "metadata": {},
   "outputs": [
    {
     "data": {
      "image/png": "[encoded data removed]",
      "text/plain": [
       "plot without title"
      ]
     },
     "metadata": {},
     "output_type": "display_data"
    }
   ],
   "source": [
    "plot(final_feat_dt$price_of_electricity , lm1$residuals)"
   ]
  },
  {
   "cell_type": "code",
   "execution_count": 152,
   "metadata": {},
   "outputs": [
    {
     "data": {
      "image/png": "[encoded data removed]",
      "text/plain": [
       "plot without title"
      ]
     },
     "metadata": {},
     "output_type": "display_data"
    }
   ],
   "source": [
    "plot(final_feat_dt$reduced_tmp, lm1$residuals)"
   ]
  },
  {
   "cell_type": "code",
   "execution_count": 153,
   "metadata": {},
   "outputs": [
    {
     "data": {
      "image/png": "[encoded data removed]",
      "text/plain": [
       "plot without title"
      ]
     },
     "metadata": {},
     "output_type": "display_data"
    }
   ],
   "source": [
    "plot(final_feat_dt$reduced_tmp_max, lm1$residuals)"
   ]
  },
  {
   "cell_type": "code",
   "execution_count": 154,
   "metadata": {},
   "outputs": [
    {
     "data": {
      "image/png": "[encoded data removed]",
      "text/plain": [
       "plot without title"
      ]
     },
     "metadata": {},
     "output_type": "display_data"
    }
   ],
   "source": [
    "plot(final_feat_dt$reduced_tmp_min, lm1$residuals)"
   ]
  },
  {
   "cell_type": "code",
   "execution_count": 748,
   "metadata": {
    "scrolled": false
   },
   "outputs": [],
   "source": [
    "lm3 =lm(random~.-random-date, data=final_feat_dt[date>\"2020-01-01\"],)\n",
    "summary(lm3)\n",
    "lm3_step=step(lm3)\n",
    "summary(lm3_step)"
   ]
  },
  {
   "cell_type": "code",
   "execution_count": 749,
   "metadata": {},
   "outputs": [],
   "source": [
    "final_feat_dt[,abs_reduced_tmp:=abs(reduced_tmp-40)]"
   ]
  },
  {
   "cell_type": "code",
   "execution_count": 750,
   "metadata": {},
   "outputs": [],
   "source": [
    "final_feat_dt[,abs_reduced_tmp_max:=abs(reduced_tmp_max-55)]"
   ]
  },
  {
   "cell_type": "code",
   "execution_count": 751,
   "metadata": {},
   "outputs": [
    {
     "data": {
      "text/html": [
       "<table>\n",
       "<thead><tr><th scope=col>date</th><th scope=col>lock_down_factor</th><th scope=col>covid_severity</th><th scope=col>sunlight_time_minutes</th><th scope=col>production_capacity_rate</th><th scope=col>price_of_electricity</th><th scope=col>usdtry</th><th scope=col>reduced_tmp</th><th scope=col>reduced_tmp_max</th><th scope=col>reduced_tmp_min</th><th scope=col>abs_reduced_tmp</th><th scope=col>abs_reduced_tmp_max</th></tr></thead>\n",
       "<tbody>\n",
       "\t<tr><td>2017-01-01 </td><td>0          </td><td>0          </td><td>558        </td><td>77         </td><td>20.5219    </td><td>3.5277     </td><td>-11.8303797</td><td> 5.180090  </td><td>-20.1821010</td><td>51.83038   </td><td>49.81991   </td></tr>\n",
       "\t<tr><td>2017-01-02 </td><td>0          </td><td>0          </td><td>558        </td><td>77         </td><td>20.5219    </td><td>3.5445     </td><td> -7.6558338</td><td> 4.145409  </td><td>-14.4794818</td><td>47.65583   </td><td>50.85459   </td></tr>\n",
       "\t<tr><td>2017-01-03 </td><td>0          </td><td>0          </td><td>559        </td><td>77         </td><td>20.5219    </td><td>3.5943     </td><td> -7.5980702</td><td>10.527235  </td><td>-16.0035362</td><td>47.59807   </td><td>44.47276   </td></tr>\n",
       "\t<tr><td>2017-01-04 </td><td>0          </td><td>0          </td><td>560        </td><td>77         </td><td>20.5219    </td><td>3.5713     </td><td> -0.7089871</td><td>13.484344  </td><td>-11.9385991</td><td>40.70899   </td><td>41.51566   </td></tr>\n",
       "\t<tr><td>2017-01-05 </td><td>0          </td><td>0          </td><td>561        </td><td>77         </td><td>20.5219    </td><td>3.5927     </td><td> 10.2108282</td><td>15.041726  </td><td>  4.1931925</td><td>29.78917   </td><td>39.95827   </td></tr>\n",
       "\t<tr><td>2017-01-06 </td><td>0          </td><td>0          </td><td>562        </td><td>77         </td><td>20.5219    </td><td>3.6445     </td><td> 11.9315103</td><td>17.656083  </td><td>  4.3689798</td><td>28.06849   </td><td>37.34392   </td></tr>\n",
       "\t<tr><td>2017-01-07 </td><td>0          </td><td>0          </td><td>563        </td><td>77         </td><td>20.5219    </td><td>3.6445     </td><td> -0.6995870</td><td> 3.129613  </td><td> -7.6495260</td><td>40.69959   </td><td>51.87039   </td></tr>\n",
       "\t<tr><td>2017-01-08 </td><td>0          </td><td>0          </td><td>564        </td><td>77         </td><td>20.5219    </td><td>3.6445     </td><td> -7.7259978</td><td>-2.677441  </td><td>-12.8573134</td><td>47.72600   </td><td>57.67744   </td></tr>\n",
       "\t<tr><td>2017-01-09 </td><td>0          </td><td>0          </td><td>565        </td><td>77         </td><td>20.5219    </td><td>3.7129     </td><td>-13.0119281</td><td>-1.134620  </td><td>-19.4715034</td><td>53.01193   </td><td>56.13462   </td></tr>\n",
       "\t<tr><td>2017-01-10 </td><td>0          </td><td>0          </td><td>567        </td><td>77         </td><td>20.5219    </td><td>3.7885     </td><td> -4.9529816</td><td> 3.848957  </td><td>-18.9474820</td><td>44.95298   </td><td>51.15104   </td></tr>\n",
       "\t<tr><td>2017-01-11 </td><td>0          </td><td>0          </td><td>568        </td><td>77         </td><td>20.5219    </td><td>3.8647     </td><td>  1.0142911</td><td>10.711688  </td><td> -6.7990970</td><td>38.98571   </td><td>44.28831   </td></tr>\n",
       "\t<tr><td>2017-01-12 </td><td>0          </td><td>0          </td><td>569        </td><td>77         </td><td>20.5219    </td><td>3.7597     </td><td>  2.4261283</td><td>11.026398  </td><td> -4.1828973</td><td>37.57387   </td><td>43.97360   </td></tr>\n",
       "\t<tr><td>2017-01-13 </td><td>0          </td><td>0          </td><td>570        </td><td>77         </td><td>20.5219    </td><td>3.7230     </td><td> -2.7302815</td><td> 9.997897  </td><td> -8.6178111</td><td>42.73028   </td><td>45.00210   </td></tr>\n",
       "\t<tr><td>2017-01-14 </td><td>0          </td><td>0          </td><td>573        </td><td>77         </td><td>20.5219    </td><td>3.7230     </td><td>  1.5539112</td><td>14.071691  </td><td> -7.9105519</td><td>38.44609   </td><td>40.92831   </td></tr>\n",
       "\t<tr><td>2017-01-15 </td><td>0          </td><td>0          </td><td>574        </td><td>77         </td><td>20.5219    </td><td>3.7230     </td><td>  5.3254513</td><td>15.201826  </td><td> -2.3952927</td><td>34.67455   </td><td>39.79817   </td></tr>\n",
       "\t<tr><td>2017-01-16 </td><td>0          </td><td>0          </td><td>576        </td><td>77         </td><td>20.5219    </td><td>3.8042     </td><td>  9.2906751</td><td>15.784043  </td><td>  5.5156784</td><td>30.70932   </td><td>39.21596   </td></tr>\n",
       "\t<tr><td>2017-01-17 </td><td>0          </td><td>0          </td><td>577        </td><td>77         </td><td>20.5219    </td><td>3.7610     </td><td> 10.3119602</td><td>18.519980  </td><td>  6.9340352</td><td>29.68804   </td><td>36.48002   </td></tr>\n",
       "\t<tr><td>2017-01-18 </td><td>0          </td><td>0          </td><td>579        </td><td>77         </td><td>20.5219    </td><td>3.7966     </td><td>  9.2428221</td><td>19.895555  </td><td>  3.3889214</td><td>30.75718   </td><td>35.10445   </td></tr>\n",
       "\t<tr><td>2017-01-19 </td><td>0          </td><td>0          </td><td>580        </td><td>77         </td><td>20.5219    </td><td>3.8273     </td><td>  7.3159979</td><td>18.265188  </td><td>  2.2073711</td><td>32.68400   </td><td>36.73481   </td></tr>\n",
       "\t<tr><td>2017-01-20 </td><td>0          </td><td>0          </td><td>582        </td><td>77         </td><td>20.5219    </td><td>3.7655     </td><td>  4.8224412</td><td>12.914472  </td><td>  0.3097586</td><td>35.17756   </td><td>42.08553   </td></tr>\n",
       "\t<tr><td>2017-01-21 </td><td>0          </td><td>0          </td><td>584        </td><td>77         </td><td>20.5219    </td><td>3.7655     </td><td>  0.7316314</td><td> 9.965899  </td><td> -5.7712757</td><td>39.26837   </td><td>45.03410   </td></tr>\n",
       "\t<tr><td>2017-01-22 </td><td>0          </td><td>0          </td><td>586        </td><td>77         </td><td>20.5219    </td><td>3.7655     </td><td> -2.3996768</td><td>10.816669  </td><td>-10.0724781</td><td>42.39968   </td><td>44.18333   </td></tr>\n",
       "\t<tr><td>2017-01-23 </td><td>0          </td><td>0          </td><td>588        </td><td>77         </td><td>20.5219    </td><td>3.7573     </td><td> -0.2757659</td><td>13.815078  </td><td> -8.4394339</td><td>40.27577   </td><td>41.18492   </td></tr>\n",
       "\t<tr><td>2017-01-24 </td><td>0          </td><td>0          </td><td>589        </td><td>77         </td><td>20.5219    </td><td>3.7833     </td><td>  4.5658404</td><td>14.901593  </td><td> -2.6159918</td><td>35.43416   </td><td>40.09841   </td></tr>\n",
       "\t<tr><td>2017-01-25 </td><td>0          </td><td>0          </td><td>591        </td><td>77         </td><td>20.5219    </td><td>3.8313     </td><td>  5.3056971</td><td>11.739032  </td><td>  1.3308134</td><td>34.69430   </td><td>43.26097   </td></tr>\n",
       "\t<tr><td>2017-01-26 </td><td>0          </td><td>0          </td><td>594        </td><td>77         </td><td>20.5219    </td><td>3.8440     </td><td>  0.6370789</td><td> 6.762196  </td><td> -7.8548876</td><td>39.36292   </td><td>48.23780   </td></tr>\n",
       "\t<tr><td>2017-01-27 </td><td>0          </td><td>0          </td><td>596        </td><td>77         </td><td>20.5219    </td><td>3.8775     </td><td>-10.3873020</td><td>-4.218849  </td><td>-14.6293995</td><td>50.38730   </td><td>59.21885   </td></tr>\n",
       "\t<tr><td>2017-01-28 </td><td>0          </td><td>0          </td><td>598        </td><td>77         </td><td>20.5219    </td><td>3.8775     </td><td>-12.5315325</td><td>-1.281304  </td><td>-18.7660822</td><td>52.53153   </td><td>56.28130   </td></tr>\n",
       "\t<tr><td>2017-01-29 </td><td>0          </td><td>0          </td><td>599        </td><td>77         </td><td>20.5219    </td><td>3.8775     </td><td>-10.4327979</td><td> 5.376112  </td><td>-19.7086759</td><td>50.43280   </td><td>49.62389   </td></tr>\n",
       "\t<tr><td>2017-01-30 </td><td>0          </td><td>0          </td><td>602        </td><td>77         </td><td>20.5219    </td><td>3.7818     </td><td> -6.9562081</td><td> 6.189324  </td><td>-15.8017261</td><td>46.95621   </td><td>48.81068   </td></tr>\n",
       "\t<tr><td>...</td><td>...</td><td>...</td><td>...</td><td>...</td><td>...</td><td>...</td><td>...</td><td>...</td><td>...</td><td>...</td><td>...</td></tr>\n",
       "\t<tr><td>2021-01-03   </td><td>2            </td><td>29.67482     </td><td>559          </td><td>75.4         </td><td>55.1544      </td><td>7.4392       </td><td>21.9026944   </td><td>31.2421238   </td><td> 15.332225205</td><td>18.097306    </td><td>23.757876    </td></tr>\n",
       "\t<tr><td>2021-01-04   </td><td>1            </td><td>25.52034     </td><td>560          </td><td>75.4         </td><td>55.1544      </td><td>7.4198       </td><td>22.2181538   </td><td>33.2163926   </td><td> 14.350167508</td><td>17.781846    </td><td>21.783607    </td></tr>\n",
       "\t<tr><td>2021-01-05   </td><td>1            </td><td>26.70734     </td><td>561          </td><td>75.4         </td><td>55.1544      </td><td>7.3856       </td><td>23.1199519   </td><td>32.7374058   </td><td> 17.438861106</td><td>16.880048    </td><td>22.262594    </td></tr>\n",
       "\t<tr><td>2021-01-06   </td><td>1            </td><td>24.92685     </td><td>562          </td><td>75.4         </td><td>55.1544      </td><td>7.3047       </td><td>21.3083901   </td><td>31.9769169   </td><td> 14.437510205</td><td>18.691610    </td><td>23.023083    </td></tr>\n",
       "\t<tr><td>2021-01-07   </td><td>1            </td><td>23.14636     </td><td>563          </td><td>75.4         </td><td>55.1544      </td><td>7.3149       </td><td>23.1480894   </td><td>35.8160399   </td><td> 14.401818692</td><td>16.851911    </td><td>19.183960    </td></tr>\n",
       "\t<tr><td>2021-01-08   </td><td>1            </td><td>24.33335     </td><td>564          </td><td>75.4         </td><td>55.1544      </td><td>7.3713       </td><td>26.3452038   </td><td>38.0189061   </td><td> 18.757712427</td><td>13.654796    </td><td>16.981094    </td></tr>\n",
       "\t<tr><td>2021-01-09   </td><td>2            </td><td>22.55286     </td><td>565          </td><td>75.4         </td><td>55.1544      </td><td>7.3713       </td><td>26.1500775   </td><td>35.2034041   </td><td> 20.308214655</td><td>13.849923    </td><td>19.796596    </td></tr>\n",
       "\t<tr><td>2021-01-10   </td><td>2            </td><td>22.55286     </td><td>567          </td><td>75.4         </td><td>55.1544      </td><td>7.3713       </td><td>27.0636320   </td><td>36.7383564   </td><td> 20.179868828</td><td>12.936368    </td><td>18.261644    </td></tr>\n",
       "\t<tr><td>2021-01-11   </td><td>1            </td><td>24.33335     </td><td>568          </td><td>75.4         </td><td>55.1544      </td><td>7.4733       </td><td>32.5656438   </td><td>44.8832532   </td><td> 24.485757942</td><td> 7.434356    </td><td>10.116747    </td></tr>\n",
       "\t<tr><td>2021-01-12   </td><td>1            </td><td>24.92685     </td><td>569          </td><td>75.4         </td><td>55.1544      </td><td>7.4482       </td><td>33.7910067   </td><td>45.2854442   </td><td> 26.840856264</td><td> 6.208993    </td><td> 9.714556    </td></tr>\n",
       "\t<tr><td>2021-01-13   </td><td>1            </td><td>31.45531     </td><td>570          </td><td>75.4         </td><td>55.1544      </td><td>7.3934       </td><td>21.6561805   </td><td>29.0967190   </td><td> 13.632782363</td><td>18.343819    </td><td>25.903281    </td></tr>\n",
       "\t<tr><td>2021-01-14   </td><td>1            </td><td>59.34964     </td><td>573          </td><td>75.4         </td><td>55.1544      </td><td>7.3699       </td><td>11.1281051   </td><td>15.1262175   </td><td>  5.739261089</td><td>28.871895    </td><td>39.873783    </td></tr>\n",
       "\t<tr><td>2021-01-15   </td><td>1            </td><td>52.82118     </td><td>574          </td><td>75.4         </td><td>55.1544      </td><td>7.4733       </td><td> 7.0102506   </td><td>13.2380245   </td><td>  3.491290942</td><td>32.989749    </td><td>41.761975    </td></tr>\n",
       "\t<tr><td>2021-01-16   </td><td>2            </td><td>40.95125     </td><td>576          </td><td>75.4         </td><td>55.1544      </td><td>7.4733       </td><td> 5.7581615   </td><td>11.4822727   </td><td>  0.993441567</td><td>34.241838    </td><td>43.517727    </td></tr>\n",
       "\t<tr><td>2021-01-17   </td><td>2            </td><td>41.00000     </td><td>577          </td><td>75.4         </td><td>55.1544      </td><td>7.4733       </td><td> 2.9097352   </td><td> 6.8476921   </td><td> -5.095458782</td><td>37.090265    </td><td>48.152308    </td></tr>\n",
       "\t<tr><td>2021-01-18   </td><td>1            </td><td>49.48276     </td><td>579          </td><td>75.4         </td><td>55.1544      </td><td>7.4768       </td><td>-5.5023255   </td><td> 0.5232396   </td><td>-10.347337539</td><td>45.502326    </td><td>54.476760    </td></tr>\n",
       "\t<tr><td>2021-01-19   </td><td>1            </td><td>70.68966     </td><td>580          </td><td>75.4         </td><td>55.1544      </td><td>7.4691       </td><td>-9.7490277   </td><td> 0.1580802   </td><td>-16.279287048</td><td>49.749028    </td><td>54.841920    </td></tr>\n",
       "\t<tr><td>2021-01-20   </td><td>1            </td><td>51.60345     </td><td>582          </td><td>75.4         </td><td>55.1544      </td><td>7.4169       </td><td>-9.8145098   </td><td> 1.2587123   </td><td>-18.188002646</td><td>49.814510    </td><td>53.741288    </td></tr>\n",
       "\t<tr><td>2021-01-21   </td><td>1            </td><td>40.29310     </td><td>584          </td><td>75.4         </td><td>55.1544      </td><td>7.3636       </td><td>-0.7474196   </td><td>11.1775718   </td><td> -9.510457958</td><td>40.747420    </td><td>43.822428    </td></tr>\n",
       "\t<tr><td>2021-01-22   </td><td>1            </td><td>45.09550     </td><td>586          </td><td>75.4         </td><td>55.1544      </td><td>7.4106       </td><td> 6.3735062   </td><td>16.4736264   </td><td> -0.830728772</td><td>33.626494    </td><td>38.526374    </td></tr>\n",
       "\t<tr><td>2021-01-23   </td><td>2            </td><td>35.99864     </td><td>588          </td><td>75.4         </td><td>55.1544      </td><td>7.4106       </td><td>10.6870426   </td><td>20.7572894   </td><td>  4.897714379</td><td>29.312957    </td><td>34.242711    </td></tr>\n",
       "\t<tr><td>2021-01-24   </td><td>2            </td><td>35.18933     </td><td>589          </td><td>75.4         </td><td>55.1544      </td><td>7.4106       </td><td>14.1499074   </td><td>24.2390467   </td><td>  8.169469559</td><td>25.850093    </td><td>30.760953    </td></tr>\n",
       "\t<tr><td>2021-01-25   </td><td>1            </td><td>41.06754     </td><td>592          </td><td>75.4         </td><td>55.1544      </td><td>7.4040       </td><td>16.2208093   </td><td>23.1178238   </td><td> 11.446137186</td><td>23.779191    </td><td>31.882176    </td></tr>\n",
       "\t<tr><td>2021-01-26   </td><td>1            </td><td>41.30747     </td><td>594          </td><td>75.4         </td><td>55.1544      </td><td>7.3429       </td><td>20.4018115   </td><td>28.4328370   </td><td> 15.147067966</td><td>19.598188    </td><td>26.567163    </td></tr>\n",
       "\t<tr><td>2021-01-27   </td><td>1            </td><td>41.18751     </td><td>596          </td><td>75.4         </td><td>55.1544      </td><td>7.3918       </td><td>16.2350090   </td><td>22.9823170   </td><td>  6.759384398</td><td>23.764991    </td><td>32.017683    </td></tr>\n",
       "\t<tr><td>2021-01-28   </td><td>1            </td><td>43.74673     </td><td>598          </td><td>75.4         </td><td>55.1544      </td><td>7.3324       </td><td> 3.8098146   </td><td> 9.2917547   </td><td> -0.005150026</td><td>36.190185    </td><td>45.708245    </td></tr>\n",
       "\t<tr><td>2021-01-29   </td><td>1            </td><td>39.58799     </td><td>599          </td><td>75.4         </td><td>55.1544      </td><td>7.3099       </td><td> 2.6702733   </td><td>11.1312763   </td><td> -3.751004985</td><td>37.329727    </td><td>43.868724    </td></tr>\n",
       "\t<tr><td>2021-01-30   </td><td>2            </td><td>34.82944     </td><td>602          </td><td>75.4         </td><td>55.1544      </td><td>7.3099       </td><td> 9.1063723   </td><td>17.4873401   </td><td>  1.807828270</td><td>30.893628    </td><td>37.512660    </td></tr>\n",
       "\t<tr><td>2021-01-31   </td><td>2            </td><td>33.36131     </td><td>604          </td><td>75.4         </td><td>55.1544      </td><td>7.3099       </td><td>14.9546967   </td><td>25.2332069   </td><td>  7.681600213</td><td>25.045303    </td><td>29.766793    </td></tr>\n",
       "\t<tr><td>2021-02-01   </td><td>1            </td><td>33.36131     </td><td>606          </td><td>75.5         </td><td>55.1544      </td><td>7.3099       </td><td>19.7534083   </td><td>31.6249544   </td><td> 12.415641098</td><td>20.246592    </td><td>23.375046    </td></tr>\n",
       "</tbody>\n",
       "</table>\n"
      ],
      "text/latex": [
       "\\begin{tabular}{r|llllllllllll}\n",
       " date & lock\\_down\\_factor & covid\\_severity & sunlight\\_time\\_minutes & production\\_capacity\\_rate & price\\_of\\_electricity & usdtry & reduced\\_tmp & reduced\\_tmp\\_max & reduced\\_tmp\\_min & abs\\_reduced\\_tmp & abs\\_reduced\\_tmp\\_max\\\\\n",
       "\\hline\n",
       "\t 2017-01-01  & 0           & 0           & 558         & 77          & 20.5219     & 3.5277      & -11.8303797 &  5.180090   & -20.1821010 & 51.83038    & 49.81991   \\\\\n",
       "\t 2017-01-02  & 0           & 0           & 558         & 77          & 20.5219     & 3.5445      &  -7.6558338 &  4.145409   & -14.4794818 & 47.65583    & 50.85459   \\\\\n",
       "\t 2017-01-03  & 0           & 0           & 559         & 77          & 20.5219     & 3.5943      &  -7.5980702 & 10.527235   & -16.0035362 & 47.59807    & 44.47276   \\\\\n",
       "\t 2017-01-04  & 0           & 0           & 560         & 77          & 20.5219     & 3.5713      &  -0.7089871 & 13.484344   & -11.9385991 & 40.70899    & 41.51566   \\\\\n",
       "\t 2017-01-05  & 0           & 0           & 561         & 77          & 20.5219     & 3.5927      &  10.2108282 & 15.041726   &   4.1931925 & 29.78917    & 39.95827   \\\\\n",
       "\t 2017-01-06  & 0           & 0           & 562         & 77          & 20.5219     & 3.6445      &  11.9315103 & 17.656083   &   4.3689798 & 28.06849    & 37.34392   \\\\\n",
       "\t 2017-01-07  & 0           & 0           & 563         & 77          & 20.5219     & 3.6445      &  -0.6995870 &  3.129613   &  -7.6495260 & 40.69959    & 51.87039   \\\\\n",
       "\t 2017-01-08  & 0           & 0           & 564         & 77          & 20.5219     & 3.6445      &  -7.7259978 & -2.677441   & -12.8573134 & 47.72600    & 57.67744   \\\\\n",
       "\t 2017-01-09  & 0           & 0           & 565         & 77          & 20.5219     & 3.7129      & -13.0119281 & -1.134620   & -19.4715034 & 53.01193    & 56.13462   \\\\\n",
       "\t 2017-01-10  & 0           & 0           & 567         & 77          & 20.5219     & 3.7885      &  -4.9529816 &  3.848957   & -18.9474820 & 44.95298    & 51.15104   \\\\\n",
       "\t 2017-01-11  & 0           & 0           & 568         & 77          & 20.5219     & 3.8647      &   1.0142911 & 10.711688   &  -6.7990970 & 38.98571    & 44.28831   \\\\\n",
       "\t 2017-01-12  & 0           & 0           & 569         & 77          & 20.5219     & 3.7597      &   2.4261283 & 11.026398   &  -4.1828973 & 37.57387    & 43.97360   \\\\\n",
       "\t 2017-01-13  & 0           & 0           & 570         & 77          & 20.5219     & 3.7230      &  -2.7302815 &  9.997897   &  -8.6178111 & 42.73028    & 45.00210   \\\\\n",
       "\t 2017-01-14  & 0           & 0           & 573         & 77          & 20.5219     & 3.7230      &   1.5539112 & 14.071691   &  -7.9105519 & 38.44609    & 40.92831   \\\\\n",
       "\t 2017-01-15  & 0           & 0           & 574         & 77          & 20.5219     & 3.7230      &   5.3254513 & 15.201826   &  -2.3952927 & 34.67455    & 39.79817   \\\\\n",
       "\t 2017-01-16  & 0           & 0           & 576         & 77          & 20.5219     & 3.8042      &   9.2906751 & 15.784043   &   5.5156784 & 30.70932    & 39.21596   \\\\\n",
       "\t 2017-01-17  & 0           & 0           & 577         & 77          & 20.5219     & 3.7610      &  10.3119602 & 18.519980   &   6.9340352 & 29.68804    & 36.48002   \\\\\n",
       "\t 2017-01-18  & 0           & 0           & 579         & 77          & 20.5219     & 3.7966      &   9.2428221 & 19.895555   &   3.3889214 & 30.75718    & 35.10445   \\\\\n",
       "\t 2017-01-19  & 0           & 0           & 580         & 77          & 20.5219     & 3.8273      &   7.3159979 & 18.265188   &   2.2073711 & 32.68400    & 36.73481   \\\\\n",
       "\t 2017-01-20  & 0           & 0           & 582         & 77          & 20.5219     & 3.7655      &   4.8224412 & 12.914472   &   0.3097586 & 35.17756    & 42.08553   \\\\\n",
       "\t 2017-01-21  & 0           & 0           & 584         & 77          & 20.5219     & 3.7655      &   0.7316314 &  9.965899   &  -5.7712757 & 39.26837    & 45.03410   \\\\\n",
       "\t 2017-01-22  & 0           & 0           & 586         & 77          & 20.5219     & 3.7655      &  -2.3996768 & 10.816669   & -10.0724781 & 42.39968    & 44.18333   \\\\\n",
       "\t 2017-01-23  & 0           & 0           & 588         & 77          & 20.5219     & 3.7573      &  -0.2757659 & 13.815078   &  -8.4394339 & 40.27577    & 41.18492   \\\\\n",
       "\t 2017-01-24  & 0           & 0           & 589         & 77          & 20.5219     & 3.7833      &   4.5658404 & 14.901593   &  -2.6159918 & 35.43416    & 40.09841   \\\\\n",
       "\t 2017-01-25  & 0           & 0           & 591         & 77          & 20.5219     & 3.8313      &   5.3056971 & 11.739032   &   1.3308134 & 34.69430    & 43.26097   \\\\\n",
       "\t 2017-01-26  & 0           & 0           & 594         & 77          & 20.5219     & 3.8440      &   0.6370789 &  6.762196   &  -7.8548876 & 39.36292    & 48.23780   \\\\\n",
       "\t 2017-01-27  & 0           & 0           & 596         & 77          & 20.5219     & 3.8775      & -10.3873020 & -4.218849   & -14.6293995 & 50.38730    & 59.21885   \\\\\n",
       "\t 2017-01-28  & 0           & 0           & 598         & 77          & 20.5219     & 3.8775      & -12.5315325 & -1.281304   & -18.7660822 & 52.53153    & 56.28130   \\\\\n",
       "\t 2017-01-29  & 0           & 0           & 599         & 77          & 20.5219     & 3.8775      & -10.4327979 &  5.376112   & -19.7086759 & 50.43280    & 49.62389   \\\\\n",
       "\t 2017-01-30  & 0           & 0           & 602         & 77          & 20.5219     & 3.7818      &  -6.9562081 &  6.189324   & -15.8017261 & 46.95621    & 48.81068   \\\\\n",
       "\t ... & ... & ... & ... & ... & ... & ... & ... & ... & ... & ... & ...\\\\\n",
       "\t 2021-01-03    & 2             & 29.67482      & 559           & 75.4          & 55.1544       & 7.4392        & 21.9026944    & 31.2421238    &  15.332225205 & 18.097306     & 23.757876    \\\\\n",
       "\t 2021-01-04    & 1             & 25.52034      & 560           & 75.4          & 55.1544       & 7.4198        & 22.2181538    & 33.2163926    &  14.350167508 & 17.781846     & 21.783607    \\\\\n",
       "\t 2021-01-05    & 1             & 26.70734      & 561           & 75.4          & 55.1544       & 7.3856        & 23.1199519    & 32.7374058    &  17.438861106 & 16.880048     & 22.262594    \\\\\n",
       "\t 2021-01-06    & 1             & 24.92685      & 562           & 75.4          & 55.1544       & 7.3047        & 21.3083901    & 31.9769169    &  14.437510205 & 18.691610     & 23.023083    \\\\\n",
       "\t 2021-01-07    & 1             & 23.14636      & 563           & 75.4          & 55.1544       & 7.3149        & 23.1480894    & 35.8160399    &  14.401818692 & 16.851911     & 19.183960    \\\\\n",
       "\t 2021-01-08    & 1             & 24.33335      & 564           & 75.4          & 55.1544       & 7.3713        & 26.3452038    & 38.0189061    &  18.757712427 & 13.654796     & 16.981094    \\\\\n",
       "\t 2021-01-09    & 2             & 22.55286      & 565           & 75.4          & 55.1544       & 7.3713        & 26.1500775    & 35.2034041    &  20.308214655 & 13.849923     & 19.796596    \\\\\n",
       "\t 2021-01-10    & 2             & 22.55286      & 567           & 75.4          & 55.1544       & 7.3713        & 27.0636320    & 36.7383564    &  20.179868828 & 12.936368     & 18.261644    \\\\\n",
       "\t 2021-01-11    & 1             & 24.33335      & 568           & 75.4          & 55.1544       & 7.4733        & 32.5656438    & 44.8832532    &  24.485757942 &  7.434356     & 10.116747    \\\\\n",
       "\t 2021-01-12    & 1             & 24.92685      & 569           & 75.4          & 55.1544       & 7.4482        & 33.7910067    & 45.2854442    &  26.840856264 &  6.208993     &  9.714556    \\\\\n",
       "\t 2021-01-13    & 1             & 31.45531      & 570           & 75.4          & 55.1544       & 7.3934        & 21.6561805    & 29.0967190    &  13.632782363 & 18.343819     & 25.903281    \\\\\n",
       "\t 2021-01-14    & 1             & 59.34964      & 573           & 75.4          & 55.1544       & 7.3699        & 11.1281051    & 15.1262175    &   5.739261089 & 28.871895     & 39.873783    \\\\\n",
       "\t 2021-01-15    & 1             & 52.82118      & 574           & 75.4          & 55.1544       & 7.4733        &  7.0102506    & 13.2380245    &   3.491290942 & 32.989749     & 41.761975    \\\\\n",
       "\t 2021-01-16    & 2             & 40.95125      & 576           & 75.4          & 55.1544       & 7.4733        &  5.7581615    & 11.4822727    &   0.993441567 & 34.241838     & 43.517727    \\\\\n",
       "\t 2021-01-17    & 2             & 41.00000      & 577           & 75.4          & 55.1544       & 7.4733        &  2.9097352    &  6.8476921    &  -5.095458782 & 37.090265     & 48.152308    \\\\\n",
       "\t 2021-01-18    & 1             & 49.48276      & 579           & 75.4          & 55.1544       & 7.4768        & -5.5023255    &  0.5232396    & -10.347337539 & 45.502326     & 54.476760    \\\\\n",
       "\t 2021-01-19    & 1             & 70.68966      & 580           & 75.4          & 55.1544       & 7.4691        & -9.7490277    &  0.1580802    & -16.279287048 & 49.749028     & 54.841920    \\\\\n",
       "\t 2021-01-20    & 1             & 51.60345      & 582           & 75.4          & 55.1544       & 7.4169        & -9.8145098    &  1.2587123    & -18.188002646 & 49.814510     & 53.741288    \\\\\n",
       "\t 2021-01-21    & 1             & 40.29310      & 584           & 75.4          & 55.1544       & 7.3636        & -0.7474196    & 11.1775718    &  -9.510457958 & 40.747420     & 43.822428    \\\\\n",
       "\t 2021-01-22    & 1             & 45.09550      & 586           & 75.4          & 55.1544       & 7.4106        &  6.3735062    & 16.4736264    &  -0.830728772 & 33.626494     & 38.526374    \\\\\n",
       "\t 2021-01-23    & 2             & 35.99864      & 588           & 75.4          & 55.1544       & 7.4106        & 10.6870426    & 20.7572894    &   4.897714379 & 29.312957     & 34.242711    \\\\\n",
       "\t 2021-01-24    & 2             & 35.18933      & 589           & 75.4          & 55.1544       & 7.4106        & 14.1499074    & 24.2390467    &   8.169469559 & 25.850093     & 30.760953    \\\\\n",
       "\t 2021-01-25    & 1             & 41.06754      & 592           & 75.4          & 55.1544       & 7.4040        & 16.2208093    & 23.1178238    &  11.446137186 & 23.779191     & 31.882176    \\\\\n",
       "\t 2021-01-26    & 1             & 41.30747      & 594           & 75.4          & 55.1544       & 7.3429        & 20.4018115    & 28.4328370    &  15.147067966 & 19.598188     & 26.567163    \\\\\n",
       "\t 2021-01-27    & 1             & 41.18751      & 596           & 75.4          & 55.1544       & 7.3918        & 16.2350090    & 22.9823170    &   6.759384398 & 23.764991     & 32.017683    \\\\\n",
       "\t 2021-01-28    & 1             & 43.74673      & 598           & 75.4          & 55.1544       & 7.3324        &  3.8098146    &  9.2917547    &  -0.005150026 & 36.190185     & 45.708245    \\\\\n",
       "\t 2021-01-29    & 1             & 39.58799      & 599           & 75.4          & 55.1544       & 7.3099        &  2.6702733    & 11.1312763    &  -3.751004985 & 37.329727     & 43.868724    \\\\\n",
       "\t 2021-01-30    & 2             & 34.82944      & 602           & 75.4          & 55.1544       & 7.3099        &  9.1063723    & 17.4873401    &   1.807828270 & 30.893628     & 37.512660    \\\\\n",
       "\t 2021-01-31    & 2             & 33.36131      & 604           & 75.4          & 55.1544       & 7.3099        & 14.9546967    & 25.2332069    &   7.681600213 & 25.045303     & 29.766793    \\\\\n",
       "\t 2021-02-01    & 1             & 33.36131      & 606           & 75.5          & 55.1544       & 7.3099        & 19.7534083    & 31.6249544    &  12.415641098 & 20.246592     & 23.375046    \\\\\n",
       "\\end{tabular}\n"
      ],
      "text/markdown": [
       "\n",
       "| date | lock_down_factor | covid_severity | sunlight_time_minutes | production_capacity_rate | price_of_electricity | usdtry | reduced_tmp | reduced_tmp_max | reduced_tmp_min | abs_reduced_tmp | abs_reduced_tmp_max |\n",
       "|---|---|---|---|---|---|---|---|---|---|---|---|\n",
       "| 2017-01-01  | 0           | 0           | 558         | 77          | 20.5219     | 3.5277      | -11.8303797 |  5.180090   | -20.1821010 | 51.83038    | 49.81991    |\n",
       "| 2017-01-02  | 0           | 0           | 558         | 77          | 20.5219     | 3.5445      |  -7.6558338 |  4.145409   | -14.4794818 | 47.65583    | 50.85459    |\n",
       "| 2017-01-03  | 0           | 0           | 559         | 77          | 20.5219     | 3.5943      |  -7.5980702 | 10.527235   | -16.0035362 | 47.59807    | 44.47276    |\n",
       "| 2017-01-04  | 0           | 0           | 560         | 77          | 20.5219     | 3.5713      |  -0.7089871 | 13.484344   | -11.9385991 | 40.70899    | 41.51566    |\n",
       "| 2017-01-05  | 0           | 0           | 561         | 77          | 20.5219     | 3.5927      |  10.2108282 | 15.041726   |   4.1931925 | 29.78917    | 39.95827    |\n",
       "| 2017-01-06  | 0           | 0           | 562         | 77          | 20.5219     | 3.6445      |  11.9315103 | 17.656083   |   4.3689798 | 28.06849    | 37.34392    |\n",
       "| 2017-01-07  | 0           | 0           | 563         | 77          | 20.5219     | 3.6445      |  -0.6995870 |  3.129613   |  -7.6495260 | 40.69959    | 51.87039    |\n",
       "| 2017-01-08  | 0           | 0           | 564         | 77          | 20.5219     | 3.6445      |  -7.7259978 | -2.677441   | -12.8573134 | 47.72600    | 57.67744    |\n",
       "| 2017-01-09  | 0           | 0           | 565         | 77          | 20.5219     | 3.7129      | -13.0119281 | -1.134620   | -19.4715034 | 53.01193    | 56.13462    |\n",
       "| 2017-01-10  | 0           | 0           | 567         | 77          | 20.5219     | 3.7885      |  -4.9529816 |  3.848957   | -18.9474820 | 44.95298    | 51.15104    |\n",
       "| 2017-01-11  | 0           | 0           | 568         | 77          | 20.5219     | 3.8647      |   1.0142911 | 10.711688   |  -6.7990970 | 38.98571    | 44.28831    |\n",
       "| 2017-01-12  | 0           | 0           | 569         | 77          | 20.5219     | 3.7597      |   2.4261283 | 11.026398   |  -4.1828973 | 37.57387    | 43.97360    |\n",
       "| 2017-01-13  | 0           | 0           | 570         | 77          | 20.5219     | 3.7230      |  -2.7302815 |  9.997897   |  -8.6178111 | 42.73028    | 45.00210    |\n",
       "| 2017-01-14  | 0           | 0           | 573         | 77          | 20.5219     | 3.7230      |   1.5539112 | 14.071691   |  -7.9105519 | 38.44609    | 40.92831    |\n",
       "| 2017-01-15  | 0           | 0           | 574         | 77          | 20.5219     | 3.7230      |   5.3254513 | 15.201826   |  -2.3952927 | 34.67455    | 39.79817    |\n",
       "| 2017-01-16  | 0           | 0           | 576         | 77          | 20.5219     | 3.8042      |   9.2906751 | 15.784043   |   5.5156784 | 30.70932    | 39.21596    |\n",
       "| 2017-01-17  | 0           | 0           | 577         | 77          | 20.5219     | 3.7610      |  10.3119602 | 18.519980   |   6.9340352 | 29.68804    | 36.48002    |\n",
       "| 2017-01-18  | 0           | 0           | 579         | 77          | 20.5219     | 3.7966      |   9.2428221 | 19.895555   |   3.3889214 | 30.75718    | 35.10445    |\n",
       "| 2017-01-19  | 0           | 0           | 580         | 77          | 20.5219     | 3.8273      |   7.3159979 | 18.265188   |   2.2073711 | 32.68400    | 36.73481    |\n",
       "| 2017-01-20  | 0           | 0           | 582         | 77          | 20.5219     | 3.7655      |   4.8224412 | 12.914472   |   0.3097586 | 35.17756    | 42.08553    |\n",
       "| 2017-01-21  | 0           | 0           | 584         | 77          | 20.5219     | 3.7655      |   0.7316314 |  9.965899   |  -5.7712757 | 39.26837    | 45.03410    |\n",
       "| 2017-01-22  | 0           | 0           | 586         | 77          | 20.5219     | 3.7655      |  -2.3996768 | 10.816669   | -10.0724781 | 42.39968    | 44.18333    |\n",
       "| 2017-01-23  | 0           | 0           | 588         | 77          | 20.5219     | 3.7573      |  -0.2757659 | 13.815078   |  -8.4394339 | 40.27577    | 41.18492    |\n",
       "| 2017-01-24  | 0           | 0           | 589         | 77          | 20.5219     | 3.7833      |   4.5658404 | 14.901593   |  -2.6159918 | 35.43416    | 40.09841    |\n",
       "| 2017-01-25  | 0           | 0           | 591         | 77          | 20.5219     | 3.8313      |   5.3056971 | 11.739032   |   1.3308134 | 34.69430    | 43.26097    |\n",
       "| 2017-01-26  | 0           | 0           | 594         | 77          | 20.5219     | 3.8440      |   0.6370789 |  6.762196   |  -7.8548876 | 39.36292    | 48.23780    |\n",
       "| 2017-01-27  | 0           | 0           | 596         | 77          | 20.5219     | 3.8775      | -10.3873020 | -4.218849   | -14.6293995 | 50.38730    | 59.21885    |\n",
       "| 2017-01-28  | 0           | 0           | 598         | 77          | 20.5219     | 3.8775      | -12.5315325 | -1.281304   | -18.7660822 | 52.53153    | 56.28130    |\n",
       "| 2017-01-29  | 0           | 0           | 599         | 77          | 20.5219     | 3.8775      | -10.4327979 |  5.376112   | -19.7086759 | 50.43280    | 49.62389    |\n",
       "| 2017-01-30  | 0           | 0           | 602         | 77          | 20.5219     | 3.7818      |  -6.9562081 |  6.189324   | -15.8017261 | 46.95621    | 48.81068    |\n",
       "| ... | ... | ... | ... | ... | ... | ... | ... | ... | ... | ... | ... |\n",
       "| 2021-01-03    | 2             | 29.67482      | 559           | 75.4          | 55.1544       | 7.4392        | 21.9026944    | 31.2421238    |  15.332225205 | 18.097306     | 23.757876     |\n",
       "| 2021-01-04    | 1             | 25.52034      | 560           | 75.4          | 55.1544       | 7.4198        | 22.2181538    | 33.2163926    |  14.350167508 | 17.781846     | 21.783607     |\n",
       "| 2021-01-05    | 1             | 26.70734      | 561           | 75.4          | 55.1544       | 7.3856        | 23.1199519    | 32.7374058    |  17.438861106 | 16.880048     | 22.262594     |\n",
       "| 2021-01-06    | 1             | 24.92685      | 562           | 75.4          | 55.1544       | 7.3047        | 21.3083901    | 31.9769169    |  14.437510205 | 18.691610     | 23.023083     |\n",
       "| 2021-01-07    | 1             | 23.14636      | 563           | 75.4          | 55.1544       | 7.3149        | 23.1480894    | 35.8160399    |  14.401818692 | 16.851911     | 19.183960     |\n",
       "| 2021-01-08    | 1             | 24.33335      | 564           | 75.4          | 55.1544       | 7.3713        | 26.3452038    | 38.0189061    |  18.757712427 | 13.654796     | 16.981094     |\n",
       "| 2021-01-09    | 2             | 22.55286      | 565           | 75.4          | 55.1544       | 7.3713        | 26.1500775    | 35.2034041    |  20.308214655 | 13.849923     | 19.796596     |\n",
       "| 2021-01-10    | 2             | 22.55286      | 567           | 75.4          | 55.1544       | 7.3713        | 27.0636320    | 36.7383564    |  20.179868828 | 12.936368     | 18.261644     |\n",
       "| 2021-01-11    | 1             | 24.33335      | 568           | 75.4          | 55.1544       | 7.4733        | 32.5656438    | 44.8832532    |  24.485757942 |  7.434356     | 10.116747     |\n",
       "| 2021-01-12    | 1             | 24.92685      | 569           | 75.4          | 55.1544       | 7.4482        | 33.7910067    | 45.2854442    |  26.840856264 |  6.208993     |  9.714556     |\n",
       "| 2021-01-13    | 1             | 31.45531      | 570           | 75.4          | 55.1544       | 7.3934        | 21.6561805    | 29.0967190    |  13.632782363 | 18.343819     | 25.903281     |\n",
       "| 2021-01-14    | 1             | 59.34964      | 573           | 75.4          | 55.1544       | 7.3699        | 11.1281051    | 15.1262175    |   5.739261089 | 28.871895     | 39.873783     |\n",
       "| 2021-01-15    | 1             | 52.82118      | 574           | 75.4          | 55.1544       | 7.4733        |  7.0102506    | 13.2380245    |   3.491290942 | 32.989749     | 41.761975     |\n",
       "| 2021-01-16    | 2             | 40.95125      | 576           | 75.4          | 55.1544       | 7.4733        |  5.7581615    | 11.4822727    |   0.993441567 | 34.241838     | 43.517727     |\n",
       "| 2021-01-17    | 2             | 41.00000      | 577           | 75.4          | 55.1544       | 7.4733        |  2.9097352    |  6.8476921    |  -5.095458782 | 37.090265     | 48.152308     |\n",
       "| 2021-01-18    | 1             | 49.48276      | 579           | 75.4          | 55.1544       | 7.4768        | -5.5023255    |  0.5232396    | -10.347337539 | 45.502326     | 54.476760     |\n",
       "| 2021-01-19    | 1             | 70.68966      | 580           | 75.4          | 55.1544       | 7.4691        | -9.7490277    |  0.1580802    | -16.279287048 | 49.749028     | 54.841920     |\n",
       "| 2021-01-20    | 1             | 51.60345      | 582           | 75.4          | 55.1544       | 7.4169        | -9.8145098    |  1.2587123    | -18.188002646 | 49.814510     | 53.741288     |\n",
       "| 2021-01-21    | 1             | 40.29310      | 584           | 75.4          | 55.1544       | 7.3636        | -0.7474196    | 11.1775718    |  -9.510457958 | 40.747420     | 43.822428     |\n",
       "| 2021-01-22    | 1             | 45.09550      | 586           | 75.4          | 55.1544       | 7.4106        |  6.3735062    | 16.4736264    |  -0.830728772 | 33.626494     | 38.526374     |\n",
       "| 2021-01-23    | 2             | 35.99864      | 588           | 75.4          | 55.1544       | 7.4106        | 10.6870426    | 20.7572894    |   4.897714379 | 29.312957     | 34.242711     |\n",
       "| 2021-01-24    | 2             | 35.18933      | 589           | 75.4          | 55.1544       | 7.4106        | 14.1499074    | 24.2390467    |   8.169469559 | 25.850093     | 30.760953     |\n",
       "| 2021-01-25    | 1             | 41.06754      | 592           | 75.4          | 55.1544       | 7.4040        | 16.2208093    | 23.1178238    |  11.446137186 | 23.779191     | 31.882176     |\n",
       "| 2021-01-26    | 1             | 41.30747      | 594           | 75.4          | 55.1544       | 7.3429        | 20.4018115    | 28.4328370    |  15.147067966 | 19.598188     | 26.567163     |\n",
       "| 2021-01-27    | 1             | 41.18751      | 596           | 75.4          | 55.1544       | 7.3918        | 16.2350090    | 22.9823170    |   6.759384398 | 23.764991     | 32.017683     |\n",
       "| 2021-01-28    | 1             | 43.74673      | 598           | 75.4          | 55.1544       | 7.3324        |  3.8098146    |  9.2917547    |  -0.005150026 | 36.190185     | 45.708245     |\n",
       "| 2021-01-29    | 1             | 39.58799      | 599           | 75.4          | 55.1544       | 7.3099        |  2.6702733    | 11.1312763    |  -3.751004985 | 37.329727     | 43.868724     |\n",
       "| 2021-01-30    | 2             | 34.82944      | 602           | 75.4          | 55.1544       | 7.3099        |  9.1063723    | 17.4873401    |   1.807828270 | 30.893628     | 37.512660     |\n",
       "| 2021-01-31    | 2             | 33.36131      | 604           | 75.4          | 55.1544       | 7.3099        | 14.9546967    | 25.2332069    |   7.681600213 | 25.045303     | 29.766793     |\n",
       "| 2021-02-01    | 1             | 33.36131      | 606           | 75.5          | 55.1544       | 7.3099        | 19.7534083    | 31.6249544    |  12.415641098 | 20.246592     | 23.375046     |\n",
       "\n"
      ],
      "text/plain": [
       "     date       lock_down_factor covid_severity sunlight_time_minutes\n",
       "1    2017-01-01 0                0              558                  \n",
       "2    2017-01-02 0                0              558                  \n",
       "3    2017-01-03 0                0              559                  \n",
       "4    2017-01-04 0                0              560                  \n",
       "5    2017-01-05 0                0              561                  \n",
       "6    2017-01-06 0                0              562                  \n",
       "7    2017-01-07 0                0              563                  \n",
       "8    2017-01-08 0                0              564                  \n",
       "9    2017-01-09 0                0              565                  \n",
       "10   2017-01-10 0                0              567                  \n",
       "11   2017-01-11 0                0              568                  \n",
       "12   2017-01-12 0                0              569                  \n",
       "13   2017-01-13 0                0              570                  \n",
       "14   2017-01-14 0                0              573                  \n",
       "15   2017-01-15 0                0              574                  \n",
       "16   2017-01-16 0                0              576                  \n",
       "17   2017-01-17 0                0              577                  \n",
       "18   2017-01-18 0                0              579                  \n",
       "19   2017-01-19 0                0              580                  \n",
       "20   2017-01-20 0                0              582                  \n",
       "21   2017-01-21 0                0              584                  \n",
       "22   2017-01-22 0                0              586                  \n",
       "23   2017-01-23 0                0              588                  \n",
       "24   2017-01-24 0                0              589                  \n",
       "25   2017-01-25 0                0              591                  \n",
       "26   2017-01-26 0                0              594                  \n",
       "27   2017-01-27 0                0              596                  \n",
       "28   2017-01-28 0                0              598                  \n",
       "29   2017-01-29 0                0              599                  \n",
       "30   2017-01-30 0                0              602                  \n",
       "...  ...        ...              ...            ...                  \n",
       "1464 2021-01-03 2                29.67482       559                  \n",
       "1465 2021-01-04 1                25.52034       560                  \n",
       "1466 2021-01-05 1                26.70734       561                  \n",
       "1467 2021-01-06 1                24.92685       562                  \n",
       "1468 2021-01-07 1                23.14636       563                  \n",
       "1469 2021-01-08 1                24.33335       564                  \n",
       "1470 2021-01-09 2                22.55286       565                  \n",
       "1471 2021-01-10 2                22.55286       567                  \n",
       "1472 2021-01-11 1                24.33335       568                  \n",
       "1473 2021-01-12 1                24.92685       569                  \n",
       "1474 2021-01-13 1                31.45531       570                  \n",
       "1475 2021-01-14 1                59.34964       573                  \n",
       "1476 2021-01-15 1                52.82118       574                  \n",
       "1477 2021-01-16 2                40.95125       576                  \n",
       "1478 2021-01-17 2                41.00000       577                  \n",
       "1479 2021-01-18 1                49.48276       579                  \n",
       "1480 2021-01-19 1                70.68966       580                  \n",
       "1481 2021-01-20 1                51.60345       582                  \n",
       "1482 2021-01-21 1                40.29310       584                  \n",
       "1483 2021-01-22 1                45.09550       586                  \n",
       "1484 2021-01-23 2                35.99864       588                  \n",
       "1485 2021-01-24 2                35.18933       589                  \n",
       "1486 2021-01-25 1                41.06754       592                  \n",
       "1487 2021-01-26 1                41.30747       594                  \n",
       "1488 2021-01-27 1                41.18751       596                  \n",
       "1489 2021-01-28 1                43.74673       598                  \n",
       "1490 2021-01-29 1                39.58799       599                  \n",
       "1491 2021-01-30 2                34.82944       602                  \n",
       "1492 2021-01-31 2                33.36131       604                  \n",
       "1493 2021-02-01 1                33.36131       606                  \n",
       "     production_capacity_rate price_of_electricity usdtry reduced_tmp\n",
       "1    77                       20.5219              3.5277 -11.8303797\n",
       "2    77                       20.5219              3.5445  -7.6558338\n",
       "3    77                       20.5219              3.5943  -7.5980702\n",
       "4    77                       20.5219              3.5713  -0.7089871\n",
       "5    77                       20.5219              3.5927  10.2108282\n",
       "6    77                       20.5219              3.6445  11.9315103\n",
       "7    77                       20.5219              3.6445  -0.6995870\n",
       "8    77                       20.5219              3.6445  -7.7259978\n",
       "9    77                       20.5219              3.7129 -13.0119281\n",
       "10   77                       20.5219              3.7885  -4.9529816\n",
       "11   77                       20.5219              3.8647   1.0142911\n",
       "12   77                       20.5219              3.7597   2.4261283\n",
       "13   77                       20.5219              3.7230  -2.7302815\n",
       "14   77                       20.5219              3.7230   1.5539112\n",
       "15   77                       20.5219              3.7230   5.3254513\n",
       "16   77                       20.5219              3.8042   9.2906751\n",
       "17   77                       20.5219              3.7610  10.3119602\n",
       "18   77                       20.5219              3.7966   9.2428221\n",
       "19   77                       20.5219              3.8273   7.3159979\n",
       "20   77                       20.5219              3.7655   4.8224412\n",
       "21   77                       20.5219              3.7655   0.7316314\n",
       "22   77                       20.5219              3.7655  -2.3996768\n",
       "23   77                       20.5219              3.7573  -0.2757659\n",
       "24   77                       20.5219              3.7833   4.5658404\n",
       "25   77                       20.5219              3.8313   5.3056971\n",
       "26   77                       20.5219              3.8440   0.6370789\n",
       "27   77                       20.5219              3.8775 -10.3873020\n",
       "28   77                       20.5219              3.8775 -12.5315325\n",
       "29   77                       20.5219              3.8775 -10.4327979\n",
       "30   77                       20.5219              3.7818  -6.9562081\n",
       "...  ...                      ...                  ...    ...        \n",
       "1464 75.4                     55.1544              7.4392 21.9026944 \n",
       "1465 75.4                     55.1544              7.4198 22.2181538 \n",
       "1466 75.4                     55.1544              7.3856 23.1199519 \n",
       "1467 75.4                     55.1544              7.3047 21.3083901 \n",
       "1468 75.4                     55.1544              7.3149 23.1480894 \n",
       "1469 75.4                     55.1544              7.3713 26.3452038 \n",
       "1470 75.4                     55.1544              7.3713 26.1500775 \n",
       "1471 75.4                     55.1544              7.3713 27.0636320 \n",
       "1472 75.4                     55.1544              7.4733 32.5656438 \n",
       "1473 75.4                     55.1544              7.4482 33.7910067 \n",
       "1474 75.4                     55.1544              7.3934 21.6561805 \n",
       "1475 75.4                     55.1544              7.3699 11.1281051 \n",
       "1476 75.4                     55.1544              7.4733  7.0102506 \n",
       "1477 75.4                     55.1544              7.4733  5.7581615 \n",
       "1478 75.4                     55.1544              7.4733  2.9097352 \n",
       "1479 75.4                     55.1544              7.4768 -5.5023255 \n",
       "1480 75.4                     55.1544              7.4691 -9.7490277 \n",
       "1481 75.4                     55.1544              7.4169 -9.8145098 \n",
       "1482 75.4                     55.1544              7.3636 -0.7474196 \n",
       "1483 75.4                     55.1544              7.4106  6.3735062 \n",
       "1484 75.4                     55.1544              7.4106 10.6870426 \n",
       "1485 75.4                     55.1544              7.4106 14.1499074 \n",
       "1486 75.4                     55.1544              7.4040 16.2208093 \n",
       "1487 75.4                     55.1544              7.3429 20.4018115 \n",
       "1488 75.4                     55.1544              7.3918 16.2350090 \n",
       "1489 75.4                     55.1544              7.3324  3.8098146 \n",
       "1490 75.4                     55.1544              7.3099  2.6702733 \n",
       "1491 75.4                     55.1544              7.3099  9.1063723 \n",
       "1492 75.4                     55.1544              7.3099 14.9546967 \n",
       "1493 75.5                     55.1544              7.3099 19.7534083 \n",
       "     reduced_tmp_max reduced_tmp_min abs_reduced_tmp abs_reduced_tmp_max\n",
       "1     5.180090       -20.1821010     51.83038        49.81991           \n",
       "2     4.145409       -14.4794818     47.65583        50.85459           \n",
       "3    10.527235       -16.0035362     47.59807        44.47276           \n",
       "4    13.484344       -11.9385991     40.70899        41.51566           \n",
       "5    15.041726         4.1931925     29.78917        39.95827           \n",
       "6    17.656083         4.3689798     28.06849        37.34392           \n",
       "7     3.129613        -7.6495260     40.69959        51.87039           \n",
       "8    -2.677441       -12.8573134     47.72600        57.67744           \n",
       "9    -1.134620       -19.4715034     53.01193        56.13462           \n",
       "10    3.848957       -18.9474820     44.95298        51.15104           \n",
       "11   10.711688        -6.7990970     38.98571        44.28831           \n",
       "12   11.026398        -4.1828973     37.57387        43.97360           \n",
       "13    9.997897        -8.6178111     42.73028        45.00210           \n",
       "14   14.071691        -7.9105519     38.44609        40.92831           \n",
       "15   15.201826        -2.3952927     34.67455        39.79817           \n",
       "16   15.784043         5.5156784     30.70932        39.21596           \n",
       "17   18.519980         6.9340352     29.68804        36.48002           \n",
       "18   19.895555         3.3889214     30.75718        35.10445           \n",
       "19   18.265188         2.2073711     32.68400        36.73481           \n",
       "20   12.914472         0.3097586     35.17756        42.08553           \n",
       "21    9.965899        -5.7712757     39.26837        45.03410           \n",
       "22   10.816669       -10.0724781     42.39968        44.18333           \n",
       "23   13.815078        -8.4394339     40.27577        41.18492           \n",
       "24   14.901593        -2.6159918     35.43416        40.09841           \n",
       "25   11.739032         1.3308134     34.69430        43.26097           \n",
       "26    6.762196        -7.8548876     39.36292        48.23780           \n",
       "27   -4.218849       -14.6293995     50.38730        59.21885           \n",
       "28   -1.281304       -18.7660822     52.53153        56.28130           \n",
       "29    5.376112       -19.7086759     50.43280        49.62389           \n",
       "30    6.189324       -15.8017261     46.95621        48.81068           \n",
       "...  ...             ...             ...             ...                \n",
       "1464 31.2421238       15.332225205   18.097306       23.757876          \n",
       "1465 33.2163926       14.350167508   17.781846       21.783607          \n",
       "1466 32.7374058       17.438861106   16.880048       22.262594          \n",
       "1467 31.9769169       14.437510205   18.691610       23.023083          \n",
       "1468 35.8160399       14.401818692   16.851911       19.183960          \n",
       "1469 38.0189061       18.757712427   13.654796       16.981094          \n",
       "1470 35.2034041       20.308214655   13.849923       19.796596          \n",
       "1471 36.7383564       20.179868828   12.936368       18.261644          \n",
       "1472 44.8832532       24.485757942    7.434356       10.116747          \n",
       "1473 45.2854442       26.840856264    6.208993        9.714556          \n",
       "1474 29.0967190       13.632782363   18.343819       25.903281          \n",
       "1475 15.1262175        5.739261089   28.871895       39.873783          \n",
       "1476 13.2380245        3.491290942   32.989749       41.761975          \n",
       "1477 11.4822727        0.993441567   34.241838       43.517727          \n",
       "1478  6.8476921       -5.095458782   37.090265       48.152308          \n",
       "1479  0.5232396      -10.347337539   45.502326       54.476760          \n",
       "1480  0.1580802      -16.279287048   49.749028       54.841920          \n",
       "1481  1.2587123      -18.188002646   49.814510       53.741288          \n",
       "1482 11.1775718       -9.510457958   40.747420       43.822428          \n",
       "1483 16.4736264       -0.830728772   33.626494       38.526374          \n",
       "1484 20.7572894        4.897714379   29.312957       34.242711          \n",
       "1485 24.2390467        8.169469559   25.850093       30.760953          \n",
       "1486 23.1178238       11.446137186   23.779191       31.882176          \n",
       "1487 28.4328370       15.147067966   19.598188       26.567163          \n",
       "1488 22.9823170        6.759384398   23.764991       32.017683          \n",
       "1489  9.2917547       -0.005150026   36.190185       45.708245          \n",
       "1490 11.1312763       -3.751004985   37.329727       43.868724          \n",
       "1491 17.4873401        1.807828270   30.893628       37.512660          \n",
       "1492 25.2332069        7.681600213   25.045303       29.766793          \n",
       "1493 31.6249544       12.415641098   20.246592       23.375046          "
      ]
     },
     "metadata": {},
     "output_type": "display_data"
    }
   ],
   "source": [
    "final_feat_dt"
   ]
  },
  {
   "cell_type": "code",
   "execution_count": 752,
   "metadata": {
    "scrolled": false
   },
   "outputs": [],
   "source": [
    "# lm4=lm(random~.-random-date-consumption, data=final_feat_dt)\n",
    "# summary(lm4)\n",
    "# lm4_step=step(lm4)\n",
    "# summary(lm4_step)"
   ]
  },
  {
   "cell_type": "code",
   "execution_count": 753,
   "metadata": {},
   "outputs": [
    {
     "data": {
      "image/png": "[encoded data removed]",
      "text/plain": [
       "plot without title"
      ]
     },
     "metadata": {},
     "output_type": "display_data"
    }
   ],
   "source": [
    "check_random=decompose(ts(pred_dt[date<\"2021-01-31\",]$consumption,freq=7),type='add')\n",
    "plot(check_random)"
   ]
  },
  {
   "cell_type": "code",
   "execution_count": 754,
   "metadata": {},
   "outputs": [],
   "source": [
    "final_feat_dt[, rn:=0]\n",
    "final_feat_dt[date<\"2021-01-31\", rn:=check_random$random]"
   ]
  },
  {
   "cell_type": "code",
   "execution_count": 755,
   "metadata": {},
   "outputs": [
    {
     "name": "stdout",
     "output_type": "stream",
     "text": [
      "Classes 'data.table' and 'data.frame':\t1493 obs. of  13 variables:\n",
      " $ date                    : Date, format: \"2017-01-01\" \"2017-01-02\" ...\n",
      " $ lock_down_factor        : num  0 0 0 0 0 0 0 0 0 0 ...\n",
      " $ covid_severity          : num  0 0 0 0 0 0 0 0 0 0 ...\n",
      " $ sunlight_time_minutes   : int  558 558 559 560 561 562 563 564 565 567 ...\n",
      " $ production_capacity_rate: num  77 77 77 77 77 77 77 77 77 77 ...\n",
      " $ price_of_electricity    : num  20.5 20.5 20.5 20.5 20.5 ...\n",
      " $ usdtry                  : num  3.53 3.54 3.59 3.57 3.59 ...\n",
      " $ reduced_tmp             : num  -11.83 -7.656 -7.598 -0.709 10.211 ...\n",
      " $ reduced_tmp_max         : num  5.18 4.15 10.53 13.48 15.04 ...\n",
      " $ reduced_tmp_min         : num  -20.18 -14.48 -16 -11.94 4.19 ...\n",
      " $ abs_reduced_tmp         : num  51.8 47.7 47.6 40.7 29.8 ...\n",
      " $ abs_reduced_tmp_max     : num  49.8 50.9 44.5 41.5 40 ...\n",
      " $ rn                      : num  NA NA NA 526.3 57.3 ...\n",
      " - attr(*, \".internal.selfref\")=<externalptr> \n",
      " - attr(*, \"sorted\")= chr \"date\"\n"
     ]
    }
   ],
   "source": [
    "str(final_feat_dt)"
   ]
  },
  {
   "cell_type": "markdown",
   "metadata": {},
   "source": [
    "# Regx"
   ]
  },
  {
   "cell_type": "code",
   "execution_count": 756,
   "metadata": {},
   "outputs": [],
   "source": [
    "final_feat_dt[lock_down_factor==1,lock_down_factor:=0]\n",
    "final_feat_dt[lock_down_factor==2,lock_down_factor:=1]"
   ]
  },
  {
   "cell_type": "code",
   "execution_count": 757,
   "metadata": {},
   "outputs": [
    {
     "name": "stdout",
     "output_type": "stream",
     "text": [
      "Classes 'data.table' and 'data.frame':\t1493 obs. of  13 variables:\n",
      " $ date                    : Date, format: \"2017-01-01\" \"2017-01-02\" ...\n",
      " $ lock_down_factor        : num  0 0 0 0 0 0 0 0 0 0 ...\n",
      " $ covid_severity          : num  0 0 0 0 0 0 0 0 0 0 ...\n",
      " $ sunlight_time_minutes   : int  558 558 559 560 561 562 563 564 565 567 ...\n",
      " $ production_capacity_rate: num  77 77 77 77 77 77 77 77 77 77 ...\n",
      " $ price_of_electricity    : num  20.5 20.5 20.5 20.5 20.5 ...\n",
      " $ usdtry                  : num  3.53 3.54 3.59 3.57 3.59 ...\n",
      " $ reduced_tmp             : num  -11.83 -7.656 -7.598 -0.709 10.211 ...\n",
      " $ reduced_tmp_max         : num  5.18 4.15 10.53 13.48 15.04 ...\n",
      " $ reduced_tmp_min         : num  -20.18 -14.48 -16 -11.94 4.19 ...\n",
      " $ abs_reduced_tmp         : num  51.8 47.7 47.6 40.7 29.8 ...\n",
      " $ abs_reduced_tmp_max     : num  49.8 50.9 44.5 41.5 40 ...\n",
      " $ rn                      : num  NA NA NA 526.3 57.3 ...\n",
      " - attr(*, \".internal.selfref\")=<externalptr> \n",
      " - attr(*, \"sorted\")= chr \"date\"\n",
      " - attr(*, \"index\")= int \n"
     ]
    }
   ],
   "source": [
    "str(final_feat_dt)"
   ]
  },
  {
   "cell_type": "code",
   "execution_count": 758,
   "metadata": {
    "scrolled": false
   },
   "outputs": [],
   "source": [
    "# lm_last=lm(rn~.,data=final_feat_dt[4:1485])\n",
    "# summary(lm_last)\n",
    "# lm_last_step=step(lm_last)\n",
    "# summary(lm_last_step)"
   ]
  },
  {
   "cell_type": "code",
   "execution_count": 759,
   "metadata": {},
   "outputs": [],
   "source": [
    "elim_feat=final_feat_dt[, c(\"date\", \"lock_down_factor\", \"covid_severity\", \"sunlight_time_minutes\", \n",
    "                           \"production_capacity_rate\", \"reduced_tmp\", \"reduced_tmp_min\",\n",
    "                           'abs_reduced_tmp', \"abs_reduced_tmp_max\")]"
   ]
  },
  {
   "cell_type": "code",
   "execution_count": 760,
   "metadata": {},
   "outputs": [],
   "source": [
    "#all_feature[,c(2,3,4,5,6,7,23,24)]"
   ]
  },
  {
   "cell_type": "code",
   "execution_count": 763,
   "metadata": {},
   "outputs": [
    {
     "data": {
      "text/plain": [
       " lock_down_factor  covid_severity    sunlight_time_minutes\n",
       " Min.   :0.00000   Min.   :  0.000   Min.   :553.0        \n",
       " 1st Qu.:0.00000   1st Qu.:  0.000   1st Qu.:608.0        \n",
       " Median :0.00000   Median :  0.000   Median :728.0        \n",
       " Mean   :0.02813   Mean   :  9.009   Mean   :729.1        \n",
       " 3rd Qu.:0.00000   3rd Qu.:  0.000   3rd Qu.:848.0        \n",
       " Max.   :1.00000   Max.   :100.000   Max.   :908.0        \n",
       " production_capacity_rate  reduced_tmp     reduced_tmp_min  abs_reduced_tmp   \n",
       " Min.   :61.60            Min.   :-13.01   Min.   :-21.24   Min.   : 0.03416  \n",
       " 1st Qu.:75.30            1st Qu.: 20.51   1st Qu.: 13.03   1st Qu.:10.72410  \n",
       " Median :76.40            Median : 37.71   Median : 27.14   Median :18.41259  \n",
       " Mean   :75.76            Mean   : 37.58   Mean   : 27.48   Mean   :18.26586  \n",
       " 3rd Qu.:77.80            3rd Qu.: 57.12   3rd Qu.: 44.27   3rd Qu.:24.82887  \n",
       " Max.   :79.90            Max.   : 74.82   Max.   : 59.44   Max.   :53.01193  \n",
       " abs_reduced_tmp_max\n",
       " Min.   : 0.01815   \n",
       " 1st Qu.:11.57390   \n",
       " Median :20.44269   \n",
       " Mean   :20.51005   \n",
       " 3rd Qu.:27.43050   \n",
       " Max.   :59.21885   "
      ]
     },
     "metadata": {},
     "output_type": "display_data"
    }
   ],
   "source": [
    "summary(elim_feat[,-1])"
   ]
  },
  {
   "cell_type": "code",
   "execution_count": 779,
   "metadata": {},
   "outputs": [
    {
     "name": "stdout",
     "output_type": "stream",
     "text": [
      "Classes 'data.table' and 'data.frame':\t1488 obs. of  8 variables:\n",
      " $ lock_down_factor        : num  0 0 0 0 0 0 0 0 0 0 ...\n",
      " $ covid_severity          : num  0 0 0 0 0 0 0 0 0 0 ...\n",
      " $ sunlight_time_minutes   : int  558 558 559 560 561 562 563 564 565 567 ...\n",
      " $ production_capacity_rate: num  77 77 77 77 77 77 77 77 77 77 ...\n",
      " $ reduced_tmp             : num  -11.83 -7.656 -7.598 -0.709 10.211 ...\n",
      " $ reduced_tmp_min         : num  -20.18 -14.48 -16 -11.94 4.19 ...\n",
      " $ abs_reduced_tmp         : num  51.8 47.7 47.6 40.7 29.8 ...\n",
      " $ abs_reduced_tmp_max     : num  49.8 50.9 44.5 41.5 40 ...\n",
      " - attr(*, \".internal.selfref\")=<externalptr> \n"
     ]
    }
   ],
   "source": [
    "str(as.vector(elim_feat[date<\"2021-01-28\",-1]))"
   ]
  },
  {
   "cell_type": "code",
   "execution_count": 780,
   "metadata": {},
   "outputs": [],
   "source": [
    "?auto.arima"
   ]
  },
  {
   "cell_type": "code",
   "execution_count": 784,
   "metadata": {},
   "outputs": [
    {
     "name": "stdout",
     "output_type": "stream",
     "text": [
      "Classes 'data.table' and 'data.frame':\t1493 obs. of  9 variables:\n",
      " $ date                    : Date, format: \"2017-01-01\" \"2017-01-02\" ...\n",
      " $ lock_down_factor        : num  0 0 0 0 0 0 0 0 0 0 ...\n",
      " $ covid_severity          : num  0 0 0 0 0 0 0 0 0 0 ...\n",
      " $ sunlight_time_minutes   : int  558 558 559 560 561 562 563 564 565 567 ...\n",
      " $ production_capacity_rate: num  77 77 77 77 77 77 77 77 77 77 ...\n",
      " $ reduced_tmp             : num  -11.83 -7.656 -7.598 -0.709 10.211 ...\n",
      " $ reduced_tmp_min         : num  -20.18 -14.48 -16 -11.94 4.19 ...\n",
      " $ abs_reduced_tmp         : num  51.8 47.7 47.6 40.7 29.8 ...\n",
      " $ abs_reduced_tmp_max     : num  49.8 50.9 44.5 41.5 40 ...\n",
      " - attr(*, \".internal.selfref\")=<externalptr> \n",
      " - attr(*, \"sorted\")= chr \"date\"\n"
     ]
    }
   ],
   "source": [
    "str(elim_feat)"
   ]
  },
  {
   "cell_type": "code",
   "execution_count": 797,
   "metadata": {},
   "outputs": [
    {
     "data": {
      "text/html": [
       "<table>\n",
       "<thead><tr><th scope=col>date</th><th scope=col>consumption</th></tr></thead>\n",
       "<tbody>\n",
       "\t<tr><td>2021-01-27</td><td>38511.21  </td></tr>\n",
       "\t<tr><td>2021-01-28</td><td>39299.42  </td></tr>\n",
       "\t<tr><td>2021-01-29</td><td>39057.30  </td></tr>\n",
       "\t<tr><td>2021-01-30</td><td>35959.29  </td></tr>\n",
       "\t<tr><td>2021-01-31</td><td>   -1.00  </td></tr>\n",
       "\t<tr><td>2021-02-01</td><td>   -1.00  </td></tr>\n",
       "</tbody>\n",
       "</table>\n"
      ],
      "text/latex": [
       "\\begin{tabular}{r|ll}\n",
       " date & consumption\\\\\n",
       "\\hline\n",
       "\t 2021-01-27 & 38511.21  \\\\\n",
       "\t 2021-01-28 & 39299.42  \\\\\n",
       "\t 2021-01-29 & 39057.30  \\\\\n",
       "\t 2021-01-30 & 35959.29  \\\\\n",
       "\t 2021-01-31 &    -1.00  \\\\\n",
       "\t 2021-02-01 &    -1.00  \\\\\n",
       "\\end{tabular}\n"
      ],
      "text/markdown": [
       "\n",
       "| date | consumption |\n",
       "|---|---|\n",
       "| 2021-01-27 | 38511.21   |\n",
       "| 2021-01-28 | 39299.42   |\n",
       "| 2021-01-29 | 39057.30   |\n",
       "| 2021-01-30 | 35959.29   |\n",
       "| 2021-01-31 |    -1.00   |\n",
       "| 2021-02-01 |    -1.00   |\n",
       "\n"
      ],
      "text/plain": [
       "  date       consumption\n",
       "1 2021-01-27 38511.21   \n",
       "2 2021-01-28 39299.42   \n",
       "3 2021-01-29 39057.30   \n",
       "4 2021-01-30 35959.29   \n",
       "5 2021-01-31    -1.00   \n",
       "6 2021-02-01    -1.00   "
      ]
     },
     "metadata": {},
     "output_type": "display_data"
    }
   ],
   "source": [
    "tail(pred_dt)"
   ]
  },
  {
   "cell_type": "code",
   "execution_count": 838,
   "metadata": {
    "scrolled": false
   },
   "outputs": [],
   "source": [
    "test_start=as.Date(\"2020-12-01\")\n",
    "\n",
    "results=vector(\"list\",20)\n",
    "\n",
    "for(i in 1:20){\n",
    "    current_test_date=test_start+i\n",
    "    train_data=pred_dt[date<current_test_date]\n",
    "    xreg_train=unname(as.matrix(elim_feat[date<current_test_date,c(2,3,4,5,6,7,8,9)]))\n",
    "    test_data=pred_dt[date==current_test_date]\n",
    "    xreg_test=unname(as.matrix(elim_feat[date==current_test_date,c(2,3,4,5,6,7,8,9)]))\n",
    "    decomp=decompose(ts(train_data$consumption,freq=7),type=\"add\")\n",
    "    rand_val=decomp$random  \n",
    "    fit_mod=arima(rand_val, order=c(0,0,2), seasonal = list(order = c(0, 0, 1), period = 7), xreg=xreg_train)\n",
    "    test_data[,forecasted:=as.numeric(predict(fit_mod, n.ahead = 1,newxreg=xreg_test)$pred + decomp$season[wday(current_test_date)] +\n",
    "                                     tail(decomp$trend[!is.na(decomp$trend)],1))]\n",
    "    results[[i+1]]=test_data\n",
    "}"
   ]
  },
  {
   "cell_type": "code",
   "execution_count": 839,
   "metadata": {},
   "outputs": [],
   "source": [
    "res_dt=rbindlist(results)"
   ]
  },
  {
   "cell_type": "code",
   "execution_count": 840,
   "metadata": {},
   "outputs": [],
   "source": [
    "res_dt[, diff:=consumption-forecasted]"
   ]
  },
  {
   "cell_type": "code",
   "execution_count": 841,
   "metadata": {},
   "outputs": [
    {
     "data": {
      "text/html": [
       "<table>\n",
       "<thead><tr><th scope=col>date</th><th scope=col>consumption</th><th scope=col>forecasted</th><th scope=col>diff</th></tr></thead>\n",
       "<tbody>\n",
       "\t<tr><td>2020-12-02 </td><td>36928.90   </td><td>36556.48   </td><td>  372.42098</td></tr>\n",
       "\t<tr><td>2020-12-03 </td><td>36589.02   </td><td>36560.27   </td><td>   28.75113</td></tr>\n",
       "\t<tr><td>2020-12-04 </td><td>35920.61   </td><td>36194.36   </td><td> -273.74892</td></tr>\n",
       "\t<tr><td>2020-12-05 </td><td>33366.51   </td><td>34488.45   </td><td>-1121.94454</td></tr>\n",
       "\t<tr><td>2020-12-06 </td><td>30402.78   </td><td>30977.70   </td><td> -574.92423</td></tr>\n",
       "\t<tr><td>2020-12-07 </td><td>35328.13   </td><td>35300.16   </td><td>   27.97062</td></tr>\n",
       "\t<tr><td>2020-12-08 </td><td>36755.20   </td><td>36246.62   </td><td>  508.57753</td></tr>\n",
       "\t<tr><td>2020-12-09 </td><td>36450.95   </td><td>36156.49   </td><td>  294.45580</td></tr>\n",
       "\t<tr><td>2020-12-10 </td><td>36355.39   </td><td>36185.45   </td><td>  169.94104</td></tr>\n",
       "\t<tr><td>2020-12-11 </td><td>36332.31   </td><td>36075.99   </td><td>  256.32092</td></tr>\n",
       "\t<tr><td>2020-12-12 </td><td>34263.43   </td><td>34094.53   </td><td>  168.89842</td></tr>\n",
       "\t<tr><td>2020-12-13 </td><td>31368.35   </td><td>31166.64   </td><td>  201.70296</td></tr>\n",
       "\t<tr><td>2020-12-14 </td><td>35863.82   </td><td>35711.45   </td><td>  152.37108</td></tr>\n",
       "\t<tr><td>2020-12-15 </td><td>36924.63   </td><td>36645.06   </td><td>  279.57913</td></tr>\n",
       "\t<tr><td>2020-12-16 </td><td>36775.63   </td><td>36664.21   </td><td>  111.41932</td></tr>\n",
       "\t<tr><td>2020-12-17 </td><td>36504.18   </td><td>36605.55   </td><td> -101.37002</td></tr>\n",
       "\t<tr><td>2020-12-18 </td><td>36196.06   </td><td>36389.09   </td><td> -193.03841</td></tr>\n",
       "\t<tr><td>2020-12-19 </td><td>34043.98   </td><td>34540.52   </td><td> -496.53477</td></tr>\n",
       "\t<tr><td>2020-12-20 </td><td>31060.00   </td><td>31213.27   </td><td> -153.26606</td></tr>\n",
       "\t<tr><td>2020-12-21 </td><td>36561.96   </td><td>35631.09   </td><td>  930.87147</td></tr>\n",
       "</tbody>\n",
       "</table>\n"
      ],
      "text/latex": [
       "\\begin{tabular}{r|llll}\n",
       " date & consumption & forecasted & diff\\\\\n",
       "\\hline\n",
       "\t 2020-12-02  & 36928.90    & 36556.48    &   372.42098\\\\\n",
       "\t 2020-12-03  & 36589.02    & 36560.27    &    28.75113\\\\\n",
       "\t 2020-12-04  & 35920.61    & 36194.36    &  -273.74892\\\\\n",
       "\t 2020-12-05  & 33366.51    & 34488.45    & -1121.94454\\\\\n",
       "\t 2020-12-06  & 30402.78    & 30977.70    &  -574.92423\\\\\n",
       "\t 2020-12-07  & 35328.13    & 35300.16    &    27.97062\\\\\n",
       "\t 2020-12-08  & 36755.20    & 36246.62    &   508.57753\\\\\n",
       "\t 2020-12-09  & 36450.95    & 36156.49    &   294.45580\\\\\n",
       "\t 2020-12-10  & 36355.39    & 36185.45    &   169.94104\\\\\n",
       "\t 2020-12-11  & 36332.31    & 36075.99    &   256.32092\\\\\n",
       "\t 2020-12-12  & 34263.43    & 34094.53    &   168.89842\\\\\n",
       "\t 2020-12-13  & 31368.35    & 31166.64    &   201.70296\\\\\n",
       "\t 2020-12-14  & 35863.82    & 35711.45    &   152.37108\\\\\n",
       "\t 2020-12-15  & 36924.63    & 36645.06    &   279.57913\\\\\n",
       "\t 2020-12-16  & 36775.63    & 36664.21    &   111.41932\\\\\n",
       "\t 2020-12-17  & 36504.18    & 36605.55    &  -101.37002\\\\\n",
       "\t 2020-12-18  & 36196.06    & 36389.09    &  -193.03841\\\\\n",
       "\t 2020-12-19  & 34043.98    & 34540.52    &  -496.53477\\\\\n",
       "\t 2020-12-20  & 31060.00    & 31213.27    &  -153.26606\\\\\n",
       "\t 2020-12-21  & 36561.96    & 35631.09    &   930.87147\\\\\n",
       "\\end{tabular}\n"
      ],
      "text/markdown": [
       "\n",
       "| date | consumption | forecasted | diff |\n",
       "|---|---|---|---|\n",
       "| 2020-12-02  | 36928.90    | 36556.48    |   372.42098 |\n",
       "| 2020-12-03  | 36589.02    | 36560.27    |    28.75113 |\n",
       "| 2020-12-04  | 35920.61    | 36194.36    |  -273.74892 |\n",
       "| 2020-12-05  | 33366.51    | 34488.45    | -1121.94454 |\n",
       "| 2020-12-06  | 30402.78    | 30977.70    |  -574.92423 |\n",
       "| 2020-12-07  | 35328.13    | 35300.16    |    27.97062 |\n",
       "| 2020-12-08  | 36755.20    | 36246.62    |   508.57753 |\n",
       "| 2020-12-09  | 36450.95    | 36156.49    |   294.45580 |\n",
       "| 2020-12-10  | 36355.39    | 36185.45    |   169.94104 |\n",
       "| 2020-12-11  | 36332.31    | 36075.99    |   256.32092 |\n",
       "| 2020-12-12  | 34263.43    | 34094.53    |   168.89842 |\n",
       "| 2020-12-13  | 31368.35    | 31166.64    |   201.70296 |\n",
       "| 2020-12-14  | 35863.82    | 35711.45    |   152.37108 |\n",
       "| 2020-12-15  | 36924.63    | 36645.06    |   279.57913 |\n",
       "| 2020-12-16  | 36775.63    | 36664.21    |   111.41932 |\n",
       "| 2020-12-17  | 36504.18    | 36605.55    |  -101.37002 |\n",
       "| 2020-12-18  | 36196.06    | 36389.09    |  -193.03841 |\n",
       "| 2020-12-19  | 34043.98    | 34540.52    |  -496.53477 |\n",
       "| 2020-12-20  | 31060.00    | 31213.27    |  -153.26606 |\n",
       "| 2020-12-21  | 36561.96    | 35631.09    |   930.87147 |\n",
       "\n"
      ],
      "text/plain": [
       "   date       consumption forecasted diff       \n",
       "1  2020-12-02 36928.90    36556.48     372.42098\n",
       "2  2020-12-03 36589.02    36560.27      28.75113\n",
       "3  2020-12-04 35920.61    36194.36    -273.74892\n",
       "4  2020-12-05 33366.51    34488.45   -1121.94454\n",
       "5  2020-12-06 30402.78    30977.70    -574.92423\n",
       "6  2020-12-07 35328.13    35300.16      27.97062\n",
       "7  2020-12-08 36755.20    36246.62     508.57753\n",
       "8  2020-12-09 36450.95    36156.49     294.45580\n",
       "9  2020-12-10 36355.39    36185.45     169.94104\n",
       "10 2020-12-11 36332.31    36075.99     256.32092\n",
       "11 2020-12-12 34263.43    34094.53     168.89842\n",
       "12 2020-12-13 31368.35    31166.64     201.70296\n",
       "13 2020-12-14 35863.82    35711.45     152.37108\n",
       "14 2020-12-15 36924.63    36645.06     279.57913\n",
       "15 2020-12-16 36775.63    36664.21     111.41932\n",
       "16 2020-12-17 36504.18    36605.55    -101.37002\n",
       "17 2020-12-18 36196.06    36389.09    -193.03841\n",
       "18 2020-12-19 34043.98    34540.52    -496.53477\n",
       "19 2020-12-20 31060.00    31213.27    -153.26606\n",
       "20 2020-12-21 36561.96    35631.09     930.87147"
      ]
     },
     "metadata": {},
     "output_type": "display_data"
    }
   ],
   "source": [
    "res_dt"
   ]
  },
  {
   "cell_type": "code",
   "execution_count": 842,
   "metadata": {},
   "outputs": [
    {
     "data": {
      "text/html": [
       "<table>\n",
       "<thead><tr><th scope=col>name</th><th scope=col>n</th><th scope=col>mean</th><th scope=col>sd</th><th scope=col>FBias</th><th scope=col>MAPE</th><th scope=col>RMSE</th><th scope=col>MAD</th><th scope=col>WMAPE</th></tr></thead>\n",
       "<tbody>\n",
       "\t<tr><td>Predictions in Arima with Slicing Window</td><td>20                                      </td><td>35199.59                                </td><td>2088.944                                </td><td>0.000835881                             </td><td>0.009238102                             </td><td>95.02083                                </td><td>320.9054                                </td><td>0.009116735                             </td></tr>\n",
       "</tbody>\n",
       "</table>\n"
      ],
      "text/latex": [
       "\\begin{tabular}{r|lllllllll}\n",
       " name & n & mean & sd & FBias & MAPE & RMSE & MAD & WMAPE\\\\\n",
       "\\hline\n",
       "\t Predictions in Arima with Slicing Window & 20                                       & 35199.59                                 & 2088.944                                 & 0.000835881                              & 0.009238102                              & 95.02083                                 & 320.9054                                 & 0.009116735                             \\\\\n",
       "\\end{tabular}\n"
      ],
      "text/markdown": [
       "\n",
       "| name | n | mean | sd | FBias | MAPE | RMSE | MAD | WMAPE |\n",
       "|---|---|---|---|---|---|---|---|---|\n",
       "| Predictions in Arima with Slicing Window | 20                                       | 35199.59                                 | 2088.944                                 | 0.000835881                              | 0.009238102                              | 95.02083                                 | 320.9054                                 | 0.009116735                              |\n",
       "\n"
      ],
      "text/plain": [
       "  name                                     n  mean     sd       FBias      \n",
       "1 Predictions in Arima with Slicing Window 20 35199.59 2088.944 0.000835881\n",
       "  MAPE        RMSE     MAD      WMAPE      \n",
       "1 0.009238102 95.02083 320.9054 0.009116735"
      ]
     },
     "metadata": {},
     "output_type": "display_data"
    }
   ],
   "source": [
    "perf_dt(\"Predictions in Arima with Slicing Window\", res_dt$consumption, res_dt$forecasted)"
   ]
  },
  {
   "cell_type": "code",
   "execution_count": null,
   "metadata": {},
   "outputs": [],
   "source": []
  }
 ],
 "metadata": {
  "kernelspec": {
   "display_name": "R",
   "language": "R",
   "name": "ir"
  },
  "language_info": {
   "codemirror_mode": "r",
   "file_extension": ".r",
   "mimetype": "text/x-r-source",
   "name": "R",
   "pygments_lexer": "r",
   "version": "3.6.1"
  }
 },
 "nbformat": 4,
 "nbformat_minor": 4
}
