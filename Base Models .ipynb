{
 "cells": [
  {
   "cell_type": "code",
   "execution_count": 105,
   "metadata": {},
   "outputs": [],
   "source": [
    "# install the required packages first\n",
    "require(jsonlite)\n",
    "require(httr)\n",
    "require(data.table)\n",
    "\n",
    "get_token <- function(username, password, url_site){\n",
    "    \n",
    "    post_body = list(username=username,password=password)\n",
    "    post_url_string = paste0(url_site,'/token/')\n",
    "    result = POST(post_url_string, body = post_body)\n",
    "\n",
    "    # error handling (wrong credentials)\n",
    "    if(result$status_code==400){\n",
    "        print('Check your credentials')\n",
    "        return(0)\n",
    "    }\n",
    "    else if (result$status_code==201){\n",
    "        output = content(result)\n",
    "        token = output$key\n",
    "    }\n",
    "\n",
    "    return(token)\n",
    "}\n",
    "\n",
    "get_data <- function(start_date='2020-03-20', token, url_site){\n",
    "    \n",
    "    post_body = list(start_date=start_date,username=username,password=password)\n",
    "    post_url_string = paste0(url_site,'/dataset/')\n",
    "    \n",
    "    header = add_headers(c(Authorization=paste('Token',token,sep=' ')))\n",
    "    result = GET(post_url_string, header, body = post_body)\n",
    "    output = content(result)\n",
    "    data = data.table::rbindlist(output)\n",
    "    data[,event_date:=as.Date(event_date)]\n",
    "    data = data[order(event_date)]\n",
    "    return(data)\n",
    "}\n",
    "\n",
    "\n",
    "send_submission <- function(predictions, token, url_site, submit_now=F){\n",
    "    \n",
    "    format_check=check_format(predictions)\n",
    "    if(!format_check){\n",
    "        return(FALSE)\n",
    "    }\n",
    "    \n",
    "    post_string=\"list(\"\n",
    "    for(i in 1:nrow(predictions)){\n",
    "        if(i<nrow(predictions)){\n",
    "            post_string=sprintf(\"%s%s,\",post_string,predictions$forecast[i])\n",
    "        } else {\n",
    "            post_string=sprintf(\"%s%s)\",post_string,predictions$forecast[i])\n",
    "        }\n",
    "    }\n",
    "    \n",
    "    submission = eval(parse(text=post_string))\n",
    "    json_body = jsonlite::toJSON(submission, auto_unbox = TRUE)\n",
    "    submission=list(submission=json_body)\n",
    "    \n",
    "    print(submission)\n",
    "    # {\"31515569\":2.4,\"32939029\":2.4,\"4066298\":2.4,\"6676673\":2.4,\"7061886\":2.4,\"85004\":2.4} \n",
    "\n",
    "    if(!submit_now){\n",
    "        print(\"You did not submit.\")\n",
    "        return(FALSE)      \n",
    "    }\n",
    "    \n",
    "\n",
    "    header = add_headers(c(Authorization=paste('Token',token,sep=' ')))\n",
    "    post_url_string = paste0(url_site,'/submission/')\n",
    "    result = POST(post_url_string, header, body=submission)\n",
    "    \n",
    "    if (result$status_code==201){\n",
    "        print(\"Successfully submitted. Below you can see the details of your submission\")\n",
    "    } else {\n",
    "        print(\"Could not submit. Please check the error message below, contact the assistant if needed.\")\n",
    "    }\n",
    "    \n",
    "    print(content(result))\n",
    "    \n",
    "}\n",
    "\n",
    "check_format <- function(predictions){\n",
    "    \n",
    "    if(is.data.frame(predictions) | is.data.frame(predictions)){\n",
    "        if('forecast' %in% names(predictions)){\n",
    "            if(nrow(predictions)==24){\n",
    "                if(all(is.numeric(predictions$forecast))){\n",
    "                    print(\"Format OK\")\n",
    "                    return(TRUE)\n",
    "                } else {\n",
    "                    print(\"forecast information is not numeric\")\n",
    "                    return(FALSE)                \n",
    "                }\n",
    "            } else {\n",
    "                print(\"Forecasts for 24 hours should be provided, current number of rows:\")\n",
    "                print(nrow(predictions))\n",
    "                return(FALSE)     \n",
    "            }\n",
    "        } \n",
    "    } else {\n",
    "        print(\"Wrong format. Please provide data.frame or data.table object\")\n",
    "        return(FALSE)\n",
    "    }\n",
    "    \n",
    "}\n",
    "\n",
    "# this part is main code\n",
    "subm_url = 'http://46.101.124.77'\n",
    "\n",
    "u_name = \"Group10\"\n",
    "p_word = \"sSQe4kg1ne5XiB7U\"\n",
    "submit_now = FALSE\n",
    "\n",
    "username = u_name\n",
    "password = p_word\n",
    "\n",
    "token = get_token(username=u_name, password=p_word, url=subm_url)\n",
    "data = get_data(token=token,url=subm_url)\n"
   ]
  },
  {
   "cell_type": "code",
   "execution_count": 106,
   "metadata": {},
   "outputs": [],
   "source": [
    "library(data.table)\n",
    "library(lubridate, quietly=TRUE)\n",
    "library(zoo, quietly = TRUE)\n",
    "library(dplyr, quietly = TRUE)\n",
    "library(glmnet)\n",
    "library(MLmetrics)\n",
    "library(\"mvtnorm\") \n",
    "library(tidyr)\n",
    "library(ggplot2)"
   ]
  },
  {
   "cell_type": "code",
   "execution_count": 107,
   "metadata": {},
   "outputs": [],
   "source": [
    "dt=fread(\"bulk_consumption_with_temp.csv\")"
   ]
  },
  {
   "cell_type": "code",
   "execution_count": 108,
   "metadata": {},
   "outputs": [
    {
     "name": "stdout",
     "output_type": "stream",
     "text": [
      "Classes 'data.table' and 'data.frame':\t35232 obs. of  10 variables:\n",
      " $ Date       : chr  \"2017-01-01\" \"2017-01-01\" \"2017-01-01\" \"2017-01-01\" ...\n",
      " $ Hour       : int  0 1 2 3 4 5 6 7 8 9 ...\n",
      " $ Consumption: num  25409 24166 22652 21578 21018 ...\n",
      " $ T_1        : num  -15.9 -15.9 -15.9 -15.9 -15.9 ...\n",
      " $ T_2        : num  4.18 4.18 4.18 4.18 4.18 4.18 4.18 4.33 4.48 4.63 ...\n",
      " $ T_3        : num  0.89 0.89 0.89 0.89 0.89 0.89 0.89 0.92 0.95 0.98 ...\n",
      " $ T_4        : num  -19 -19 -19 -19 -19 ...\n",
      " $ T_5        : num  -14.8 -14.8 -14.8 -14.8 -14.8 ...\n",
      " $ T_6        : num  -10.7 -10.7 -10.7 -10.7 -10.7 ...\n",
      " $ T_7        : num  2.16 2.16 2.16 2.16 2.16 2.16 2.16 1.82 1.48 1.14 ...\n",
      " - attr(*, \".internal.selfref\")=<externalptr> \n"
     ]
    }
   ],
   "source": [
    "str(dt)"
   ]
  },
  {
   "cell_type": "code",
   "execution_count": 109,
   "metadata": {},
   "outputs": [
    {
     "name": "stdout",
     "output_type": "stream",
     "text": [
      "Classes 'data.table' and 'data.frame':\t888 obs. of  10 variables:\n",
      " $ event_date : Date, format: \"2021-01-08\" \"2021-01-08\" ...\n",
      " $ event_hour : int  14 12 11 10 9 8 7 6 5 2 ...\n",
      " $ consumption: num  40986 40496 42005 41592 40459 ...\n",
      " $ t_1        : num  9.16 8.75 8.08 7.08 3.74 1.15 1.29 1.31 1.69 2.56 ...\n",
      " $ t_2        : num  18.6 17 15.7 14 11.7 ...\n",
      " $ t_3        : num  18.3 16.4 14.6 12.5 11.1 ...\n",
      " $ t_4        : num  12.26 10.03 8.62 6.98 4.32 ...\n",
      " $ t_5        : num  14.4 13 11.1 8.7 7.5 ...\n",
      " $ t_6        : num  10.79 9.55 8.63 7.32 5.44 ...\n",
      " $ t_7        : num  15.4 14.4 13.9 13.2 12.8 ...\n",
      " - attr(*, \".internal.selfref\")=<externalptr> \n"
     ]
    }
   ],
   "source": [
    "str(data)"
   ]
  },
  {
   "cell_type": "code",
   "execution_count": 110,
   "metadata": {},
   "outputs": [],
   "source": [
    "setnames(data, \"event_date\", \"Date\")\n",
    "setnames(data, \"event_hour\", \"Hour\")\n",
    "setnames(data, \"consumption\", \"Consumption\")\n",
    "setnames(data, \"t_1\", \"T_1\")\n",
    "setnames(data, \"t_2\", \"T_2\")\n",
    "setnames(data, \"t_3\", \"T_3\")\n",
    "setnames(data, \"t_4\", \"T_4\")\n",
    "setnames(data, \"t_5\", \"T_5\")\n",
    "setnames(data, \"t_6\", \"T_6\")\n",
    "setnames(data, \"t_7\", \"T_7\")"
   ]
  },
  {
   "cell_type": "code",
   "execution_count": 111,
   "metadata": {},
   "outputs": [],
   "source": [
    "data$Date=as.Date(data$Date)\n",
    "dt$Date=as.Date(dt$Date)"
   ]
  },
  {
   "cell_type": "code",
   "execution_count": 112,
   "metadata": {},
   "outputs": [],
   "source": [
    "data=rbind(dt,data)"
   ]
  },
  {
   "cell_type": "markdown",
   "metadata": {},
   "source": [
    "### Performance Function"
   ]
  },
  {
   "cell_type": "code",
   "execution_count": 113,
   "metadata": {},
   "outputs": [],
   "source": [
    "perf_dt=function(type,actual,forecast){\n",
    "    name=type\n",
    "    n=length(actual)\n",
    "    error=actual-forecast\n",
    "    mean=mean(actual)\n",
    "    sd=sd(actual)\n",
    "    FBias=sum(error)/sum(actual)\n",
    "    MPE=sum(error/actual)/n\n",
    "    MAPE=sum(abs(error/actual))/n\n",
    "    RMSE=sqrt(sum(error^2))/n\n",
    "    MAD=sum(abs(error))/n\n",
    "    WMAPE=MAD/mean\n",
    "    l=data.frame(name,n,mean,sd,FBias,MAPE,RMSE,MAD,WMAPE)\n",
    "    return(l)\n",
    "}"
   ]
  },
  {
   "cell_type": "markdown",
   "metadata": {},
   "source": [
    "# Lagged Base Model"
   ]
  },
  {
   "cell_type": "code",
   "execution_count": 114,
   "metadata": {},
   "outputs": [],
   "source": [
    "dt_lagged=copy(data)\n",
    "dt_lagged[, Lag_48:=shift(Consumption,type=\"lag\",n=48)]\n",
    "dt_lagged[, Lag_168:=shift(Consumption,type=\"lag\",n=168)]"
   ]
  },
  {
   "cell_type": "code",
   "execution_count": 115,
   "metadata": {},
   "outputs": [],
   "source": [
    "train=filter(dt_lagged,Date<\"2021-01-08\")"
   ]
  },
  {
   "cell_type": "code",
   "execution_count": 116,
   "metadata": {},
   "outputs": [],
   "source": [
    "test=filter(dt_lagged,Date>\"2021-01-08\" & Date<=\"2021-01-22\")"
   ]
  },
  {
   "cell_type": "markdown",
   "metadata": {},
   "source": [
    "## Hourly Performance"
   ]
  },
  {
   "cell_type": "code",
   "execution_count": 117,
   "metadata": {},
   "outputs": [
    {
     "data": {
      "text/html": [
       "<table>\n",
       "<thead><tr><th scope=col>Date</th><th scope=col>Hour</th><th scope=col>Consumption</th><th scope=col>T_1</th><th scope=col>T_2</th><th scope=col>T_3</th><th scope=col>T_4</th><th scope=col>T_5</th><th scope=col>T_6</th><th scope=col>T_7</th><th scope=col>Lag_48</th><th scope=col>Lag_168</th></tr></thead>\n",
       "<tbody>\n",
       "\t<tr><td>2017-01-01</td><td>0         </td><td>25409.31  </td><td>-15.88    </td><td>4.18      </td><td>0.89      </td><td>-18.96    </td><td>-14.77    </td><td>-10.68    </td><td>2.16      </td><td>NA        </td><td>NA        </td></tr>\n",
       "\t<tr><td>2017-01-01</td><td>1         </td><td>24166.14  </td><td>-15.88    </td><td>4.18      </td><td>0.89      </td><td>-18.96    </td><td>-14.77    </td><td>-10.68    </td><td>2.16      </td><td>NA        </td><td>NA        </td></tr>\n",
       "\t<tr><td>2017-01-01</td><td>2         </td><td>22652.02  </td><td>-15.88    </td><td>4.18      </td><td>0.89      </td><td>-18.96    </td><td>-14.77    </td><td>-10.68    </td><td>2.16      </td><td>NA        </td><td>NA        </td></tr>\n",
       "\t<tr><td>2017-01-01</td><td>3         </td><td>21578.05  </td><td>-15.88    </td><td>4.18      </td><td>0.89      </td><td>-18.96    </td><td>-14.77    </td><td>-10.68    </td><td>2.16      </td><td>NA        </td><td>NA        </td></tr>\n",
       "\t<tr><td>2017-01-01</td><td>4         </td><td>21018.20  </td><td>-15.88    </td><td>4.18      </td><td>0.89      </td><td>-18.96    </td><td>-14.77    </td><td>-10.68    </td><td>2.16      </td><td>NA        </td><td>NA        </td></tr>\n",
       "\t<tr><td>2017-01-01</td><td>5         </td><td>20953.17  </td><td>-15.88    </td><td>4.18      </td><td>0.89      </td><td>-18.96    </td><td>-14.77    </td><td>-10.68    </td><td>2.16      </td><td>NA        </td><td>NA        </td></tr>\n",
       "</tbody>\n",
       "</table>\n"
      ],
      "text/latex": [
       "\\begin{tabular}{r|llllllllllll}\n",
       " Date & Hour & Consumption & T\\_1 & T\\_2 & T\\_3 & T\\_4 & T\\_5 & T\\_6 & T\\_7 & Lag\\_48 & Lag\\_168\\\\\n",
       "\\hline\n",
       "\t 2017-01-01 & 0          & 25409.31   & -15.88     & 4.18       & 0.89       & -18.96     & -14.77     & -10.68     & 2.16       & NA         & NA        \\\\\n",
       "\t 2017-01-01 & 1          & 24166.14   & -15.88     & 4.18       & 0.89       & -18.96     & -14.77     & -10.68     & 2.16       & NA         & NA        \\\\\n",
       "\t 2017-01-01 & 2          & 22652.02   & -15.88     & 4.18       & 0.89       & -18.96     & -14.77     & -10.68     & 2.16       & NA         & NA        \\\\\n",
       "\t 2017-01-01 & 3          & 21578.05   & -15.88     & 4.18       & 0.89       & -18.96     & -14.77     & -10.68     & 2.16       & NA         & NA        \\\\\n",
       "\t 2017-01-01 & 4          & 21018.20   & -15.88     & 4.18       & 0.89       & -18.96     & -14.77     & -10.68     & 2.16       & NA         & NA        \\\\\n",
       "\t 2017-01-01 & 5          & 20953.17   & -15.88     & 4.18       & 0.89       & -18.96     & -14.77     & -10.68     & 2.16       & NA         & NA        \\\\\n",
       "\\end{tabular}\n"
      ],
      "text/markdown": [
       "\n",
       "| Date | Hour | Consumption | T_1 | T_2 | T_3 | T_4 | T_5 | T_6 | T_7 | Lag_48 | Lag_168 |\n",
       "|---|---|---|---|---|---|---|---|---|---|---|---|\n",
       "| 2017-01-01 | 0          | 25409.31   | -15.88     | 4.18       | 0.89       | -18.96     | -14.77     | -10.68     | 2.16       | NA         | NA         |\n",
       "| 2017-01-01 | 1          | 24166.14   | -15.88     | 4.18       | 0.89       | -18.96     | -14.77     | -10.68     | 2.16       | NA         | NA         |\n",
       "| 2017-01-01 | 2          | 22652.02   | -15.88     | 4.18       | 0.89       | -18.96     | -14.77     | -10.68     | 2.16       | NA         | NA         |\n",
       "| 2017-01-01 | 3          | 21578.05   | -15.88     | 4.18       | 0.89       | -18.96     | -14.77     | -10.68     | 2.16       | NA         | NA         |\n",
       "| 2017-01-01 | 4          | 21018.20   | -15.88     | 4.18       | 0.89       | -18.96     | -14.77     | -10.68     | 2.16       | NA         | NA         |\n",
       "| 2017-01-01 | 5          | 20953.17   | -15.88     | 4.18       | 0.89       | -18.96     | -14.77     | -10.68     | 2.16       | NA         | NA         |\n",
       "\n"
      ],
      "text/plain": [
       "  Date       Hour Consumption T_1    T_2  T_3  T_4    T_5    T_6    T_7  Lag_48\n",
       "1 2017-01-01 0    25409.31    -15.88 4.18 0.89 -18.96 -14.77 -10.68 2.16 NA    \n",
       "2 2017-01-01 1    24166.14    -15.88 4.18 0.89 -18.96 -14.77 -10.68 2.16 NA    \n",
       "3 2017-01-01 2    22652.02    -15.88 4.18 0.89 -18.96 -14.77 -10.68 2.16 NA    \n",
       "4 2017-01-01 3    21578.05    -15.88 4.18 0.89 -18.96 -14.77 -10.68 2.16 NA    \n",
       "5 2017-01-01 4    21018.20    -15.88 4.18 0.89 -18.96 -14.77 -10.68 2.16 NA    \n",
       "6 2017-01-01 5    20953.17    -15.88 4.18 0.89 -18.96 -14.77 -10.68 2.16 NA    \n",
       "  Lag_168\n",
       "1 NA     \n",
       "2 NA     \n",
       "3 NA     \n",
       "4 NA     \n",
       "5 NA     \n",
       "6 NA     "
      ]
     },
     "metadata": {},
     "output_type": "display_data"
    }
   ],
   "source": [
    "head(train)"
   ]
  },
  {
   "cell_type": "code",
   "execution_count": 118,
   "metadata": {},
   "outputs": [
    {
     "data": {
      "text/html": [
       "<table>\n",
       "<thead><tr><th scope=col>name</th><th scope=col>n</th><th scope=col>mean</th><th scope=col>sd</th><th scope=col>FBias</th><th scope=col>MAPE</th><th scope=col>RMSE</th><th scope=col>MAD</th><th scope=col>WMAPE</th></tr></thead>\n",
       "<tbody>\n",
       "\t<tr><td>Lag 48 for hourly prediction</td><td>336                         </td><td>37045.79                    </td><td>5444.545                    </td><td>0.008716181                 </td><td>0.1713854                   </td><td>403.6515                    </td><td>6137.928                    </td><td>0.1656849                   </td></tr>\n",
       "</tbody>\n",
       "</table>\n"
      ],
      "text/latex": [
       "\\begin{tabular}{r|lllllllll}\n",
       " name & n & mean & sd & FBias & MAPE & RMSE & MAD & WMAPE\\\\\n",
       "\\hline\n",
       "\t Lag 48 for hourly prediction & 336                          & 37045.79                     & 5444.545                     & 0.008716181                  & 0.1713854                    & 403.6515                     & 6137.928                     & 0.1656849                   \\\\\n",
       "\\end{tabular}\n"
      ],
      "text/markdown": [
       "\n",
       "| name | n | mean | sd | FBias | MAPE | RMSE | MAD | WMAPE |\n",
       "|---|---|---|---|---|---|---|---|---|\n",
       "| Lag 48 for hourly prediction | 336                          | 37045.79                     | 5444.545                     | 0.008716181                  | 0.1713854                    | 403.6515                     | 6137.928                     | 0.1656849                    |\n",
       "\n"
      ],
      "text/plain": [
       "  name                         n   mean     sd       FBias       MAPE     \n",
       "1 Lag 48 for hourly prediction 336 37045.79 5444.545 0.008716181 0.1713854\n",
       "  RMSE     MAD      WMAPE    \n",
       "1 403.6515 6137.928 0.1656849"
      ]
     },
     "metadata": {},
     "output_type": "display_data"
    },
    {
     "data": {
      "text/html": [
       "<table>\n",
       "<thead><tr><th scope=col>name</th><th scope=col>n</th><th scope=col>mean</th><th scope=col>sd</th><th scope=col>FBias</th><th scope=col>MAPE</th><th scope=col>RMSE</th><th scope=col>MAD</th><th scope=col>WMAPE</th></tr></thead>\n",
       "<tbody>\n",
       "\t<tr><td>Lag 168 for hourly prediction</td><td>336                          </td><td>37045.79                     </td><td>5444.545                     </td><td>0.04073002                   </td><td>0.1580881                    </td><td>394.6597                     </td><td>5804.765                     </td><td>0.1566916                    </td></tr>\n",
       "</tbody>\n",
       "</table>\n"
      ],
      "text/latex": [
       "\\begin{tabular}{r|lllllllll}\n",
       " name & n & mean & sd & FBias & MAPE & RMSE & MAD & WMAPE\\\\\n",
       "\\hline\n",
       "\t Lag 168 for hourly prediction & 336                           & 37045.79                      & 5444.545                      & 0.04073002                    & 0.1580881                     & 394.6597                      & 5804.765                      & 0.1566916                    \\\\\n",
       "\\end{tabular}\n"
      ],
      "text/markdown": [
       "\n",
       "| name | n | mean | sd | FBias | MAPE | RMSE | MAD | WMAPE |\n",
       "|---|---|---|---|---|---|---|---|---|\n",
       "| Lag 168 for hourly prediction | 336                           | 37045.79                      | 5444.545                      | 0.04073002                    | 0.1580881                     | 394.6597                      | 5804.765                      | 0.1566916                     |\n",
       "\n"
      ],
      "text/plain": [
       "  name                          n   mean     sd       FBias      MAPE     \n",
       "1 Lag 168 for hourly prediction 336 37045.79 5444.545 0.04073002 0.1580881\n",
       "  RMSE     MAD      WMAPE    \n",
       "1 394.6597 5804.765 0.1566916"
      ]
     },
     "metadata": {},
     "output_type": "display_data"
    }
   ],
   "source": [
    "perf_dt(\"Lag 48 for hourly prediction\", test$Consumption, test$Lag_48)\n",
    "perf_dt(\"Lag 168 for hourly prediction\", test$Consumption, test$Lag_168)"
   ]
  },
  {
   "cell_type": "markdown",
   "metadata": {},
   "source": [
    "## Daily Performance"
   ]
  },
  {
   "cell_type": "code",
   "execution_count": 101,
   "metadata": {},
   "outputs": [
    {
     "name": "stderr",
     "output_type": "stream",
     "text": [
      "`summarise()` ungrouping output (override with `.groups` argument)\n"
     ]
    }
   ],
   "source": [
    "test %<>% \n",
    "  group_by(Date) %>% \n",
    "  summarise(Consumption = sum(Consumption),\n",
    "            Lag_2 = sum(Lag_48),\n",
    "            Lag_7= sum(Lag_168)\n",
    "           )"
   ]
  },
  {
   "cell_type": "code",
   "execution_count": 103,
   "metadata": {
    "scrolled": true
   },
   "outputs": [
    {
     "data": {
      "text/html": [
       "<table>\n",
       "<thead><tr><th scope=col>name</th><th scope=col>n</th><th scope=col>mean</th><th scope=col>sd</th><th scope=col>FBias</th><th scope=col>MAPE</th><th scope=col>RMSE</th><th scope=col>MAD</th><th scope=col>WMAPE</th></tr></thead>\n",
       "<tbody>\n",
       "\t<tr><td>Lag 2 for daily prediction</td><td>14                        </td><td>889099                    </td><td>61616.14                  </td><td>0.008716181               </td><td>0.07486176                </td><td>21854.45                  </td><td>64694.99                  </td><td>0.07276466                </td></tr>\n",
       "</tbody>\n",
       "</table>\n"
      ],
      "text/latex": [
       "\\begin{tabular}{r|lllllllll}\n",
       " name & n & mean & sd & FBias & MAPE & RMSE & MAD & WMAPE\\\\\n",
       "\\hline\n",
       "\t Lag 2 for daily prediction & 14                         & 889099                     & 61616.14                   & 0.008716181                & 0.07486176                 & 21854.45                   & 64694.99                   & 0.07276466                \\\\\n",
       "\\end{tabular}\n"
      ],
      "text/markdown": [
       "\n",
       "| name | n | mean | sd | FBias | MAPE | RMSE | MAD | WMAPE |\n",
       "|---|---|---|---|---|---|---|---|---|\n",
       "| Lag 2 for daily prediction | 14                         | 889099                     | 61616.14                   | 0.008716181                | 0.07486176                 | 21854.45                   | 64694.99                   | 0.07276466                 |\n",
       "\n"
      ],
      "text/plain": [
       "  name                       n  mean   sd       FBias       MAPE       RMSE    \n",
       "1 Lag 2 for daily prediction 14 889099 61616.14 0.008716181 0.07486176 21854.45\n",
       "  MAD      WMAPE     \n",
       "1 64694.99 0.07276466"
      ]
     },
     "metadata": {},
     "output_type": "display_data"
    },
    {
     "data": {
      "text/html": [
       "<table>\n",
       "<thead><tr><th scope=col>name</th><th scope=col>n</th><th scope=col>mean</th><th scope=col>sd</th><th scope=col>FBias</th><th scope=col>MAPE</th><th scope=col>RMSE</th><th scope=col>MAD</th><th scope=col>WMAPE</th></tr></thead>\n",
       "<tbody>\n",
       "\t<tr><td>Lag 7 for daily prediction</td><td>14                        </td><td>889099                    </td><td>61616.14                  </td><td>0.04073002                </td><td>0.04087209                </td><td>12136.03                  </td><td>36213.03                  </td><td>0.04073002                </td></tr>\n",
       "</tbody>\n",
       "</table>\n"
      ],
      "text/latex": [
       "\\begin{tabular}{r|lllllllll}\n",
       " name & n & mean & sd & FBias & MAPE & RMSE & MAD & WMAPE\\\\\n",
       "\\hline\n",
       "\t Lag 7 for daily prediction & 14                         & 889099                     & 61616.14                   & 0.04073002                 & 0.04087209                 & 12136.03                   & 36213.03                   & 0.04073002                \\\\\n",
       "\\end{tabular}\n"
      ],
      "text/markdown": [
       "\n",
       "| name | n | mean | sd | FBias | MAPE | RMSE | MAD | WMAPE |\n",
       "|---|---|---|---|---|---|---|---|---|\n",
       "| Lag 7 for daily prediction | 14                         | 889099                     | 61616.14                   | 0.04073002                 | 0.04087209                 | 12136.03                   | 36213.03                   | 0.04073002                 |\n",
       "\n"
      ],
      "text/plain": [
       "  name                       n  mean   sd       FBias      MAPE       RMSE    \n",
       "1 Lag 7 for daily prediction 14 889099 61616.14 0.04073002 0.04087209 12136.03\n",
       "  MAD      WMAPE     \n",
       "1 36213.03 0.04073002"
      ]
     },
     "metadata": {},
     "output_type": "display_data"
    }
   ],
   "source": [
    "perf_dt(\"Lag 2 for daily prediction\", test$Consumption, test$Lag_2)\n",
    "perf_dt(\"Lag 7 for daily prediction\", test$Consumption, test$Lag_7)"
   ]
  },
  {
   "cell_type": "code",
   "execution_count": null,
   "metadata": {},
   "outputs": [],
   "source": []
  }
 ],
 "metadata": {
  "kernelspec": {
   "display_name": "R",
   "language": "R",
   "name": "ir"
  },
  "language_info": {
   "codemirror_mode": "r",
   "file_extension": ".r",
   "mimetype": "text/x-r-source",
   "name": "R",
   "pygments_lexer": "r",
   "version": "3.6.1"
  }
 },
 "nbformat": 4,
 "nbformat_minor": 4
}
