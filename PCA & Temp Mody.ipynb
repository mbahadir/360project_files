{
 "cells": [
  {
   "cell_type": "code",
   "execution_count": 8,
   "metadata": {},
   "outputs": [
    {
     "name": "stderr",
     "output_type": "stream",
     "text": [
      "Warning message:\n",
      "\"package 'dplyr' was built under R version 3.6.3\"\n",
      "Attaching package: 'dplyr'\n",
      "\n",
      "The following objects are masked from 'package:data.table':\n",
      "\n",
      "    between, first, last\n",
      "\n",
      "The following objects are masked from 'package:stats':\n",
      "\n",
      "    filter, lag\n",
      "\n",
      "The following objects are masked from 'package:base':\n",
      "\n",
      "    intersect, setdiff, setequal, union\n",
      "\n"
     ]
    }
   ],
   "source": [
    "library(data.table)\n",
    "library(dplyr)"
   ]
  },
  {
   "cell_type": "code",
   "execution_count": 3,
   "metadata": {},
   "outputs": [],
   "source": [
    "dt=fread(\"bulk_consumption_with_temp.csv\")"
   ]
  },
  {
   "cell_type": "code",
   "execution_count": 4,
   "metadata": {},
   "outputs": [],
   "source": [
    "dt_new=fread(\"C:/Users/bahad/GitHub/360project/all_features_df.csv\")\n",
    "droped=fread(\"C:/Users/bahad/GitHub/360project/droped_all_features_df.csv\")"
   ]
  },
  {
   "cell_type": "code",
   "execution_count": 5,
   "metadata": {},
   "outputs": [
    {
     "name": "stdout",
     "output_type": "stream",
     "text": [
      "Classes 'data.table' and 'data.frame':\t35232 obs. of  10 variables:\n",
      " $ Date       : Date, format: \"2017-01-01\" \"2017-01-01\" ...\n",
      " $ Hour       : int  0 1 2 3 4 5 6 7 8 9 ...\n",
      " $ Consumption: num  25409 24166 22652 21578 21018 ...\n",
      " $ T_1        : num  -15.9 -15.9 -15.9 -15.9 -15.9 ...\n",
      " $ T_2        : num  4.18 4.18 4.18 4.18 4.18 4.18 4.18 4.33 4.48 4.63 ...\n",
      " $ T_3        : num  0.89 0.89 0.89 0.89 0.89 0.89 0.89 0.92 0.95 0.98 ...\n",
      " $ T_4        : num  -19 -19 -19 -19 -19 ...\n",
      " $ T_5        : num  -14.8 -14.8 -14.8 -14.8 -14.8 ...\n",
      " $ T_6        : num  -10.7 -10.7 -10.7 -10.7 -10.7 ...\n",
      " $ T_7        : num  2.16 2.16 2.16 2.16 2.16 2.16 2.16 1.82 1.48 1.14 ...\n",
      " - attr(*, \".internal.selfref\")=<externalptr> \n"
     ]
    }
   ],
   "source": [
    "dt$Date=as.Date(dt$Date)\n",
    "str(dt)"
   ]
  },
  {
   "cell_type": "code",
   "execution_count": 6,
   "metadata": {},
   "outputs": [
    {
     "name": "stdout",
     "output_type": "stream",
     "text": [
      "Classes 'data.table' and 'data.frame':\t1484 obs. of  22 variables:\n",
      " $ date                    : Date, format: \"2017-01-01\" \"2017-01-02\" ...\n",
      " $ Consumption             : num  623400 751053 784007 796582 787800 ...\n",
      " $ T_1                     : num  -10.125 -6.708 -11.472 -5.925 0.408 ...\n",
      " $ T_2                     : num  6.17 4.8 6.83 6.28 6.84 ...\n",
      " $ T_3                     : num  2.81 4.01 6.86 9.92 12.56 ...\n",
      " $ T_4                     : num  -13.22 -7.81 -12.38 -9.13 -1.21 ...\n",
      " $ T_5                     : num  -10.74 -10.29 -8.82 -4.37 1.28 ...\n",
      " $ T_6                     : num  -8.6 -8.62 -7.56 -6.56 -1.94 ...\n",
      " $ T_7                     : num  2.69 4.61 6.76 8.18 9.24 ...\n",
      " $ reduced_temp            : num  -11.83 -7.656 -7.598 -0.709 10.211 ...\n",
      " $ holiday_val(as_factor)  : int  1 0 0 0 0 0 0 0 0 0 ...\n",
      " $ weekday(as_factor)      : num  7 1 2 3 4 5 6 7 1 2 ...\n",
      " $ lock_down(as_factor)    : int  0 0 0 0 0 0 0 0 0 0 ...\n",
      " $ covid_severity          : num  0 0 0 0 0 0 0 0 0 0 ...\n",
      " $ sunlight_time_minutes   : int  558 558 559 560 561 562 563 564 565 567 ...\n",
      " $ production_capacity_rate: num  77 77 77 77 77 77 77 77 77 77 ...\n",
      " $ price_of_electricity    : num  317 317 317 317 317 ...\n",
      " $ laborforce              : num  51.5 51.5 51.5 51.5 51.5 51.5 51.5 51.5 51.5 51.5 ...\n",
      " $ unemployment            : num  13 13 13 13 13 13 13 13 13 13 ...\n",
      " $ export                  : num  12101 12101 12101 12101 12101 ...\n",
      " $ import                  : num  15336 15336 15336 15336 15336 ...\n",
      " $ di                      : num  241 241 241 241 241 241 241 241 241 241 ...\n",
      " - attr(*, \".internal.selfref\")=<externalptr> \n"
     ]
    }
   ],
   "source": [
    "dt_new$date=as.Date(dt_new$date)\n",
    "str(dt_new)"
   ]
  },
  {
   "cell_type": "code",
   "execution_count": 9,
   "metadata": {},
   "outputs": [
    {
     "name": "stderr",
     "output_type": "stream",
     "text": [
      "`summarise()` ungrouping output (override with `.groups` argument)\n"
     ]
    }
   ],
   "source": [
    "dt_daily =dt %>% \n",
    "  group_by(Date) %>% \n",
    "  summarise(Consumption = sum(Consumption),\n",
    "            T_1=mean(T_1),\n",
    "            T_2=mean(T_2),\n",
    "            T_3=mean(T_3),\n",
    "            T_4=mean(T_4),\n",
    "            T_5=mean(T_5),\n",
    "            T_6=mean(T_6),\n",
    "            T_7=mean(T_7),\n",
    "           )"
   ]
  },
  {
   "cell_type": "markdown",
   "metadata": {},
   "source": [
    "## Weight in the features"
   ]
  },
  {
   "cell_type": "code",
   "execution_count": 16,
   "metadata": {},
   "outputs": [],
   "source": [
    "cons_city=data.table(ant=7061598.02, adn=6032238.75, kon=4528707.86 , \n",
    "                     izm=15862142.35 , esk=2559348.73, ank=12144912.02 , \n",
    "                     ist=36926578.92 )"
   ]
  },
  {
   "cell_type": "code",
   "execution_count": 17,
   "metadata": {},
   "outputs": [
    {
     "data": {
      "text/html": [
       "<table>\n",
       "<thead><tr><th scope=col>ant</th><th scope=col>adn</th><th scope=col>kon</th><th scope=col>izm</th><th scope=col>esk</th><th scope=col>ank</th><th scope=col>ist</th></tr></thead>\n",
       "<tbody>\n",
       "\t<tr><td>7061598 </td><td>6032239 </td><td>4528708 </td><td>15862142</td><td>2559349 </td><td>12144912</td><td>36926579</td></tr>\n",
       "</tbody>\n",
       "</table>\n"
      ],
      "text/latex": [
       "\\begin{tabular}{r|lllllll}\n",
       " ant & adn & kon & izm & esk & ank & ist\\\\\n",
       "\\hline\n",
       "\t 7061598  & 6032239  & 4528708  & 15862142 & 2559349  & 12144912 & 36926579\\\\\n",
       "\\end{tabular}\n"
      ],
      "text/markdown": [
       "\n",
       "| ant | adn | kon | izm | esk | ank | ist |\n",
       "|---|---|---|---|---|---|---|\n",
       "| 7061598  | 6032239  | 4528708  | 15862142 | 2559349  | 12144912 | 36926579 |\n",
       "\n"
      ],
      "text/plain": [
       "  ant     adn     kon     izm      esk     ank      ist     \n",
       "1 7061598 6032239 4528708 15862142 2559349 12144912 36926579"
      ]
     },
     "metadata": {},
     "output_type": "display_data"
    }
   ],
   "source": [
    "cons_city"
   ]
  },
  {
   "cell_type": "code",
   "execution_count": null,
   "metadata": {},
   "outputs": [],
   "source": [
    "write.csv(cons_city,\"Eneryg_consumption_cities.csv\",row.names=FALSE)"
   ]
  },
  {
   "cell_type": "code",
   "execution_count": 24,
   "metadata": {},
   "outputs": [],
   "source": [
    "trans_temp=transmute(dt_daily,T_1=T_1*cons_city$ant,\n",
    "                  T_2=T_2*cons_city$adn,\n",
    "                  T_3=T_3*cons_city$kon,\n",
    "                  T_4=T_4*cons_city$izm,\n",
    "                  T_5=T_5*cons_city$esk,\n",
    "                  T_6=T_6*cons_city$ank,\n",
    "                  T_7=T_7*cons_city$ist)\n"
   ]
  },
  {
   "cell_type": "code",
   "execution_count": 25,
   "metadata": {},
   "outputs": [
    {
     "data": {
      "text/plain": [
       "Standard deviations (1, .., p=7):\n",
       "[1] 2.6007533 0.3045660 0.2647352 0.1680897 0.1421058 0.1281969 0.0914037\n",
       "\n",
       "Rotation (n x k) = (7 x 7):\n",
       "          PC1         PC2        PC3         PC4          PC5         PC6\n",
       "T_1 0.3794502 -0.26399341  0.2609499 -0.51307537  0.341861647 -0.52828673\n",
       "T_2 0.3748089 -0.44298015  0.5956114  0.33028914 -0.393492510  0.13446824\n",
       "T_3 0.3782977  0.41136437  0.0394041 -0.60811224 -0.396601968  0.39525766\n",
       "T_4 0.3800144 -0.26313613 -0.3202569 -0.02355519  0.501850016  0.33372685\n",
       "T_5 0.3790882  0.09768834 -0.4838606  0.18799399 -0.422108572 -0.58308874\n",
       "T_6 0.3803995 -0.19983035 -0.3827783  0.21608464 -0.008274137  0.30357797\n",
       "T_7 0.3736363  0.66793684  0.3039649  0.41865628  0.375371272 -0.05547188\n",
       "            PC7\n",
       "T_1  0.24295594\n",
       "T_2 -0.16286457\n",
       "T_3 -0.05287041\n",
       "T_4 -0.56568726\n",
       "T_5 -0.24314219\n",
       "T_6  0.72795893\n",
       "T_7  0.05106724"
      ]
     },
     "metadata": {},
     "output_type": "display_data"
    },
    {
     "data": {
      "text/plain": [
       "Importance of components:\n",
       "                          PC1     PC2     PC3     PC4     PC5     PC6     PC7\n",
       "Standard deviation     2.6008 0.30457 0.26474 0.16809 0.14211 0.12820 0.09140\n",
       "Proportion of Variance 0.9663 0.01325 0.01001 0.00404 0.00288 0.00235 0.00119\n",
       "Cumulative Proportion  0.9663 0.97953 0.98954 0.99357 0.99646 0.99881 1.00000"
      ]
     },
     "metadata": {},
     "output_type": "display_data"
    }
   ],
   "source": [
    "form_pca1 <-prcomp(trans_temp, center = TRUE,scale. = TRUE)\n",
    "form_pca1\n",
    "summary(form_pca1)"
   ]
  },
  {
   "cell_type": "markdown",
   "metadata": {},
   "source": [
    "# PCA"
   ]
  },
  {
   "cell_type": "code",
   "execution_count": null,
   "metadata": {},
   "outputs": [],
   "source": []
  },
  {
   "cell_type": "code",
   "execution_count": 18,
   "metadata": {},
   "outputs": [
    {
     "data": {
      "text/plain": [
       "Standard deviations (1, .., p=7):\n",
       "[1] 2.6007533 0.3045660 0.2647352 0.1680897 0.1421058 0.1281969 0.0914037\n",
       "\n",
       "Rotation (n x k) = (7 x 7):\n",
       "          PC1         PC2        PC3         PC4          PC5         PC6\n",
       "T_1 0.3794502 -0.26399341  0.2609499 -0.51307537  0.341861647 -0.52828673\n",
       "T_2 0.3748089 -0.44298015  0.5956114  0.33028914 -0.393492510  0.13446824\n",
       "T_3 0.3782977  0.41136437  0.0394041 -0.60811224 -0.396601968  0.39525766\n",
       "T_4 0.3800144 -0.26313613 -0.3202569 -0.02355519  0.501850016  0.33372685\n",
       "T_5 0.3790882  0.09768834 -0.4838606  0.18799399 -0.422108572 -0.58308874\n",
       "T_6 0.3803995 -0.19983035 -0.3827783  0.21608464 -0.008274137  0.30357797\n",
       "T_7 0.3736363  0.66793684  0.3039649  0.41865628  0.375371272 -0.05547188\n",
       "            PC7\n",
       "T_1  0.24295594\n",
       "T_2 -0.16286457\n",
       "T_3 -0.05287041\n",
       "T_4 -0.56568726\n",
       "T_5 -0.24314219\n",
       "T_6  0.72795893\n",
       "T_7  0.05106724"
      ]
     },
     "metadata": {},
     "output_type": "display_data"
    },
    {
     "data": {
      "text/plain": [
       "Importance of components:\n",
       "                          PC1     PC2     PC3     PC4     PC5     PC6     PC7\n",
       "Standard deviation     2.6008 0.30457 0.26474 0.16809 0.14211 0.12820 0.09140\n",
       "Proportion of Variance 0.9663 0.01325 0.01001 0.00404 0.00288 0.00235 0.00119\n",
       "Cumulative Proportion  0.9663 0.97953 0.98954 0.99357 0.99646 0.99881 1.00000"
      ]
     },
     "metadata": {},
     "output_type": "display_data"
    }
   ],
   "source": [
    "form_pca <-prcomp(dt_daily[,c(3,4,5,6,7,8,9)], center = TRUE,scale. = TRUE)\n",
    "form_pca\n",
    "summary(form_pca)"
   ]
  },
  {
   "cell_type": "code",
   "execution_count": 19,
   "metadata": {},
   "outputs": [],
   "source": [
    "dt_daily=mutate(dt_daily, reduced_temp= 0.3794502 * T_1 + 0.3748089 * T_2 + 0.3782977 * T_3 + 0.3800144 * T_4 + 0.3790882 * T_5 + 0.3803995 * T_6 + 0.3736363 * T_7)"
   ]
  },
  {
   "cell_type": "code",
   "execution_count": 20,
   "metadata": {},
   "outputs": [
    {
     "data": {
      "text/html": [
       "<table>\n",
       "<thead><tr><th scope=col>Date</th><th scope=col>Consumption</th><th scope=col>T_1</th><th scope=col>T_2</th><th scope=col>T_3</th><th scope=col>T_4</th><th scope=col>T_5</th><th scope=col>T_6</th><th scope=col>T_7</th><th scope=col>reduced_temp</th></tr></thead>\n",
       "<tbody>\n",
       "\t<tr><td>2021-01-02</td><td>726646.4  </td><td>3.560417  </td><td>13.37708  </td><td>12.35667  </td><td>4.783333  </td><td>6.638333  </td><td>4.619167  </td><td>12.67542  </td><td>21.86672  </td></tr>\n",
       "\t<tr><td>2021-01-03</td><td>720560.6  </td><td>4.275000  </td><td>14.59000  </td><td>11.78333  </td><td>4.312083  </td><td>6.190833  </td><td>4.259583  </td><td>12.70917  </td><td>21.90269  </td></tr>\n",
       "\t<tr><td>2021-01-04</td><td>853158.7  </td><td>4.093750  </td><td>13.92000  </td><td>13.11375  </td><td>4.164583  </td><td>6.160000  </td><td>4.292083  </td><td>13.21083  </td><td>22.21815  </td></tr>\n",
       "\t<tr><td>2021-01-05</td><td>881358.2  </td><td>4.450833  </td><td>13.06417  </td><td>13.55292  </td><td>6.442500  </td><td>6.557500  </td><td>4.482917  </td><td>12.76125  </td><td>23.11995  </td></tr>\n",
       "\t<tr><td>2021-01-06</td><td>892375.8  </td><td>5.069167  </td><td>13.01750  </td><td>11.55833  </td><td>5.268750  </td><td>5.084167  </td><td>4.445000  </td><td>12.07833  </td><td>21.30839  </td></tr>\n",
       "\t<tr><td>2021-01-07</td><td>895189.8  </td><td>4.612917  </td><td>13.92167  </td><td>12.15042  </td><td>5.903750  </td><td>6.948333  </td><td>5.118333  </td><td>12.73625  </td><td>23.14809  </td></tr>\n",
       "</tbody>\n",
       "</table>\n"
      ],
      "text/latex": [
       "\\begin{tabular}{r|llllllllll}\n",
       " Date & Consumption & T\\_1 & T\\_2 & T\\_3 & T\\_4 & T\\_5 & T\\_6 & T\\_7 & reduced\\_temp\\\\\n",
       "\\hline\n",
       "\t 2021-01-02 & 726646.4   & 3.560417   & 13.37708   & 12.35667   & 4.783333   & 6.638333   & 4.619167   & 12.67542   & 21.86672  \\\\\n",
       "\t 2021-01-03 & 720560.6   & 4.275000   & 14.59000   & 11.78333   & 4.312083   & 6.190833   & 4.259583   & 12.70917   & 21.90269  \\\\\n",
       "\t 2021-01-04 & 853158.7   & 4.093750   & 13.92000   & 13.11375   & 4.164583   & 6.160000   & 4.292083   & 13.21083   & 22.21815  \\\\\n",
       "\t 2021-01-05 & 881358.2   & 4.450833   & 13.06417   & 13.55292   & 6.442500   & 6.557500   & 4.482917   & 12.76125   & 23.11995  \\\\\n",
       "\t 2021-01-06 & 892375.8   & 5.069167   & 13.01750   & 11.55833   & 5.268750   & 5.084167   & 4.445000   & 12.07833   & 21.30839  \\\\\n",
       "\t 2021-01-07 & 895189.8   & 4.612917   & 13.92167   & 12.15042   & 5.903750   & 6.948333   & 5.118333   & 12.73625   & 23.14809  \\\\\n",
       "\\end{tabular}\n"
      ],
      "text/markdown": [
       "\n",
       "| Date | Consumption | T_1 | T_2 | T_3 | T_4 | T_5 | T_6 | T_7 | reduced_temp |\n",
       "|---|---|---|---|---|---|---|---|---|---|\n",
       "| 2021-01-02 | 726646.4   | 3.560417   | 13.37708   | 12.35667   | 4.783333   | 6.638333   | 4.619167   | 12.67542   | 21.86672   |\n",
       "| 2021-01-03 | 720560.6   | 4.275000   | 14.59000   | 11.78333   | 4.312083   | 6.190833   | 4.259583   | 12.70917   | 21.90269   |\n",
       "| 2021-01-04 | 853158.7   | 4.093750   | 13.92000   | 13.11375   | 4.164583   | 6.160000   | 4.292083   | 13.21083   | 22.21815   |\n",
       "| 2021-01-05 | 881358.2   | 4.450833   | 13.06417   | 13.55292   | 6.442500   | 6.557500   | 4.482917   | 12.76125   | 23.11995   |\n",
       "| 2021-01-06 | 892375.8   | 5.069167   | 13.01750   | 11.55833   | 5.268750   | 5.084167   | 4.445000   | 12.07833   | 21.30839   |\n",
       "| 2021-01-07 | 895189.8   | 4.612917   | 13.92167   | 12.15042   | 5.903750   | 6.948333   | 5.118333   | 12.73625   | 23.14809   |\n",
       "\n"
      ],
      "text/plain": [
       "  Date       Consumption T_1      T_2      T_3      T_4      T_5      T_6     \n",
       "1 2021-01-02 726646.4    3.560417 13.37708 12.35667 4.783333 6.638333 4.619167\n",
       "2 2021-01-03 720560.6    4.275000 14.59000 11.78333 4.312083 6.190833 4.259583\n",
       "3 2021-01-04 853158.7    4.093750 13.92000 13.11375 4.164583 6.160000 4.292083\n",
       "4 2021-01-05 881358.2    4.450833 13.06417 13.55292 6.442500 6.557500 4.482917\n",
       "5 2021-01-06 892375.8    5.069167 13.01750 11.55833 5.268750 5.084167 4.445000\n",
       "6 2021-01-07 895189.8    4.612917 13.92167 12.15042 5.903750 6.948333 5.118333\n",
       "  T_7      reduced_temp\n",
       "1 12.67542 21.86672    \n",
       "2 12.70917 21.90269    \n",
       "3 13.21083 22.21815    \n",
       "4 12.76125 23.11995    \n",
       "5 12.07833 21.30839    \n",
       "6 12.73625 23.14809    "
      ]
     },
     "metadata": {},
     "output_type": "display_data"
    }
   ],
   "source": [
    "tail(dt_daily)"
   ]
  },
  {
   "cell_type": "code",
   "execution_count": 21,
   "metadata": {},
   "outputs": [],
   "source": [
    "write.csv(dt_daily,\"Daily_values_with_reduced_temperature.csv\",row.names=FALSE)"
   ]
  },
  {
   "cell_type": "code",
   "execution_count": null,
   "metadata": {},
   "outputs": [],
   "source": []
  }
 ],
 "metadata": {
  "kernelspec": {
   "display_name": "R",
   "language": "R",
   "name": "ir"
  },
  "language_info": {
   "codemirror_mode": "r",
   "file_extension": ".r",
   "mimetype": "text/x-r-source",
   "name": "R",
   "pygments_lexer": "r",
   "version": "3.6.1"
  }
 },
 "nbformat": 4,
 "nbformat_minor": 4
}
