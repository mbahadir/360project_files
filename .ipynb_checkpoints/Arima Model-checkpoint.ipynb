{
 "cells": [
  {
   "cell_type": "code",
   "execution_count": 1,
   "metadata": {},
   "outputs": [
    {
     "name": "stderr",
     "output_type": "stream",
     "text": [
      "Loading required package: jsonlite\n",
      "Loading required package: httr\n",
      "Warning message:\n",
      "\"package 'httr' was built under R version 3.6.3\"Loading required package: data.table\n"
     ]
    }
   ],
   "source": [
    "# install the required packages first\n",
    "require(jsonlite)\n",
    "require(httr)\n",
    "require(data.table)\n",
    "\n",
    "get_token <- function(username, password, url_site){\n",
    "    \n",
    "    post_body = list(username=username,password=password)\n",
    "    post_url_string = paste0(url_site,'/token/')\n",
    "    result = POST(post_url_string, body = post_body)\n",
    "\n",
    "    # error handling (wrong credentials)\n",
    "    if(result$status_code==400){\n",
    "        print('Check your credentials')\n",
    "        return(0)\n",
    "    }\n",
    "    else if (result$status_code==201){\n",
    "        output = content(result)\n",
    "        token = output$key\n",
    "    }\n",
    "\n",
    "    return(token)\n",
    "}\n",
    "\n",
    "get_data <- function(start_date='2020-03-20', token, url_site){\n",
    "    \n",
    "    post_body = list(start_date=start_date,username=username,password=password)\n",
    "    post_url_string = paste0(url_site,'/dataset/')\n",
    "    \n",
    "    header = add_headers(c(Authorization=paste('Token',token,sep=' ')))\n",
    "    result = GET(post_url_string, header, body = post_body)\n",
    "    output = content(result)\n",
    "    data = data.table::rbindlist(output)\n",
    "    data[,event_date:=as.Date(event_date)]\n",
    "    data = data[order(event_date)]\n",
    "    return(data)\n",
    "}\n",
    "\n",
    "\n",
    "send_submission <- function(predictions, token, url_site, submit_now=F){\n",
    "    \n",
    "    format_check=check_format(predictions)\n",
    "    if(!format_check){\n",
    "        return(FALSE)\n",
    "    }\n",
    "    \n",
    "    post_string=\"list(\"\n",
    "    for(i in 1:nrow(predictions)){\n",
    "        if(i<nrow(predictions)){\n",
    "            post_string=sprintf(\"%s%s,\",post_string,predictions$forecast[i])\n",
    "        } else {\n",
    "            post_string=sprintf(\"%s%s)\",post_string,predictions$forecast[i])\n",
    "        }\n",
    "    }\n",
    "    \n",
    "    submission = eval(parse(text=post_string))\n",
    "    json_body = jsonlite::toJSON(submission, auto_unbox = TRUE)\n",
    "    submission=list(submission=json_body)\n",
    "    \n",
    "    print(submission)\n",
    "    # {\"31515569\":2.4,\"32939029\":2.4,\"4066298\":2.4,\"6676673\":2.4,\"7061886\":2.4,\"85004\":2.4} \n",
    "\n",
    "    if(!submit_now){\n",
    "        print(\"You did not submit.\")\n",
    "        return(FALSE)      \n",
    "    }\n",
    "    \n",
    "\n",
    "    header = add_headers(c(Authorization=paste('Token',token,sep=' ')))\n",
    "    post_url_string = paste0(url_site,'/submission/')\n",
    "    result = POST(post_url_string, header, body=submission)\n",
    "    \n",
    "    if (result$status_code==201){\n",
    "        print(\"Successfully submitted. Below you can see the details of your submission\")\n",
    "    } else {\n",
    "        print(\"Could not submit. Please check the error message below, contact the assistant if needed.\")\n",
    "    }\n",
    "    \n",
    "    print(content(result))\n",
    "    \n",
    "}\n",
    "\n",
    "check_format <- function(predictions){\n",
    "    \n",
    "    if(is.data.frame(predictions) | is.data.frame(predictions)){\n",
    "        if('forecast' %in% names(predictions)){\n",
    "            if(nrow(predictions)==24){\n",
    "                if(all(is.numeric(predictions$forecast))){\n",
    "                    print(\"Format OK\")\n",
    "                    return(TRUE)\n",
    "                } else {\n",
    "                    print(\"forecast information is not numeric\")\n",
    "                    return(FALSE)                \n",
    "                }\n",
    "            } else {\n",
    "                print(\"Forecasts for 24 hours should be provided, current number of rows:\")\n",
    "                print(nrow(predictions))\n",
    "                return(FALSE)     \n",
    "            }\n",
    "        } \n",
    "    } else {\n",
    "        print(\"Wrong format. Please provide data.frame or data.table object\")\n",
    "        return(FALSE)\n",
    "    }\n",
    "    \n",
    "}\n",
    "\n",
    "# this part is main code\n",
    "subm_url = 'http://46.101.124.77'\n",
    "\n",
    "u_name = \"Group10\"\n",
    "p_word = \"sSQe4kg1ne5XiB7U\"\n",
    "submit_now = FALSE\n",
    "\n",
    "username = u_name\n",
    "password = p_word\n",
    "\n",
    "token = get_token(username=u_name, password=p_word, url=subm_url)\n",
    "data = get_data(token=token,url=subm_url)\n"
   ]
  },
  {
   "cell_type": "code",
   "execution_count": 2,
   "metadata": {},
   "outputs": [
    {
     "name": "stderr",
     "output_type": "stream",
     "text": [
      "Warning message:\n",
      "\"package 'dplyr' was built under R version 3.6.3\"\n",
      "Attaching package: 'dplyr'\n",
      "\n",
      "The following objects are masked from 'package:data.table':\n",
      "\n",
      "    between, first, last\n",
      "\n",
      "The following objects are masked from 'package:stats':\n",
      "\n",
      "    filter, lag\n",
      "\n",
      "The following objects are masked from 'package:base':\n",
      "\n",
      "    intersect, setdiff, setequal, union\n",
      "\n"
     ]
    }
   ],
   "source": [
    "library(data.table)\n",
    "library(dplyr)"
   ]
  },
  {
   "cell_type": "code",
   "execution_count": 3,
   "metadata": {},
   "outputs": [],
   "source": [
    "data=fread(\"current_data.csv\")"
   ]
  },
  {
   "cell_type": "code",
   "execution_count": 4,
   "metadata": {},
   "outputs": [],
   "source": [
    "data=data[,c(2:11)]\n",
    "data$Date=as.Date(data$Date)"
   ]
  },
  {
   "cell_type": "code",
   "execution_count": 5,
   "metadata": {},
   "outputs": [],
   "source": [
    "# old <- c(\"event_date\", \"event_hour\", \"consumption\",\"t_1\",\"t_2\",\"t_3\",\"t_4\",\"t_5\",\"t_6\",\"t_7\")\n",
    "# new <- c(\"Date\", \"Hour\", \"Consumption\",\"T_1\",\"T_2\",\"T_3\",\"T_4\",\"T_5\",\"T_6\",\"T_7\")\n",
    "# setnames(data, old, new, skip_absent = TRUE)"
   ]
  },
  {
   "cell_type": "code",
   "execution_count": 6,
   "metadata": {},
   "outputs": [],
   "source": [
    "data=data[order(Date,Hour)]"
   ]
  },
  {
   "cell_type": "code",
   "execution_count": 7,
   "metadata": {},
   "outputs": [],
   "source": [
    "train=fread(\"bulk_consumption_with_temp.csv\")\n",
    "train$Date=as.Date(train$Date)"
   ]
  },
  {
   "cell_type": "code",
   "execution_count": 8,
   "metadata": {},
   "outputs": [],
   "source": [
    "all_dt=rbind(train,data)"
   ]
  },
  {
   "cell_type": "markdown",
   "metadata": {},
   "source": [
    "## Performance Measure"
   ]
  },
  {
   "cell_type": "markdown",
   "metadata": {},
   "source": [
    "Performance measures will be made by calling the perf_dt() function. In this function, name of the model(with details), how many numbers of observation is evaluated, mean, standard deviation, daily bias, daily mean absolute percentage error, root mean square error, mean absolute deviation, and weighted mean absolute percentage error. Namely, this function will return all the demanded performance measures in the homework description, but also additional beneficial information related to model performance."
   ]
  },
  {
   "cell_type": "code",
   "execution_count": 9,
   "metadata": {},
   "outputs": [],
   "source": [
    "perf_dt=function(type,actual,forecast){\n",
    "    name=type\n",
    "    n=length(actual)\n",
    "    error=actual-forecast\n",
    "    mean=mean(actual)\n",
    "    sd=sd(actual)\n",
    "    FBias=sum(error)/sum(actual)\n",
    "    MPE=sum(error/actual)/n\n",
    "    MAPE=sum(abs(error/actual))/n\n",
    "    RMSE=sqrt(sum(error^2))/n\n",
    "    MAD=sum(abs(error))/n\n",
    "    WMAPE=MAD/mean\n",
    "    l=data.frame(name,n,mean,sd,FBias,MAPE,RMSE,MAD,WMAPE)\n",
    "    return(l)\n",
    "}"
   ]
  },
  {
   "cell_type": "code",
   "execution_count": 10,
   "metadata": {},
   "outputs": [],
   "source": [
    "setnames(all_dt,\"Date\",\"date\")\n",
    "setnames(all_dt,\"Consumption\",\"consumption\")\n",
    "setnames(all_dt,\"Hour\",\"hour\")"
   ]
  },
  {
   "cell_type": "markdown",
   "metadata": {},
   "source": [
    "### Group all the dataset by daily"
   ]
  },
  {
   "cell_type": "code",
   "execution_count": 11,
   "metadata": {},
   "outputs": [
    {
     "name": "stderr",
     "output_type": "stream",
     "text": [
      "`summarise()` ungrouping output (override with `.groups` argument)\n"
     ]
    }
   ],
   "source": [
    "df =all_dt %>% \n",
    "  group_by(date) %>% \n",
    "  summarise(consumption = mean(consumption))\n",
    "dt=as.data.table(df)"
   ]
  },
  {
   "cell_type": "markdown",
   "metadata": {},
   "source": [
    "### Seperating Dataset "
   ]
  },
  {
   "cell_type": "code",
   "execution_count": 12,
   "metadata": {},
   "outputs": [],
   "source": [
    "train=filter(dt,date<=\"2021-01-07\")\n",
    "test=filter(dt,date>\"2021-01-07\")"
   ]
  },
  {
   "cell_type": "markdown",
   "metadata": {},
   "source": [
    "### Dataframe to Time-Series Object"
   ]
  },
  {
   "cell_type": "code",
   "execution_count": 13,
   "metadata": {},
   "outputs": [],
   "source": [
    "train_ts=ts(train$consumption,freq=7)\n",
    "test_ts=ts(test$consumption,freq=7)"
   ]
  },
  {
   "cell_type": "markdown",
   "metadata": {},
   "source": [
    "# Feature DF"
   ]
  },
  {
   "cell_type": "code",
   "execution_count": 14,
   "metadata": {},
   "outputs": [],
   "source": [
    "feat_dt=fread(\"C:/Users/bahad/GitHub/360project/all_features_df.csv\")\n",
    "feat_dt$date=as.Date(feat_dt$date)"
   ]
  },
  {
   "cell_type": "code",
   "execution_count": 15,
   "metadata": {},
   "outputs": [],
   "source": [
    "feat_dt[holiday_val_factor==8,holiday_val_factor:=0]"
   ]
  },
  {
   "cell_type": "code",
   "execution_count": 16,
   "metadata": {},
   "outputs": [],
   "source": [
    "train_feat=merge(train,feat_dt[,c(1,2)],by.x=\"date\",by.y=\"date\")\n",
    "#train_feat[out_and$index][holiday_val_factor==0]$holiday_val_factor=8"
   ]
  },
  {
   "cell_type": "code",
   "execution_count": 17,
   "metadata": {},
   "outputs": [],
   "source": [
    "train_feat$month=month(train_feat$date)"
   ]
  },
  {
   "cell_type": "code",
   "execution_count": 18,
   "metadata": {},
   "outputs": [],
   "source": [
    "train_feat[,year_day:=yday(date)]\n",
    "train_feat[,week_day:=wday(date)]\n",
    "train_feat[,lag_7:=shift(consumption, 7)]\n",
    "train_feat[,lag_14:=shift(consumption, 14)]\n",
    "train_feat[,for_14:=shift(consumption, type=\"lead\", 14)]\n",
    "train_feat[,for_7:=shift(consumption, type=\"lead\", 7)]\n",
    "train_feat[, lag_365:=shift(consumption, 364)]"
   ]
  },
  {
   "cell_type": "markdown",
   "metadata": {},
   "source": [
    "### New year"
   ]
  },
  {
   "cell_type": "code",
   "execution_count": 19,
   "metadata": {},
   "outputs": [],
   "source": [
    "train_feat[holiday_val_factor==1,consumption:=lag_7]\n",
    "train_feat[1]$consumption=train_feat[8]$consumption"
   ]
  },
  {
   "cell_type": "code",
   "execution_count": 20,
   "metadata": {},
   "outputs": [],
   "source": [
    "train_feat[year_day==366]$consumption=train_feat[year_day==366]$lag_7"
   ]
  },
  {
   "cell_type": "code",
   "execution_count": 21,
   "metadata": {},
   "outputs": [],
   "source": [
    "train_feat[year_day==365]$consumption=train_feat[year_day==365]$lag_7"
   ]
  },
  {
   "cell_type": "markdown",
   "metadata": {},
   "source": [
    "##### Lackdown and new year 2021"
   ]
  },
  {
   "cell_type": "code",
   "execution_count": 22,
   "metadata": {},
   "outputs": [],
   "source": [
    "train_feat[date==\"2021-01-02\", consumption:=lag_7]"
   ]
  },
  {
   "cell_type": "markdown",
   "metadata": {},
   "source": [
    "# Holiday Factor == 8"
   ]
  },
  {
   "cell_type": "markdown",
   "metadata": {},
   "source": [
    "### 2017 Ramadan Change"
   ]
  },
  {
   "cell_type": "code",
   "execution_count": 23,
   "metadata": {},
   "outputs": [],
   "source": [
    "train_feat[date<\"2017-07-02\" & date>=\"2017-06-23\" & holiday_val_factor==0,holiday_val_factor:=8]"
   ]
  },
  {
   "cell_type": "markdown",
   "metadata": {},
   "source": [
    "### 2017 Zafer Bayrami"
   ]
  },
  {
   "cell_type": "code",
   "execution_count": 24,
   "metadata": {},
   "outputs": [],
   "source": [
    "train_feat[date==\"2017-08-29\", holiday_val_factor:=8] "
   ]
  },
  {
   "cell_type": "markdown",
   "metadata": {},
   "source": [
    "### 2019 Zafer Bayrami"
   ]
  },
  {
   "cell_type": "code",
   "execution_count": 25,
   "metadata": {},
   "outputs": [],
   "source": [
    "train_feat[date==\"2019-08-31\", holiday_val_factor:=8] "
   ]
  },
  {
   "cell_type": "markdown",
   "metadata": {},
   "source": [
    "### 2018 Kurban Bayramı"
   ]
  },
  {
   "cell_type": "code",
   "execution_count": 26,
   "metadata": {},
   "outputs": [],
   "source": [
    "train_feat[date<\"2018-08-27\" & date>=\"2018-08-18\" & holiday_val_factor==0,holiday_val_factor:=8]"
   ]
  },
  {
   "cell_type": "markdown",
   "metadata": {},
   "source": [
    "### 2019 Ramazan Bayramı"
   ]
  },
  {
   "cell_type": "code",
   "execution_count": 27,
   "metadata": {},
   "outputs": [],
   "source": [
    "train_feat[date<\"2019-06-10\" & date>=\"2019-06-01\" & holiday_val_factor==0,holiday_val_factor:=8]"
   ]
  },
  {
   "cell_type": "markdown",
   "metadata": {},
   "source": [
    "### 2019 Kurban Bayramı"
   ]
  },
  {
   "cell_type": "code",
   "execution_count": 28,
   "metadata": {},
   "outputs": [],
   "source": [
    "train_feat[date<\"2019-08-19\" & date>=\"2019-08-10\" & holiday_val_factor==0,holiday_val_factor:=8]"
   ]
  },
  {
   "cell_type": "markdown",
   "metadata": {},
   "source": [
    "### New Year Holiday Before"
   ]
  },
  {
   "cell_type": "code",
   "execution_count": 29,
   "metadata": {},
   "outputs": [],
   "source": [
    "train_feat[date==\"2019-12-29\",holiday_val_factor:=8]"
   ]
  },
  {
   "cell_type": "markdown",
   "metadata": {},
   "source": [
    "### Verilen 3 haftalık tatilin ilk haftası (haftaiçi)"
   ]
  },
  {
   "cell_type": "code",
   "execution_count": 30,
   "metadata": {},
   "outputs": [],
   "source": [
    "train_feat[date<=\"2020-03-20\" & date>=\"2020-03-16\" & holiday_val_factor==0,holiday_val_factor:=8]"
   ]
  },
  {
   "cell_type": "markdown",
   "metadata": {},
   "source": [
    "### 2020 Kurban Bayramı ????????"
   ]
  },
  {
   "cell_type": "code",
   "execution_count": 31,
   "metadata": {},
   "outputs": [],
   "source": [
    "# train_feat[date>=\"2020-07-10\" & date<=\"2020-08-15\",]"
   ]
  },
  {
   "cell_type": "markdown",
   "metadata": {},
   "source": [
    "# Lag364 Holiday==9"
   ]
  },
  {
   "cell_type": "markdown",
   "metadata": {},
   "source": [
    "### İlk dönem haftasonu lackdown durumu"
   ]
  },
  {
   "cell_type": "code",
   "execution_count": 32,
   "metadata": {},
   "outputs": [],
   "source": [
    "train_feat[date>=\"2020-04-01\"&date<=\"2020-05-31\"& (week_day==1|week_day==7) & holiday_val_factor==0,holiday_val_factor:=9]"
   ]
  },
  {
   "cell_type": "markdown",
   "metadata": {},
   "source": [
    "# Adjustment"
   ]
  },
  {
   "cell_type": "code",
   "execution_count": 33,
   "metadata": {},
   "outputs": [],
   "source": [
    "for(i in 2:8){\n",
    "    for(j in 1:nrow(train_feat[holiday_val_factor==i,])){\n",
    "        new_val=0\n",
    "        count=0\n",
    "        if(train_feat[date==train_feat[holiday_val_factor==i,][j]$date+7]$holiday_val_factor==0){\n",
    "            new_val=new_val+train_feat[holiday_val_factor==i,][j]$for_7+train_feat[holiday_val_factor==i,][j]$for_7\n",
    "            count=count+2\n",
    "        }\n",
    "        if(train_feat[date==train_feat[holiday_val_factor==i,][j]$date-7]$holiday_val_factor==0){\n",
    "            new_val=new_val+train_feat[holiday_val_factor==i,][j]$lag_7+train_feat[holiday_val_factor==i,][j]$lag_7\n",
    "            count=count+2\n",
    "        }\n",
    "        if(train_feat[date==train_feat[holiday_val_factor==i,][j]$date+14]$holiday_val_factor==0){\n",
    "            new_val=new_val+train_feat[holiday_val_factor==i,][j]$lag_14\n",
    "            count=count+1\n",
    "        }\n",
    "        new_val=new_val/count\n",
    "        train_feat[holiday_val_factor==i,][j]$consumption=new_val        \n",
    "    }\n",
    "}"
   ]
  },
  {
   "cell_type": "markdown",
   "metadata": {},
   "source": [
    "### Holiday 9"
   ]
  },
  {
   "cell_type": "code",
   "execution_count": 34,
   "metadata": {},
   "outputs": [],
   "source": [
    "train_feat[holiday_val_factor==9 & week_day==7, consumption:=consumption+1500]"
   ]
  },
  {
   "cell_type": "markdown",
   "metadata": {},
   "source": [
    "# 19 Mayıs Zamanı Yapılan Sokağa Çıkma düzeltmesi"
   ]
  },
  {
   "cell_type": "code",
   "execution_count": 35,
   "metadata": {},
   "outputs": [],
   "source": [
    "train_feat[date==\"2020-05-16\"|date==\"2020-05-17\",consumption:=lag_7]"
   ]
  },
  {
   "cell_type": "code",
   "execution_count": 36,
   "metadata": {},
   "outputs": [],
   "source": [
    "# diff_sun=train_feat[date>=\"2019-04-01\"&date<=\"2019-06-05\" & (week_day==1), ]$consumption-train_feat[date>=\"2020-04-01\"&date<=\"2020-05-31\" & (week_day==1), ]$consumption\n",
    "# diff_sat=train_feat[date>=\"2019-04-01\"&date<=\"2019-06-05\" & (week_day==7), ]$consumption-train_feat[date>=\"2020-04-01\"&date<=\"2020-05-31\" & (week_day==7), ]$consumption"
   ]
  },
  {
   "cell_type": "code",
   "execution_count": 37,
   "metadata": {},
   "outputs": [],
   "source": [
    "# diff_sun\n",
    "# summary(diff_sun)"
   ]
  },
  {
   "cell_type": "code",
   "execution_count": 38,
   "metadata": {},
   "outputs": [],
   "source": [
    "# diff_sat\n",
    "# summary(diff_sat)"
   ]
  },
  {
   "cell_type": "code",
   "execution_count": 39,
   "metadata": {},
   "outputs": [],
   "source": [
    "# diff=train_feat[date>=\"2019-04-01\"&date<=\"2019-05-31\" & (week_day!=1 & week_day!=7), ]$consumption-train_feat[date>=\"2020-04-01\"&date<=\"2020-06-02\" & (week_day!=1 & week_day!=7), ]$consumption"
   ]
  },
  {
   "cell_type": "code",
   "execution_count": 40,
   "metadata": {},
   "outputs": [],
   "source": [
    "# summary(diff)"
   ]
  },
  {
   "cell_type": "code",
   "execution_count": 41,
   "metadata": {},
   "outputs": [],
   "source": [
    "# diff"
   ]
  },
  {
   "cell_type": "markdown",
   "metadata": {},
   "source": [
    "### Outlier Check"
   ]
  },
  {
   "cell_type": "code",
   "execution_count": 42,
   "metadata": {},
   "outputs": [
    {
     "data": {
      "image/png": "[encoded data removed]",
      "text/plain": [
       "plot without title"
      ]
     },
     "metadata": {},
     "output_type": "display_data"
    }
   ],
   "source": [
    "last_decomp=decompose(ts(train_feat$consumption,freq=7),type='add')\n",
    "plot(last_decomp)"
   ]
  },
  {
   "cell_type": "markdown",
   "metadata": {},
   "source": [
    "## Last Adjustment for Outliers"
   ]
  },
  {
   "cell_type": "code",
   "execution_count": 43,
   "metadata": {},
   "outputs": [
    {
     "name": "stderr",
     "output_type": "stream",
     "text": [
      "Warning message:\n",
      "\"package 'forecast' was built under R version 3.6.2\"Registered S3 method overwritten by 'xts':\n",
      "  method     from\n",
      "  as.zoo.xts zoo \n",
      "Registered S3 method overwritten by 'quantmod':\n",
      "  method            from\n",
      "  as.zoo.data.frame zoo \n"
     ]
    }
   ],
   "source": [
    "library(forecast)"
   ]
  },
  {
   "cell_type": "code",
   "execution_count": 44,
   "metadata": {},
   "outputs": [],
   "source": [
    "out_new<-tsoutliers(last_decomp$random)"
   ]
  },
  {
   "cell_type": "code",
   "execution_count": 45,
   "metadata": {},
   "outputs": [],
   "source": [
    "# sub_decomp_new=decompose(ts(train_feat$consumption,freq=7),type='add')\n",
    "# plot(sub_decomp_new)"
   ]
  },
  {
   "cell_type": "code",
   "execution_count": 46,
   "metadata": {},
   "outputs": [],
   "source": [
    "# plot(train_feat[date>=\"2020-01-01\"&date<=\"2021-01-30\"& (week_day==7),]$date,\n",
    "#      train_feat[date>=\"2020-01-01\"&date<=\"2021-01-30\"& (week_day==7),]$consumption,type=\"l\")"
   ]
  },
  {
   "cell_type": "code",
   "execution_count": 47,
   "metadata": {},
   "outputs": [],
   "source": [
    "# plot(train_feat[date>=\"2020-01-01\"&date<=\"2021-01-30\"& (week_day==1),]$date,\n",
    "#      train_feat[date>=\"2020-01-01\"&date<=\"2021-01-30\"& (week_day==1),]$consumption,type=\"l\")"
   ]
  },
  {
   "cell_type": "code",
   "execution_count": 48,
   "metadata": {},
   "outputs": [],
   "source": [
    "# train_feat[date<=\"2021-01-30\"& month== 4 & (week_day==7),mean(consumption),by=year(date)]"
   ]
  },
  {
   "cell_type": "code",
   "execution_count": 49,
   "metadata": {},
   "outputs": [],
   "source": [
    "# train_feat[date<=\"2021-01-30\"& month== 5 & (week_day==7),mean(consumption),by=year(date)]"
   ]
  },
  {
   "cell_type": "code",
   "execution_count": 50,
   "metadata": {},
   "outputs": [],
   "source": [
    "# plot(train_feat[date<=\"2021-01-30\"& (week_day==7) & holiday_val_factor==0,]$date,\n",
    "#      train_feat[date<=\"2021-01-30\"& (week_day==7)& holiday_val_factor==0,]$consumption,type=\"l\")"
   ]
  },
  {
   "cell_type": "code",
   "execution_count": 51,
   "metadata": {},
   "outputs": [],
   "source": [
    "# plot(train_feat[date<=\"2021-01-30\"& (week_day==7) & holiday_val_factor==0,]$date,\n",
    "#      train_feat[date<=\"2021-01-30\"& (week_day==7)& holiday_val_factor==0,]$consumption,type=\"l\")"
   ]
  },
  {
   "cell_type": "code",
   "execution_count": 52,
   "metadata": {},
   "outputs": [],
   "source": [
    "library(urca)"
   ]
  },
  {
   "cell_type": "code",
   "execution_count": 53,
   "metadata": {},
   "outputs": [
    {
     "data": {
      "text/plain": [
       "\n",
       "####################### \n",
       "# KPSS Unit Root Test # \n",
       "####################### \n",
       "\n",
       "Test is of type: mu with 7 lags. \n",
       "\n",
       "Value of test-statistic is: 0.0069 \n",
       "\n",
       "Critical value for a significance level of: \n",
       "                10pct  5pct 2.5pct  1pct\n",
       "critical values 0.347 0.463  0.574 0.739\n"
      ]
     },
     "metadata": {},
     "output_type": "display_data"
    }
   ],
   "source": [
    "unt_test_final=ur.kpss(last_decomp$random) \n",
    "summary(unt_test_final)"
   ]
  },
  {
   "cell_type": "code",
   "execution_count": 54,
   "metadata": {},
   "outputs": [],
   "source": [
    "pred_dt=rbind(train_feat,test, fill=TRUE) \n",
    "pred_dt=pred_dt[,c(1,2)]\n",
    "pred_dt=as.data.table(pred_dt)"
   ]
  },
  {
   "cell_type": "markdown",
   "metadata": {},
   "source": [
    "# ARIMA Models"
   ]
  },
  {
   "cell_type": "code",
   "execution_count": 55,
   "metadata": {},
   "outputs": [
    {
     "name": "stdout",
     "output_type": "stream",
     "text": [
      "\n",
      " Fitting models using approximations to speed things up...\n",
      "\n",
      " ARIMA(2,0,2)(1,0,1)[7] with non-zero mean : Inf\n",
      " ARIMA(0,0,0)           with non-zero mean : 21964.84\n",
      " ARIMA(1,0,0)(1,0,0)[7] with non-zero mean : 21779.02\n",
      " ARIMA(0,0,1)(0,0,1)[7] with non-zero mean : 21726.25\n",
      " ARIMA(0,0,0)           with zero mean     : 21962.83\n",
      " ARIMA(0,0,1)           with non-zero mean : 21771.95\n",
      " ARIMA(0,0,1)(1,0,1)[7] with non-zero mean : 21696.12\n",
      " ARIMA(0,0,1)(1,0,0)[7] with non-zero mean : 21711.95\n",
      " ARIMA(0,0,1)(2,0,1)[7] with non-zero mean : 21698.16\n",
      " ARIMA(0,0,1)(1,0,2)[7] with non-zero mean : 21697.97\n",
      " ARIMA(0,0,1)(0,0,2)[7] with non-zero mean : 21711.65\n",
      " ARIMA(0,0,1)(2,0,0)[7] with non-zero mean : 21704.45\n",
      " ARIMA(0,0,1)(2,0,2)[7] with non-zero mean : 21700.18\n",
      " ARIMA(0,0,0)(1,0,1)[7] with non-zero mean : 21868.39\n",
      " ARIMA(1,0,1)(1,0,1)[7] with non-zero mean : 21697.12\n",
      " ARIMA(0,0,2)(1,0,1)[7] with non-zero mean : 21615.2\n",
      " ARIMA(0,0,2)(0,0,1)[7] with non-zero mean : 21610.69\n",
      " ARIMA(0,0,2)           with non-zero mean : 21625.16\n",
      " ARIMA(0,0,2)(0,0,2)[7] with non-zero mean : Inf\n",
      " ARIMA(0,0,2)(1,0,0)[7] with non-zero mean : 21614.7\n",
      " ARIMA(0,0,2)(1,0,2)[7] with non-zero mean : 21608.44\n",
      " ARIMA(0,0,2)(2,0,2)[7] with non-zero mean : Inf\n",
      " ARIMA(0,0,2)(2,0,1)[7] with non-zero mean : Inf\n",
      " ARIMA(1,0,2)(1,0,2)[7] with non-zero mean : Inf\n",
      " ARIMA(0,0,3)(1,0,2)[7] with non-zero mean : 21244.22\n",
      " ARIMA(0,0,3)(0,0,2)[7] with non-zero mean : Inf\n",
      " ARIMA(0,0,3)(1,0,1)[7] with non-zero mean : 21255.27\n",
      " ARIMA(0,0,3)(2,0,2)[7] with non-zero mean : Inf\n",
      " ARIMA(0,0,3)(0,0,1)[7] with non-zero mean : Inf\n",
      " ARIMA(0,0,3)(2,0,1)[7] with non-zero mean : Inf\n",
      " ARIMA(1,0,3)(1,0,2)[7] with non-zero mean : Inf\n",
      " ARIMA(0,0,4)(1,0,2)[7] with non-zero mean : 21217.4\n",
      " ARIMA(0,0,4)(0,0,2)[7] with non-zero mean : Inf\n",
      " ARIMA(0,0,4)(1,0,1)[7] with non-zero mean : 21229.92\n",
      " ARIMA(0,0,4)(2,0,2)[7] with non-zero mean : Inf\n",
      " ARIMA(0,0,4)(0,0,1)[7] with non-zero mean : Inf\n",
      " ARIMA(0,0,4)(2,0,1)[7] with non-zero mean : Inf\n",
      " ARIMA(1,0,4)(1,0,2)[7] with non-zero mean : Inf\n",
      " ARIMA(0,0,5)(1,0,2)[7] with non-zero mean : 21215.12\n",
      " ARIMA(0,0,5)(0,0,2)[7] with non-zero mean : Inf\n",
      " ARIMA(0,0,5)(1,0,1)[7] with non-zero mean : 21228.92\n",
      " ARIMA(0,0,5)(2,0,2)[7] with non-zero mean : Inf\n",
      " ARIMA(0,0,5)(0,0,1)[7] with non-zero mean : Inf\n",
      " ARIMA(0,0,5)(2,0,1)[7] with non-zero mean : Inf\n",
      " ARIMA(1,0,5)(1,0,2)[7] with non-zero mean : Inf\n",
      " ARIMA(0,0,5)(1,0,2)[7] with zero mean     : 21213.52\n",
      " ARIMA(0,0,5)(0,0,2)[7] with zero mean     : Inf\n",
      " ARIMA(0,0,5)(1,0,1)[7] with zero mean     : 21227.28\n",
      " ARIMA(0,0,5)(2,0,2)[7] with zero mean     : Inf\n",
      " ARIMA(0,0,5)(0,0,1)[7] with zero mean     : Inf\n",
      " ARIMA(0,0,5)(2,0,1)[7] with zero mean     : Inf\n",
      " ARIMA(0,0,4)(1,0,2)[7] with zero mean     : 21215.87\n",
      " ARIMA(1,0,5)(1,0,2)[7] with zero mean     : Inf\n",
      " ARIMA(1,0,4)(1,0,2)[7] with zero mean     : Inf\n",
      "\n",
      " Now re-fitting the best model(s) without approximations...\n",
      "\n",
      " ARIMA(0,0,5)(1,0,2)[7] with zero mean     : Inf\n",
      " ARIMA(0,0,5)(1,0,2)[7] with non-zero mean : Inf\n",
      " ARIMA(0,0,4)(1,0,2)[7] with zero mean     : Inf\n",
      " ARIMA(0,0,4)(1,0,2)[7] with non-zero mean : Inf\n",
      " ARIMA(0,0,5)(1,0,1)[7] with zero mean     : Inf\n",
      " ARIMA(0,0,5)(1,0,1)[7] with non-zero mean : Inf\n",
      " ARIMA(0,0,4)(1,0,1)[7] with non-zero mean : Inf\n",
      " ARIMA(0,0,3)(1,0,2)[7] with non-zero mean : Inf\n",
      " ARIMA(0,0,3)(1,0,1)[7] with non-zero mean : Inf\n",
      " ARIMA(0,0,2)(1,0,2)[7] with non-zero mean : Inf\n",
      " ARIMA(0,0,2)(0,0,1)[7] with non-zero mean : Inf\n",
      " ARIMA(0,0,2)(1,0,0)[7] with non-zero mean : 21608.96\n",
      "\n",
      " Best model: ARIMA(0,0,2)(1,0,0)[7] with non-zero mean \n",
      "\n"
     ]
    }
   ],
   "source": [
    "fitted=auto.arima(last_decomp$random,trace=T)"
   ]
  },
  {
   "cell_type": "code",
   "execution_count": 56,
   "metadata": {},
   "outputs": [
    {
     "data": {
      "text/plain": [
       "Series: last_decomp$random \n",
       "ARIMA(0,0,2)(1,0,0)[7] with non-zero mean \n",
       "\n",
       "Coefficients:\n",
       "          ma1      ma2    sar1     mean\n",
       "      -0.2687  -0.6777  0.1249  -0.0348\n",
       "s.e.   0.0181   0.0166  0.0284   0.6382\n",
       "\n",
       "sigma^2 estimated as 152788:  log likelihood=-10799.46\n",
       "AIC=21608.92   AICc=21608.96   BIC=21635.35"
      ]
     },
     "metadata": {},
     "output_type": "display_data"
    }
   ],
   "source": [
    "fitted"
   ]
  },
  {
   "cell_type": "code",
   "execution_count": 57,
   "metadata": {},
   "outputs": [
    {
     "data": {
      "image/png": "[encoded data removed]",
      "text/plain": [
       "Plot with title \"\""
      ]
     },
     "metadata": {},
     "output_type": "display_data"
    }
   ],
   "source": [
    "tsdisplay(fitted$residuals, main=\"Residuals of the Arima Model\")"
   ]
  },
  {
   "cell_type": "code",
   "execution_count": 58,
   "metadata": {},
   "outputs": [
    {
     "data": {
      "text/plain": [
       "\n",
       "Call:\n",
       "arima(x = last_decomp$random, order = c(3, 0, 2), seasonal = list(order = c(0, \n",
       "    0, 1), period = 7))\n",
       "\n",
       "Coefficients:\n",
       "         ar1     ar2      ar3      ma1      ma2    sma1  intercept\n",
       "      0.1212  0.3914  -0.4867  -0.0875  -0.8533  0.1125    -0.0177\n",
       "s.e.  0.0653  0.0653   0.0358   0.0649   0.0649  0.0278     0.6172\n",
       "\n",
       "sigma^2 estimated as 116806:  log likelihood = -10605.32,  aic = 21226.63"
      ]
     },
     "metadata": {},
     "output_type": "display_data"
    }
   ],
   "source": [
    "fit_mod=arima(last_decomp$random, order=c(3,0,2), seasonal = list(order = c(0, 0, 1), period = 7))\n",
    "fit_mod"
   ]
  },
  {
   "cell_type": "code",
   "execution_count": 59,
   "metadata": {},
   "outputs": [
    {
     "data": {
      "image/png": "[encoded data removed]",
      "text/plain": [
       "Plot with title \"\""
      ]
     },
     "metadata": {},
     "output_type": "display_data"
    }
   ],
   "source": [
    "tsdisplay(fit_mod$residuals, main=\"Residuals of the New Arima Model\")"
   ]
  },
  {
   "cell_type": "markdown",
   "metadata": {},
   "source": [
    "# Predictions"
   ]
  },
  {
   "cell_type": "code",
   "execution_count": 60,
   "metadata": {},
   "outputs": [],
   "source": [
    "pred_dt=rbind(train_feat,test,fill=TRUE)\n",
    "pred_dt=pred_dt[,c(1,2)]\n",
    "pred_dt=as.data.table(pred_dt)"
   ]
  },
  {
   "cell_type": "code",
   "execution_count": 61,
   "metadata": {},
   "outputs": [
    {
     "name": "stdout",
     "output_type": "stream",
     "text": [
      "Classes 'data.table' and 'data.frame':\t1493 obs. of  2 variables:\n",
      " $ date       : Date, format: \"2017-01-01\" \"2017-01-02\" ...\n",
      " $ consumption: num  28388 31294 32667 33191 32825 ...\n",
      " - attr(*, \".internal.selfref\")=<externalptr> \n"
     ]
    }
   ],
   "source": [
    "str(pred_dt)"
   ]
  },
  {
   "cell_type": "code",
   "execution_count": 62,
   "metadata": {},
   "outputs": [],
   "source": [
    "# write.csv(data,\"current_data.csv\")"
   ]
  },
  {
   "cell_type": "code",
   "execution_count": 63,
   "metadata": {
    "scrolled": false
   },
   "outputs": [
    {
     "name": "stdout",
     "output_type": "stream",
     "text": [
      "[1] \"2021-01-09\"\n",
      "[1] \"2021-01-10\"\n",
      "[1] \"2021-01-11\"\n",
      "[1] \"2021-01-12\"\n",
      "[1] \"2021-01-13\"\n",
      "[1] \"2021-01-14\"\n",
      "[1] \"2021-01-15\"\n",
      "[1] \"2021-01-16\"\n",
      "[1] \"2021-01-17\"\n",
      "[1] \"2021-01-18\"\n",
      "[1] \"2021-01-19\"\n",
      "[1] \"2021-01-20\"\n",
      "[1] \"2021-01-21\"\n",
      "[1] \"2021-01-22\"\n"
     ]
    }
   ],
   "source": [
    "test_start=as.Date(\"2021-01-08\")\n",
    "\n",
    "results=vector(\"list\",14)\n",
    "\n",
    "for(i in 1:14){\n",
    "    current_test_date=test_start+i\n",
    "    train_data=pred_dt[date<current_test_date]\n",
    "    test_data=pred_dt[date==current_test_date]\n",
    "    print(current_test_date)\n",
    "    decomp=decompose(ts(train_data$consumption,freq=7),type=\"add\")\n",
    "    rand_val=decomp$random\n",
    "    fit_mod=arima(rand_val, order=c(3,0,2), seasonal = list(order = c(0, 0, 1), period = 7))\n",
    "    test_data[,forecasted:=as.numeric(predict(fit_mod, n.ahead = 1)$pred + decomp$season[wday(current_test_date)] +\n",
    "                                     tail(decomp$trend[!is.na(decomp$trend)],1))]\n",
    "    results[[i+1]]=test_data\n",
    "}"
   ]
  },
  {
   "cell_type": "code",
   "execution_count": 64,
   "metadata": {},
   "outputs": [],
   "source": [
    "res_dt=rbindlist(results)"
   ]
  },
  {
   "cell_type": "code",
   "execution_count": 65,
   "metadata": {},
   "outputs": [],
   "source": [
    "res_dt[, diff:=consumption-forecasted]"
   ]
  },
  {
   "cell_type": "code",
   "execution_count": 66,
   "metadata": {},
   "outputs": [
    {
     "data": {
      "text/html": [
       "<table>\n",
       "<thead><tr><th scope=col>date</th><th scope=col>consumption</th><th scope=col>forecasted</th><th scope=col>diff</th></tr></thead>\n",
       "<tbody>\n",
       "\t<tr><td>2021-01-09 </td><td>34781.56   </td><td>34565.77   </td><td> 215.794311</td></tr>\n",
       "\t<tr><td>2021-01-10 </td><td>31841.90   </td><td>31326.56   </td><td> 515.343286</td></tr>\n",
       "\t<tr><td>2021-01-11 </td><td>36431.46   </td><td>35872.96   </td><td> 558.507734</td></tr>\n",
       "\t<tr><td>2021-01-12 </td><td>36897.99   </td><td>36903.63   </td><td>  -5.636474</td></tr>\n",
       "\t<tr><td>2021-01-13 </td><td>37409.87   </td><td>37191.53   </td><td> 218.336302</td></tr>\n",
       "\t<tr><td>2021-01-14 </td><td>38056.05   </td><td>37200.91   </td><td> 855.138685</td></tr>\n",
       "\t<tr><td>2021-01-15 </td><td>38170.38   </td><td>36959.10   </td><td>1211.279731</td></tr>\n",
       "\t<tr><td>2021-01-16 </td><td>35667.35   </td><td>35672.18   </td><td>  -4.838928</td></tr>\n",
       "\t<tr><td>2021-01-17 </td><td>32557.96   </td><td>32497.06   </td><td>  60.896760</td></tr>\n",
       "\t<tr><td>2021-01-18 </td><td>38447.89   </td><td>36560.38   </td><td>1887.508197</td></tr>\n",
       "\t<tr><td>2021-01-19 </td><td>39723.73   </td><td>37557.26   </td><td>2166.469203</td></tr>\n",
       "\t<tr><td>2021-01-20 </td><td>39960.92   </td><td>38462.34   </td><td>1498.580161</td></tr>\n",
       "\t<tr><td>2021-01-21 </td><td>39791.07   </td><td>39059.92   </td><td> 731.149517</td></tr>\n",
       "\t<tr><td>2021-01-22 </td><td>38902.97   </td><td>38639.61   </td><td> 263.363164</td></tr>\n",
       "</tbody>\n",
       "</table>\n"
      ],
      "text/latex": [
       "\\begin{tabular}{r|llll}\n",
       " date & consumption & forecasted & diff\\\\\n",
       "\\hline\n",
       "\t 2021-01-09  & 34781.56    & 34565.77    &  215.794311\\\\\n",
       "\t 2021-01-10  & 31841.90    & 31326.56    &  515.343286\\\\\n",
       "\t 2021-01-11  & 36431.46    & 35872.96    &  558.507734\\\\\n",
       "\t 2021-01-12  & 36897.99    & 36903.63    &   -5.636474\\\\\n",
       "\t 2021-01-13  & 37409.87    & 37191.53    &  218.336302\\\\\n",
       "\t 2021-01-14  & 38056.05    & 37200.91    &  855.138685\\\\\n",
       "\t 2021-01-15  & 38170.38    & 36959.10    & 1211.279731\\\\\n",
       "\t 2021-01-16  & 35667.35    & 35672.18    &   -4.838928\\\\\n",
       "\t 2021-01-17  & 32557.96    & 32497.06    &   60.896760\\\\\n",
       "\t 2021-01-18  & 38447.89    & 36560.38    & 1887.508197\\\\\n",
       "\t 2021-01-19  & 39723.73    & 37557.26    & 2166.469203\\\\\n",
       "\t 2021-01-20  & 39960.92    & 38462.34    & 1498.580161\\\\\n",
       "\t 2021-01-21  & 39791.07    & 39059.92    &  731.149517\\\\\n",
       "\t 2021-01-22  & 38902.97    & 38639.61    &  263.363164\\\\\n",
       "\\end{tabular}\n"
      ],
      "text/markdown": [
       "\n",
       "| date | consumption | forecasted | diff |\n",
       "|---|---|---|---|\n",
       "| 2021-01-09  | 34781.56    | 34565.77    |  215.794311 |\n",
       "| 2021-01-10  | 31841.90    | 31326.56    |  515.343286 |\n",
       "| 2021-01-11  | 36431.46    | 35872.96    |  558.507734 |\n",
       "| 2021-01-12  | 36897.99    | 36903.63    |   -5.636474 |\n",
       "| 2021-01-13  | 37409.87    | 37191.53    |  218.336302 |\n",
       "| 2021-01-14  | 38056.05    | 37200.91    |  855.138685 |\n",
       "| 2021-01-15  | 38170.38    | 36959.10    | 1211.279731 |\n",
       "| 2021-01-16  | 35667.35    | 35672.18    |   -4.838928 |\n",
       "| 2021-01-17  | 32557.96    | 32497.06    |   60.896760 |\n",
       "| 2021-01-18  | 38447.89    | 36560.38    | 1887.508197 |\n",
       "| 2021-01-19  | 39723.73    | 37557.26    | 2166.469203 |\n",
       "| 2021-01-20  | 39960.92    | 38462.34    | 1498.580161 |\n",
       "| 2021-01-21  | 39791.07    | 39059.92    |  731.149517 |\n",
       "| 2021-01-22  | 38902.97    | 38639.61    |  263.363164 |\n",
       "\n"
      ],
      "text/plain": [
       "   date       consumption forecasted diff       \n",
       "1  2021-01-09 34781.56    34565.77    215.794311\n",
       "2  2021-01-10 31841.90    31326.56    515.343286\n",
       "3  2021-01-11 36431.46    35872.96    558.507734\n",
       "4  2021-01-12 36897.99    36903.63     -5.636474\n",
       "5  2021-01-13 37409.87    37191.53    218.336302\n",
       "6  2021-01-14 38056.05    37200.91    855.138685\n",
       "7  2021-01-15 38170.38    36959.10   1211.279731\n",
       "8  2021-01-16 35667.35    35672.18     -4.838928\n",
       "9  2021-01-17 32557.96    32497.06     60.896760\n",
       "10 2021-01-18 38447.89    36560.38   1887.508197\n",
       "11 2021-01-19 39723.73    37557.26   2166.469203\n",
       "12 2021-01-20 39960.92    38462.34   1498.580161\n",
       "13 2021-01-21 39791.07    39059.92    731.149517\n",
       "14 2021-01-22 38902.97    38639.61    263.363164"
      ]
     },
     "metadata": {},
     "output_type": "display_data"
    }
   ],
   "source": [
    "res_dt"
   ]
  },
  {
   "cell_type": "code",
   "execution_count": 67,
   "metadata": {},
   "outputs": [
    {
     "data": {
      "text/html": [
       "<table>\n",
       "<thead><tr><th scope=col>name</th><th scope=col>n</th><th scope=col>mean</th><th scope=col>sd</th><th scope=col>FBias</th><th scope=col>MAPE</th><th scope=col>RMSE</th><th scope=col>MAD</th><th scope=col>WMAPE</th></tr></thead>\n",
       "<tbody>\n",
       "\t<tr><td>Predictions in Arima with Slicing Window and without regressor</td><td>14                                                            </td><td>37045.79                                                      </td><td>2567.339                                                      </td><td>0.01961258                                                    </td><td>0.01901392                                                    </td><td>267.0696                                                      </td><td>728.0602                                                      </td><td>0.01965298                                                    </td></tr>\n",
       "</tbody>\n",
       "</table>\n"
      ],
      "text/latex": [
       "\\begin{tabular}{r|lllllllll}\n",
       " name & n & mean & sd & FBias & MAPE & RMSE & MAD & WMAPE\\\\\n",
       "\\hline\n",
       "\t Predictions in Arima with Slicing Window and without regressor & 14                                                             & 37045.79                                                       & 2567.339                                                       & 0.01961258                                                     & 0.01901392                                                     & 267.0696                                                       & 728.0602                                                       & 0.01965298                                                    \\\\\n",
       "\\end{tabular}\n"
      ],
      "text/markdown": [
       "\n",
       "| name | n | mean | sd | FBias | MAPE | RMSE | MAD | WMAPE |\n",
       "|---|---|---|---|---|---|---|---|---|\n",
       "| Predictions in Arima with Slicing Window and without regressor | 14                                                             | 37045.79                                                       | 2567.339                                                       | 0.01961258                                                     | 0.01901392                                                     | 267.0696                                                       | 728.0602                                                       | 0.01965298                                                     |\n",
       "\n"
      ],
      "text/plain": [
       "  name                                                           n  mean    \n",
       "1 Predictions in Arima with Slicing Window and without regressor 14 37045.79\n",
       "  sd       FBias      MAPE       RMSE     MAD      WMAPE     \n",
       "1 2567.339 0.01961258 0.01901392 267.0696 728.0602 0.01965298"
      ]
     },
     "metadata": {},
     "output_type": "display_data"
    }
   ],
   "source": [
    "perf_dt(\"Predictions in Arima with Slicing Window and without regressor\", res_dt$consumption, res_dt$forecasted)"
   ]
  },
  {
   "cell_type": "markdown",
   "metadata": {},
   "source": [
    "# Residual Check"
   ]
  },
  {
   "cell_type": "code",
   "execution_count": 68,
   "metadata": {},
   "outputs": [],
   "source": [
    "feature_cont=read.csv(\"C:/Users/bahad/GitHub/360project/all_features_df.csv\")\n",
    "feature_cont=as.data.table(feature_cont)\n",
    "feature_cont$date=as.Date(feature_cont$date)\n",
    "temp_all=fread(\"bulk_consumption_with_temp.csv\")\n",
    "temp_all$Date=as.Date(temp_all$Date)\n",
    "temp_all=rbind(temp_all, data)"
   ]
  },
  {
   "cell_type": "code",
   "execution_count": 69,
   "metadata": {},
   "outputs": [
    {
     "name": "stderr",
     "output_type": "stream",
     "text": [
      "`summarise()` ungrouping output (override with `.groups` argument)\n"
     ]
    }
   ],
   "source": [
    "temp_df =temp_all %>% \n",
    "  group_by(Date) %>% \n",
    "  summarise(consumption = mean(Consumption),\n",
    "            reduced_tmp = mean(0.3794502 * T_1 + \n",
    "                          0.3748089 * T_2 + 0.3782977 * T_3 + \n",
    "                          0.3800144 * T_4 + 0.3790882 * T_5 + \n",
    "                          0.3803995 * T_6 + 0.3736363 * T_7),\n",
    "            reduced_tmp_max = max(0.3794502 * T_1 + \n",
    "                          0.3748089 * T_2 + 0.3782977 * T_3 + \n",
    "                          0.3800144 * T_4 + 0.3790882 * T_5 + \n",
    "                          0.3803995 * T_6 + 0.3736363 * T_7),\n",
    "            reduced_tmp_min = min(0.3794502 * T_1 + \n",
    "                          0.3748089 * T_2 + 0.3782977 * T_3 + \n",
    "                          0.3800144 * T_4 + 0.3790882 * T_5 + \n",
    "                          0.3803995 * T_6 + 0.3736363 * T_7)\n",
    "           )\n",
    "temp_dt=as.data.table(temp_df)\n"
   ]
  },
  {
   "cell_type": "code",
   "execution_count": 70,
   "metadata": {},
   "outputs": [],
   "source": [
    "final_feat_dt=merge(feature_cont[,c(1,4,5,6,7,8,9)],temp_dt[, c(1,3,4,5)],by.x=\"date\", by.y=\"Date\")"
   ]
  },
  {
   "cell_type": "code",
   "execution_count": 71,
   "metadata": {},
   "outputs": [],
   "source": [
    "final_feat_dt[,abs_reduced_tmp:=abs(reduced_tmp-40)]"
   ]
  },
  {
   "cell_type": "code",
   "execution_count": 72,
   "metadata": {},
   "outputs": [],
   "source": [
    "final_feat_dt[,abs_reduced_tmp_max:=abs(reduced_tmp_max-55)]"
   ]
  },
  {
   "cell_type": "markdown",
   "metadata": {},
   "source": [
    "# Regx"
   ]
  },
  {
   "cell_type": "code",
   "execution_count": 73,
   "metadata": {},
   "outputs": [],
   "source": [
    "final_feat_dt[lock_down_factor==1,lock_down_factor:=0]\n",
    "final_feat_dt[lock_down_factor==2,lock_down_factor:=1]"
   ]
  },
  {
   "cell_type": "code",
   "execution_count": 74,
   "metadata": {},
   "outputs": [],
   "source": [
    "elim_feat=final_feat_dt[, c(\"date\", \"lock_down_factor\", \"covid_severity\", \"sunlight_time_minutes\", \n",
    "                           \"production_capacity_rate\", \"reduced_tmp\", \"reduced_tmp_min\",\n",
    "                           'abs_reduced_tmp', \"abs_reduced_tmp_max\")]"
   ]
  },
  {
   "cell_type": "code",
   "execution_count": 75,
   "metadata": {
    "scrolled": false
   },
   "outputs": [
    {
     "name": "stdout",
     "output_type": "stream",
     "text": [
      "[1] \"2021-01-09\"\n",
      "[1] \"2021-01-10\"\n",
      "[1] \"2021-01-11\"\n",
      "[1] \"2021-01-12\"\n",
      "[1] \"2021-01-13\"\n",
      "[1] \"2021-01-14\"\n",
      "[1] \"2021-01-15\"\n",
      "[1] \"2021-01-16\"\n",
      "[1] \"2021-01-17\"\n",
      "[1] \"2021-01-18\"\n",
      "[1] \"2021-01-19\"\n",
      "[1] \"2021-01-20\"\n",
      "[1] \"2021-01-21\"\n",
      "[1] \"2021-01-22\"\n"
     ]
    }
   ],
   "source": [
    "test_start=as.Date(\"2021-01-08\")\n",
    "\n",
    "results=vector(\"list\",14)\n",
    "\n",
    "for(i in 1:14){\n",
    "    current_test_date=test_start+i\n",
    "    train_data=pred_dt[date<current_test_date]\n",
    "    xreg_train=unname(as.matrix(elim_feat[date<current_test_date,c(2,3,4,5,6,7,8,9)]))\n",
    "    test_data=pred_dt[date==current_test_date]\n",
    "    xreg_test=unname(as.matrix(elim_feat[date==current_test_date,c(2,3,4,5,6,7,8,9)]))\n",
    "    decomp=decompose(ts(train_data$consumption,freq=7),type=\"add\")\n",
    "    rand_val=decomp$random  \n",
    "    fit_mod=arima(rand_val, order=c(0,0,2), seasonal = list(order = c(1, 0, 0), period = 7), xreg=xreg_train)\n",
    "    test_data[,forecasted:=as.numeric(predict(fit_mod, n.ahead = 1,newxreg=xreg_test)$pred + decomp$season[wday(current_test_date)] +\n",
    "                                     tail(decomp$trend[!is.na(decomp$trend)],1))]\n",
    "    print(current_test_date)\n",
    "    pred_dt[date==current_test_date,consumption:=as.numeric(predict(fit_mod, n.ahead = 1,newxreg=xreg_test)$pred + decomp$season[wday(current_test_date)] +\n",
    "                                     tail(decomp$trend[!is.na(decomp$trend)],1))]\n",
    "    results[[i+1]]=test_data\n",
    "}"
   ]
  },
  {
   "cell_type": "code",
   "execution_count": 76,
   "metadata": {},
   "outputs": [],
   "source": [
    "res_dt=rbindlist(results)"
   ]
  },
  {
   "cell_type": "code",
   "execution_count": 77,
   "metadata": {},
   "outputs": [],
   "source": [
    "res_dt[, diff:=consumption-forecasted]"
   ]
  },
  {
   "cell_type": "code",
   "execution_count": 78,
   "metadata": {},
   "outputs": [
    {
     "data": {
      "text/html": [
       "<table>\n",
       "<thead><tr><th scope=col>date</th><th scope=col>consumption</th><th scope=col>forecasted</th><th scope=col>diff</th></tr></thead>\n",
       "<tbody>\n",
       "\t<tr><td>2021-01-09</td><td>34781.56  </td><td>34361.04  </td><td> 420.5193 </td></tr>\n",
       "\t<tr><td>2021-01-10</td><td>31841.90  </td><td>30931.57  </td><td> 910.3289 </td></tr>\n",
       "\t<tr><td>2021-01-11</td><td>36431.46  </td><td>35647.06  </td><td> 784.4072 </td></tr>\n",
       "\t<tr><td>2021-01-12</td><td>36897.99  </td><td>36550.56  </td><td> 347.4377 </td></tr>\n",
       "\t<tr><td>2021-01-13</td><td>37409.87  </td><td>36869.89  </td><td> 539.9804 </td></tr>\n",
       "\t<tr><td>2021-01-14</td><td>38056.05  </td><td>37135.84  </td><td> 920.2092 </td></tr>\n",
       "\t<tr><td>2021-01-15</td><td>38170.38  </td><td>36823.17  </td><td>1347.2067 </td></tr>\n",
       "\t<tr><td>2021-01-16</td><td>35667.35  </td><td>34700.91  </td><td> 966.4388 </td></tr>\n",
       "\t<tr><td>2021-01-17</td><td>32557.96  </td><td>31426.35  </td><td>1131.6122 </td></tr>\n",
       "\t<tr><td>2021-01-18</td><td>38447.89  </td><td>36101.42  </td><td>2346.4704 </td></tr>\n",
       "\t<tr><td>2021-01-19</td><td>39723.73  </td><td>36877.32  </td><td>2846.4176 </td></tr>\n",
       "\t<tr><td>2021-01-20</td><td>39960.92  </td><td>36981.73  </td><td>2979.1902 </td></tr>\n",
       "\t<tr><td>2021-01-21</td><td>39791.07  </td><td>36996.33  </td><td>2794.7367 </td></tr>\n",
       "\t<tr><td>2021-01-22</td><td>38902.97  </td><td>36747.99  </td><td>2154.9850 </td></tr>\n",
       "</tbody>\n",
       "</table>\n"
      ],
      "text/latex": [
       "\\begin{tabular}{r|llll}\n",
       " date & consumption & forecasted & diff\\\\\n",
       "\\hline\n",
       "\t 2021-01-09 & 34781.56   & 34361.04   &  420.5193 \\\\\n",
       "\t 2021-01-10 & 31841.90   & 30931.57   &  910.3289 \\\\\n",
       "\t 2021-01-11 & 36431.46   & 35647.06   &  784.4072 \\\\\n",
       "\t 2021-01-12 & 36897.99   & 36550.56   &  347.4377 \\\\\n",
       "\t 2021-01-13 & 37409.87   & 36869.89   &  539.9804 \\\\\n",
       "\t 2021-01-14 & 38056.05   & 37135.84   &  920.2092 \\\\\n",
       "\t 2021-01-15 & 38170.38   & 36823.17   & 1347.2067 \\\\\n",
       "\t 2021-01-16 & 35667.35   & 34700.91   &  966.4388 \\\\\n",
       "\t 2021-01-17 & 32557.96   & 31426.35   & 1131.6122 \\\\\n",
       "\t 2021-01-18 & 38447.89   & 36101.42   & 2346.4704 \\\\\n",
       "\t 2021-01-19 & 39723.73   & 36877.32   & 2846.4176 \\\\\n",
       "\t 2021-01-20 & 39960.92   & 36981.73   & 2979.1902 \\\\\n",
       "\t 2021-01-21 & 39791.07   & 36996.33   & 2794.7367 \\\\\n",
       "\t 2021-01-22 & 38902.97   & 36747.99   & 2154.9850 \\\\\n",
       "\\end{tabular}\n"
      ],
      "text/markdown": [
       "\n",
       "| date | consumption | forecasted | diff |\n",
       "|---|---|---|---|\n",
       "| 2021-01-09 | 34781.56   | 34361.04   |  420.5193  |\n",
       "| 2021-01-10 | 31841.90   | 30931.57   |  910.3289  |\n",
       "| 2021-01-11 | 36431.46   | 35647.06   |  784.4072  |\n",
       "| 2021-01-12 | 36897.99   | 36550.56   |  347.4377  |\n",
       "| 2021-01-13 | 37409.87   | 36869.89   |  539.9804  |\n",
       "| 2021-01-14 | 38056.05   | 37135.84   |  920.2092  |\n",
       "| 2021-01-15 | 38170.38   | 36823.17   | 1347.2067  |\n",
       "| 2021-01-16 | 35667.35   | 34700.91   |  966.4388  |\n",
       "| 2021-01-17 | 32557.96   | 31426.35   | 1131.6122  |\n",
       "| 2021-01-18 | 38447.89   | 36101.42   | 2346.4704  |\n",
       "| 2021-01-19 | 39723.73   | 36877.32   | 2846.4176  |\n",
       "| 2021-01-20 | 39960.92   | 36981.73   | 2979.1902  |\n",
       "| 2021-01-21 | 39791.07   | 36996.33   | 2794.7367  |\n",
       "| 2021-01-22 | 38902.97   | 36747.99   | 2154.9850  |\n",
       "\n"
      ],
      "text/plain": [
       "   date       consumption forecasted diff     \n",
       "1  2021-01-09 34781.56    34361.04    420.5193\n",
       "2  2021-01-10 31841.90    30931.57    910.3289\n",
       "3  2021-01-11 36431.46    35647.06    784.4072\n",
       "4  2021-01-12 36897.99    36550.56    347.4377\n",
       "5  2021-01-13 37409.87    36869.89    539.9804\n",
       "6  2021-01-14 38056.05    37135.84    920.2092\n",
       "7  2021-01-15 38170.38    36823.17   1347.2067\n",
       "8  2021-01-16 35667.35    34700.91    966.4388\n",
       "9  2021-01-17 32557.96    31426.35   1131.6122\n",
       "10 2021-01-18 38447.89    36101.42   2346.4704\n",
       "11 2021-01-19 39723.73    36877.32   2846.4176\n",
       "12 2021-01-20 39960.92    36981.73   2979.1902\n",
       "13 2021-01-21 39791.07    36996.33   2794.7367\n",
       "14 2021-01-22 38902.97    36747.99   2154.9850"
      ]
     },
     "metadata": {},
     "output_type": "display_data"
    }
   ],
   "source": [
    "res_dt"
   ]
  },
  {
   "cell_type": "code",
   "execution_count": 79,
   "metadata": {},
   "outputs": [
    {
     "data": {
      "text/html": [
       "<table>\n",
       "<thead><tr><th scope=col>name</th><th scope=col>n</th><th scope=col>mean</th><th scope=col>sd</th><th scope=col>FBias</th><th scope=col>MAPE</th><th scope=col>RMSE</th><th scope=col>MAD</th><th scope=col>WMAPE</th></tr></thead>\n",
       "<tbody>\n",
       "\t<tr><td>Predictions in Arima with Slicing Window and regressor</td><td>14                                                    </td><td>37045.79                                              </td><td>2567.339                                              </td><td>0.03950697                                            </td><td>0.03858966                                            </td><td>462.069                                               </td><td>1463.567                                              </td><td>0.03950697                                            </td></tr>\n",
       "</tbody>\n",
       "</table>\n"
      ],
      "text/latex": [
       "\\begin{tabular}{r|lllllllll}\n",
       " name & n & mean & sd & FBias & MAPE & RMSE & MAD & WMAPE\\\\\n",
       "\\hline\n",
       "\t Predictions in Arima with Slicing Window and regressor & 14                                                     & 37045.79                                               & 2567.339                                               & 0.03950697                                             & 0.03858966                                             & 462.069                                                & 1463.567                                               & 0.03950697                                            \\\\\n",
       "\\end{tabular}\n"
      ],
      "text/markdown": [
       "\n",
       "| name | n | mean | sd | FBias | MAPE | RMSE | MAD | WMAPE |\n",
       "|---|---|---|---|---|---|---|---|---|\n",
       "| Predictions in Arima with Slicing Window and regressor | 14                                                     | 37045.79                                               | 2567.339                                               | 0.03950697                                             | 0.03858966                                             | 462.069                                                | 1463.567                                               | 0.03950697                                             |\n",
       "\n"
      ],
      "text/plain": [
       "  name                                                   n  mean     sd      \n",
       "1 Predictions in Arima with Slicing Window and regressor 14 37045.79 2567.339\n",
       "  FBias      MAPE       RMSE    MAD      WMAPE     \n",
       "1 0.03950697 0.03858966 462.069 1463.567 0.03950697"
      ]
     },
     "metadata": {},
     "output_type": "display_data"
    }
   ],
   "source": [
    "perf_dt(\"Predictions in Arima with Slicing Window and regressor\", res_dt$consumption, res_dt$forecasted)"
   ]
  },
  {
   "cell_type": "markdown",
   "metadata": {},
   "source": [
    "# Percentage Calculation"
   ]
  },
  {
   "cell_type": "code",
   "execution_count": 80,
   "metadata": {},
   "outputs": [],
   "source": [
    "feature_dt_hour=fread(\"C:/Users/bahad/GitHub/360project/hourly_feature_df.csv\")\n",
    "feature_dt_hour=feature_dt_hour[,-1]\n",
    "feature_dt_hour$date=as.Date(feature_dt_hour$date)"
   ]
  },
  {
   "cell_type": "code",
   "execution_count": 81,
   "metadata": {},
   "outputs": [],
   "source": [
    "req_feature_hour=feature_dt_hour[date>\"2020-06-06\"&date<=Sys.Date()-7]"
   ]
  },
  {
   "cell_type": "code",
   "execution_count": 82,
   "metadata": {},
   "outputs": [
    {
     "name": "stdout",
     "output_type": "stream",
     "text": [
      "Classes 'data.table' and 'data.frame':\t36144 obs. of  9 variables:\n",
      " $ date                    : Date, format: \"2017-01-01\" \"2017-01-01\" ...\n",
      " $ is_lockdown             : int  0 0 0 0 0 0 0 0 0 0 ...\n",
      " $ is_sun                  : int  0 0 0 0 0 0 0 0 0 1 ...\n",
      " $ holiday_val_factor      : num  1 1 1 1 1 1 1 1 1 1 ...\n",
      " $ weekday_factor          : num  7 7 7 7 7 7 7 7 7 7 ...\n",
      " $ covid_severity          : num  0 0 0 0 0 0 0 0 0 0 ...\n",
      " $ production_capacity_rate: num  77 77 77 77 77 77 77 77 77 77 ...\n",
      " $ price_of_electricity    : num  20.5 20.5 20.5 20.5 20.5 ...\n",
      " $ usdtry                  : num  3.53 3.53 3.53 3.53 3.53 ...\n",
      " - attr(*, \".internal.selfref\")=<externalptr> \n"
     ]
    }
   ],
   "source": [
    "str(feature_dt_hour)"
   ]
  },
  {
   "cell_type": "code",
   "execution_count": 83,
   "metadata": {},
   "outputs": [],
   "source": [
    "time_cons1=read.csv(\"bulk_consumption_with_temp.csv\")\n",
    "time_cons2=read.csv(\"current_data.csv\")\n",
    "time_cons2=time_cons2[,-1]"
   ]
  },
  {
   "cell_type": "code",
   "execution_count": 84,
   "metadata": {},
   "outputs": [],
   "source": [
    "time_cons=rbind(time_cons1,time_cons2)\n",
    "setnames(time_cons,\"Date\",\"date\")\n",
    "time_cons=as.data.table(time_cons)\n",
    "time_cons$date=as.Date(time_cons$date)"
   ]
  },
  {
   "cell_type": "code",
   "execution_count": 85,
   "metadata": {},
   "outputs": [
    {
     "name": "stdout",
     "output_type": "stream",
     "text": [
      "Classes 'data.table' and 'data.frame':\t35832 obs. of  10 variables:\n",
      " $ date       : Date, format: \"2017-01-01\" \"2017-01-01\" ...\n",
      " $ Hour       : int  0 1 2 3 4 5 6 7 8 9 ...\n",
      " $ Consumption: num  25409 24166 22652 21578 21018 ...\n",
      " $ T_1        : num  -15.9 -15.9 -15.9 -15.9 -15.9 ...\n",
      " $ T_2        : num  4.18 4.18 4.18 4.18 4.18 4.18 4.18 4.33 4.48 4.63 ...\n",
      " $ T_3        : num  0.89 0.89 0.89 0.89 0.89 0.89 0.89 0.92 0.95 0.98 ...\n",
      " $ T_4        : num  -19 -19 -19 -19 -19 ...\n",
      " $ T_5        : num  -14.8 -14.8 -14.8 -14.8 -14.8 ...\n",
      " $ T_6        : num  -10.7 -10.7 -10.7 -10.7 -10.7 ...\n",
      " $ T_7        : num  2.16 2.16 2.16 2.16 2.16 2.16 2.16 1.82 1.48 1.14 ...\n",
      " - attr(*, \".internal.selfref\")=<externalptr> \n"
     ]
    }
   ],
   "source": [
    "str(time_cons)"
   ]
  },
  {
   "cell_type": "code",
   "execution_count": 86,
   "metadata": {},
   "outputs": [],
   "source": [
    "time_cons[,cons_daily:= sum(Consumption) ,by=date]\n",
    "time_cons[,perc:= Consumption/cons_daily]"
   ]
  },
  {
   "cell_type": "code",
   "execution_count": 87,
   "metadata": {},
   "outputs": [],
   "source": [
    "for(i in 0:23) {\n",
    "  assign(paste0(\"hour\",i), time_cons[Hour==i & date>\"2020-06-06\"&date<=Sys.Date()-7,])\n",
    "  }"
   ]
  },
  {
   "cell_type": "code",
   "execution_count": 88,
   "metadata": {
    "scrolled": false
   },
   "outputs": [],
   "source": [
    "for(i in 0:23){\n",
    "    assign(paste0(\"decompose\",i),decompose(ts(get(paste0(\"hour\",i))$perc,freq=7),\n",
    "                                           type='add'))\n",
    "}"
   ]
  },
  {
   "cell_type": "code",
   "execution_count": 89,
   "metadata": {},
   "outputs": [],
   "source": [
    "req_feature_hour$hour=rep(0:23,nrow(req_feature_hour)/24)"
   ]
  },
  {
   "cell_type": "markdown",
   "metadata": {},
   "source": [
    "# Hour"
   ]
  },
  {
   "cell_type": "code",
   "execution_count": 90,
   "metadata": {},
   "outputs": [],
   "source": [
    "library(forecast)"
   ]
  },
  {
   "cell_type": "code",
   "execution_count": 91,
   "metadata": {},
   "outputs": [],
   "source": [
    "res_hour_per=data.table(hour=0:23)"
   ]
  },
  {
   "cell_type": "code",
   "execution_count": 92,
   "metadata": {},
   "outputs": [],
   "source": [
    "results_percentage=vector(\"list\",24)\n",
    "\n",
    "for(i in 0:23){\n",
    "    new_forescasted=\n",
    "    fit_mod=auto.arima(get(paste0(\"decompose\",i))$random)\n",
    "    new_forescasted=as.numeric(predict(fit_mod, n.ahead = 1)$pred + get(paste0(\"decompose\",i))$season[wday(Sys.Date())] +\n",
    "                                     tail(get(paste0(\"decompose\",i))$trend[!is.na(get(paste0(\"decompose\",i))$trend)],1))\n",
    "    results_percentage[[i+1]]=new_forescasted\n",
    "}"
   ]
  },
  {
   "cell_type": "code",
   "execution_count": 93,
   "metadata": {},
   "outputs": [],
   "source": [
    "Percentage_dt=t(rbind(results_percentage))"
   ]
  },
  {
   "cell_type": "code",
   "execution_count": 94,
   "metadata": {},
   "outputs": [],
   "source": [
    "last_res_daily=(res_dt[nrow(res_dt)]$forecasted)*24"
   ]
  },
  {
   "cell_type": "code",
   "execution_count": 95,
   "metadata": {},
   "outputs": [],
   "source": [
    "last_res_hourly=last_res_daily*as.numeric(Percentage_dt)"
   ]
  },
  {
   "cell_type": "code",
   "execution_count": 96,
   "metadata": {},
   "outputs": [
    {
     "data": {
      "text/html": [
       "<ol class=list-inline>\n",
       "\t<li>32108.9947993184</li>\n",
       "\t<li>30956.9420684355</li>\n",
       "\t<li>30170.9872637747</li>\n",
       "\t<li>29724.2139479202</li>\n",
       "\t<li>29862.1770313784</li>\n",
       "\t<li>29909.9481989765</li>\n",
       "\t<li>30535.9593777085</li>\n",
       "\t<li>32507.5371666299</li>\n",
       "\t<li>36807.5722773164</li>\n",
       "\t<li>39977.0125066042</li>\n",
       "\t<li>41232.8673475558</li>\n",
       "\t<li>42090.205344863</li>\n",
       "\t<li>41371.0550107371</li>\n",
       "\t<li>41863.3184457978</li>\n",
       "\t<li>42107.7088678716</li>\n",
       "\t<li>41577.9297902249</li>\n",
       "\t<li>41219.3542969632</li>\n",
       "\t<li>40652.4900023624</li>\n",
       "\t<li>40179.0272119575</li>\n",
       "\t<li>39232.3067539647</li>\n",
       "\t<li>38121.1127388765</li>\n",
       "\t<li>37469.1072732199</li>\n",
       "\t<li>36933.3842370658</li>\n",
       "\t<li>36114.0685132898</li>\n",
       "</ol>\n"
      ],
      "text/latex": [
       "\\begin{enumerate*}\n",
       "\\item 32108.9947993184\n",
       "\\item 30956.9420684355\n",
       "\\item 30170.9872637747\n",
       "\\item 29724.2139479202\n",
       "\\item 29862.1770313784\n",
       "\\item 29909.9481989765\n",
       "\\item 30535.9593777085\n",
       "\\item 32507.5371666299\n",
       "\\item 36807.5722773164\n",
       "\\item 39977.0125066042\n",
       "\\item 41232.8673475558\n",
       "\\item 42090.205344863\n",
       "\\item 41371.0550107371\n",
       "\\item 41863.3184457978\n",
       "\\item 42107.7088678716\n",
       "\\item 41577.9297902249\n",
       "\\item 41219.3542969632\n",
       "\\item 40652.4900023624\n",
       "\\item 40179.0272119575\n",
       "\\item 39232.3067539647\n",
       "\\item 38121.1127388765\n",
       "\\item 37469.1072732199\n",
       "\\item 36933.3842370658\n",
       "\\item 36114.0685132898\n",
       "\\end{enumerate*}\n"
      ],
      "text/markdown": [
       "1. 32108.9947993184\n",
       "2. 30956.9420684355\n",
       "3. 30170.9872637747\n",
       "4. 29724.2139479202\n",
       "5. 29862.1770313784\n",
       "6. 29909.9481989765\n",
       "7. 30535.9593777085\n",
       "8. 32507.5371666299\n",
       "9. 36807.5722773164\n",
       "10. 39977.0125066042\n",
       "11. 41232.8673475558\n",
       "12. 42090.205344863\n",
       "13. 41371.0550107371\n",
       "14. 41863.3184457978\n",
       "15. 42107.7088678716\n",
       "16. 41577.9297902249\n",
       "17. 41219.3542969632\n",
       "18. 40652.4900023624\n",
       "19. 40179.0272119575\n",
       "20. 39232.3067539647\n",
       "21. 38121.1127388765\n",
       "22. 37469.1072732199\n",
       "23. 36933.3842370658\n",
       "24. 36114.0685132898\n",
       "\n",
       "\n"
      ],
      "text/plain": [
       " [1] 32108.99 30956.94 30170.99 29724.21 29862.18 29909.95 30535.96 32507.54\n",
       " [9] 36807.57 39977.01 41232.87 42090.21 41371.06 41863.32 42107.71 41577.93\n",
       "[17] 41219.35 40652.49 40179.03 39232.31 38121.11 37469.11 36933.38 36114.07"
      ]
     },
     "metadata": {},
     "output_type": "display_data"
    }
   ],
   "source": [
    "last_res_hourly"
   ]
  },
  {
   "cell_type": "code",
   "execution_count": null,
   "metadata": {},
   "outputs": [],
   "source": []
  },
  {
   "cell_type": "markdown",
   "metadata": {},
   "source": [
    "# Percentage Implementation"
   ]
  },
  {
   "cell_type": "code",
   "execution_count": 98,
   "metadata": {},
   "outputs": [],
   "source": [
    "alt_prc=read.csv(\"January_Consumption_Percentage.csv\")\n",
    "alt_prc=as.data.table(alt_prc)"
   ]
  },
  {
   "cell_type": "code",
   "execution_count": 99,
   "metadata": {},
   "outputs": [],
   "source": [
    "last_res_hourly_alt=(alt_prc[week_day ==3, ]$percentage*last_res_daily)"
   ]
  },
  {
   "cell_type": "code",
   "execution_count": 100,
   "metadata": {},
   "outputs": [
    {
     "data": {
      "text/html": [
       "<table>\n",
       "<thead><tr><th scope=col>name</th><th scope=col>n</th><th scope=col>mean</th><th scope=col>sd</th><th scope=col>FBias</th><th scope=col>MAPE</th><th scope=col>RMSE</th><th scope=col>MAD</th><th scope=col>WMAPE</th></tr></thead>\n",
       "<tbody>\n",
       "\t<tr><td>hourly_perf</td><td>24         </td><td>38118.88   </td><td>4899.093   </td><td>0.035118   </td><td>0.03503071 </td><td>290.8286   </td><td>1338.659   </td><td>0.035118   </td></tr>\n",
       "</tbody>\n",
       "</table>\n"
      ],
      "text/latex": [
       "\\begin{tabular}{r|lllllllll}\n",
       " name & n & mean & sd & FBias & MAPE & RMSE & MAD & WMAPE\\\\\n",
       "\\hline\n",
       "\t hourly\\_perf & 24            & 38118.88      & 4899.093      & 0.035118      & 0.03503071    & 290.8286      & 1338.659      & 0.035118     \\\\\n",
       "\\end{tabular}\n"
      ],
      "text/markdown": [
       "\n",
       "| name | n | mean | sd | FBias | MAPE | RMSE | MAD | WMAPE |\n",
       "|---|---|---|---|---|---|---|---|---|\n",
       "| hourly_perf | 24          | 38118.88    | 4899.093    | 0.035118    | 0.03503071  | 290.8286    | 1338.659    | 0.035118    |\n",
       "\n"
      ],
      "text/plain": [
       "  name        n  mean     sd       FBias    MAPE       RMSE     MAD     \n",
       "1 hourly_perf 24 38118.88 4899.093 0.035118 0.03503071 290.8286 1338.659\n",
       "  WMAPE   \n",
       "1 0.035118"
      ]
     },
     "metadata": {},
     "output_type": "display_data"
    }
   ],
   "source": [
    "perf_dt(\"hourly_perf\",all_dt[date==\"2021-01-26\",]$consumption,last_res_hourly)"
   ]
  },
  {
   "cell_type": "code",
   "execution_count": 101,
   "metadata": {},
   "outputs": [
    {
     "data": {
      "text/html": [
       "<table>\n",
       "<thead><tr><th scope=col>name</th><th scope=col>n</th><th scope=col>mean</th><th scope=col>sd</th><th scope=col>FBias</th><th scope=col>MAPE</th><th scope=col>RMSE</th><th scope=col>MAD</th><th scope=col>WMAPE</th></tr></thead>\n",
       "<tbody>\n",
       "\t<tr><td>hourly_perf</td><td>24         </td><td>38118.88   </td><td>4899.093   </td><td>0.03596354 </td><td>0.03838273 </td><td>330.2008   </td><td>1414.196   </td><td>0.03709962 </td></tr>\n",
       "</tbody>\n",
       "</table>\n"
      ],
      "text/latex": [
       "\\begin{tabular}{r|lllllllll}\n",
       " name & n & mean & sd & FBias & MAPE & RMSE & MAD & WMAPE\\\\\n",
       "\\hline\n",
       "\t hourly\\_perf & 24            & 38118.88      & 4899.093      & 0.03596354    & 0.03838273    & 330.2008      & 1414.196      & 0.03709962   \\\\\n",
       "\\end{tabular}\n"
      ],
      "text/markdown": [
       "\n",
       "| name | n | mean | sd | FBias | MAPE | RMSE | MAD | WMAPE |\n",
       "|---|---|---|---|---|---|---|---|---|\n",
       "| hourly_perf | 24          | 38118.88    | 4899.093    | 0.03596354  | 0.03838273  | 330.2008    | 1414.196    | 0.03709962  |\n",
       "\n"
      ],
      "text/plain": [
       "  name        n  mean     sd       FBias      MAPE       RMSE     MAD     \n",
       "1 hourly_perf 24 38118.88 4899.093 0.03596354 0.03838273 330.2008 1414.196\n",
       "  WMAPE     \n",
       "1 0.03709962"
      ]
     },
     "metadata": {},
     "output_type": "display_data"
    }
   ],
   "source": [
    "perf_dt(\"hourly_perf\",all_dt[date==\"2021-01-26\",]$consumption,last_res_hourly_alt)"
   ]
  },
  {
   "cell_type": "code",
   "execution_count": 102,
   "metadata": {},
   "outputs": [
    {
     "name": "stdout",
     "output_type": "stream",
     "text": [
      "Classes 'data.table' and 'data.frame':\t168 obs. of  3 variables:\n",
      " $ Hour      : int  0 0 0 0 0 0 0 1 1 1 ...\n",
      " $ percentage: num  0.0366 0.0366 0.0366 0.0366 0.0377 ...\n",
      " $ week_day  : int  2 3 4 5 6 7 1 2 3 4 ...\n",
      " - attr(*, \".internal.selfref\")=<externalptr> \n",
      " - attr(*, \"index\")= int \n",
      "  ..- attr(*, \"__week_day\")= int  7 14 21 28 35 42 49 56 63 70 ...\n"
     ]
    }
   ],
   "source": [
    "str(alt_prc)"
   ]
  },
  {
   "cell_type": "code",
   "execution_count": 103,
   "metadata": {},
   "outputs": [
    {
     "data": {
      "text/html": [
       "<table>\n",
       "<thead><tr><th scope=col>Hour</th><th scope=col>percentage</th><th scope=col>week_day</th></tr></thead>\n",
       "<tbody>\n",
       "\t<tr><td> 0        </td><td>0.03660922</td><td>3         </td></tr>\n",
       "\t<tr><td> 1        </td><td>0.03442435</td><td>3         </td></tr>\n",
       "\t<tr><td> 2        </td><td>0.03298409</td><td>3         </td></tr>\n",
       "\t<tr><td> 3        </td><td>0.03221304</td><td>3         </td></tr>\n",
       "\t<tr><td> 4        </td><td>0.03201048</td><td>3         </td></tr>\n",
       "\t<tr><td> 5        </td><td>0.03236622</td><td>3         </td></tr>\n",
       "\t<tr><td> 6        </td><td>0.03558466</td><td>3         </td></tr>\n",
       "\t<tr><td> 7        </td><td>0.03838338</td><td>3         </td></tr>\n",
       "\t<tr><td> 8        </td><td>0.04273378</td><td>3         </td></tr>\n",
       "\t<tr><td> 9        </td><td>0.04616245</td><td>3         </td></tr>\n",
       "\t<tr><td>10        </td><td>0.04741695</td><td>3         </td></tr>\n",
       "\t<tr><td>11        </td><td>0.04813940</td><td>3         </td></tr>\n",
       "\t<tr><td>12        </td><td>0.04652124</td><td>3         </td></tr>\n",
       "\t<tr><td>13        </td><td>0.04684229</td><td>3         </td></tr>\n",
       "\t<tr><td>14        </td><td>0.04709955</td><td>3         </td></tr>\n",
       "\t<tr><td>15        </td><td>0.04655059</td><td>3         </td></tr>\n",
       "\t<tr><td>16        </td><td>0.04650347</td><td>3         </td></tr>\n",
       "\t<tr><td>17        </td><td>0.04674623</td><td>3         </td></tr>\n",
       "\t<tr><td>18        </td><td>0.04649164</td><td>3         </td></tr>\n",
       "\t<tr><td>19        </td><td>0.04521832</td><td>3         </td></tr>\n",
       "\t<tr><td>20        </td><td>0.04392140</td><td>3         </td></tr>\n",
       "\t<tr><td>21        </td><td>0.04276629</td><td>3         </td></tr>\n",
       "\t<tr><td>22        </td><td>0.04194707</td><td>3         </td></tr>\n",
       "\t<tr><td>23        </td><td>0.04036387</td><td>3         </td></tr>\n",
       "</tbody>\n",
       "</table>\n"
      ],
      "text/latex": [
       "\\begin{tabular}{r|lll}\n",
       " Hour & percentage & week\\_day\\\\\n",
       "\\hline\n",
       "\t  0         & 0.03660922 & 3         \\\\\n",
       "\t  1         & 0.03442435 & 3         \\\\\n",
       "\t  2         & 0.03298409 & 3         \\\\\n",
       "\t  3         & 0.03221304 & 3         \\\\\n",
       "\t  4         & 0.03201048 & 3         \\\\\n",
       "\t  5         & 0.03236622 & 3         \\\\\n",
       "\t  6         & 0.03558466 & 3         \\\\\n",
       "\t  7         & 0.03838338 & 3         \\\\\n",
       "\t  8         & 0.04273378 & 3         \\\\\n",
       "\t  9         & 0.04616245 & 3         \\\\\n",
       "\t 10         & 0.04741695 & 3         \\\\\n",
       "\t 11         & 0.04813940 & 3         \\\\\n",
       "\t 12         & 0.04652124 & 3         \\\\\n",
       "\t 13         & 0.04684229 & 3         \\\\\n",
       "\t 14         & 0.04709955 & 3         \\\\\n",
       "\t 15         & 0.04655059 & 3         \\\\\n",
       "\t 16         & 0.04650347 & 3         \\\\\n",
       "\t 17         & 0.04674623 & 3         \\\\\n",
       "\t 18         & 0.04649164 & 3         \\\\\n",
       "\t 19         & 0.04521832 & 3         \\\\\n",
       "\t 20         & 0.04392140 & 3         \\\\\n",
       "\t 21         & 0.04276629 & 3         \\\\\n",
       "\t 22         & 0.04194707 & 3         \\\\\n",
       "\t 23         & 0.04036387 & 3         \\\\\n",
       "\\end{tabular}\n"
      ],
      "text/markdown": [
       "\n",
       "| Hour | percentage | week_day |\n",
       "|---|---|---|\n",
       "|  0         | 0.03660922 | 3          |\n",
       "|  1         | 0.03442435 | 3          |\n",
       "|  2         | 0.03298409 | 3          |\n",
       "|  3         | 0.03221304 | 3          |\n",
       "|  4         | 0.03201048 | 3          |\n",
       "|  5         | 0.03236622 | 3          |\n",
       "|  6         | 0.03558466 | 3          |\n",
       "|  7         | 0.03838338 | 3          |\n",
       "|  8         | 0.04273378 | 3          |\n",
       "|  9         | 0.04616245 | 3          |\n",
       "| 10         | 0.04741695 | 3          |\n",
       "| 11         | 0.04813940 | 3          |\n",
       "| 12         | 0.04652124 | 3          |\n",
       "| 13         | 0.04684229 | 3          |\n",
       "| 14         | 0.04709955 | 3          |\n",
       "| 15         | 0.04655059 | 3          |\n",
       "| 16         | 0.04650347 | 3          |\n",
       "| 17         | 0.04674623 | 3          |\n",
       "| 18         | 0.04649164 | 3          |\n",
       "| 19         | 0.04521832 | 3          |\n",
       "| 20         | 0.04392140 | 3          |\n",
       "| 21         | 0.04276629 | 3          |\n",
       "| 22         | 0.04194707 | 3          |\n",
       "| 23         | 0.04036387 | 3          |\n",
       "\n"
      ],
      "text/plain": [
       "   Hour percentage week_day\n",
       "1   0   0.03660922 3       \n",
       "2   1   0.03442435 3       \n",
       "3   2   0.03298409 3       \n",
       "4   3   0.03221304 3       \n",
       "5   4   0.03201048 3       \n",
       "6   5   0.03236622 3       \n",
       "7   6   0.03558466 3       \n",
       "8   7   0.03838338 3       \n",
       "9   8   0.04273378 3       \n",
       "10  9   0.04616245 3       \n",
       "11 10   0.04741695 3       \n",
       "12 11   0.04813940 3       \n",
       "13 12   0.04652124 3       \n",
       "14 13   0.04684229 3       \n",
       "15 14   0.04709955 3       \n",
       "16 15   0.04655059 3       \n",
       "17 16   0.04650347 3       \n",
       "18 17   0.04674623 3       \n",
       "19 18   0.04649164 3       \n",
       "20 19   0.04521832 3       \n",
       "21 20   0.04392140 3       \n",
       "22 21   0.04276629 3       \n",
       "23 22   0.04194707 3       \n",
       "24 23   0.04036387 3       "
      ]
     },
     "metadata": {},
     "output_type": "display_data"
    }
   ],
   "source": [
    "alt_prc[week_day ==3, ]"
   ]
  },
  {
   "cell_type": "code",
   "execution_count": null,
   "metadata": {},
   "outputs": [],
   "source": []
  },
  {
   "cell_type": "code",
   "execution_count": null,
   "metadata": {},
   "outputs": [],
   "source": []
  }
 ],
 "metadata": {
  "kernelspec": {
   "display_name": "R",
   "language": "R",
   "name": "ir"
  },
  "language_info": {
   "codemirror_mode": "r",
   "file_extension": ".r",
   "mimetype": "text/x-r-source",
   "name": "R",
   "pygments_lexer": "r",
   "version": "3.6.1"
  }
 },
 "nbformat": 4,
 "nbformat_minor": 4
}
