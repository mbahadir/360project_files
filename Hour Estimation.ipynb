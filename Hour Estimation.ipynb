{
 "cells": [
  {
   "cell_type": "code",
   "execution_count": 165,
   "metadata": {},
   "outputs": [],
   "source": [
    "library(data.table)"
   ]
  },
  {
   "cell_type": "code",
   "execution_count": 182,
   "metadata": {},
   "outputs": [],
   "source": [
    "feature_dt_hour=fread(\"C:/Users/bahad/GitHub/360project/hourly_feature_df.csv\")\n",
    "feature_dt_hour=feature_dt_hour[,-1]\n",
    "feature_dt_hour$date=as.Date(feature_dt_hour$date)"
   ]
  },
  {
   "cell_type": "code",
   "execution_count": 183,
   "metadata": {},
   "outputs": [],
   "source": [
    "req_feature_hour=feature_dt_hour[date>\"2020-06-06\"&date<=Sys.Date()-8]"
   ]
  },
  {
   "cell_type": "code",
   "execution_count": 184,
   "metadata": {},
   "outputs": [
    {
     "name": "stdout",
     "output_type": "stream",
     "text": [
      "Classes 'data.table' and 'data.frame':\t35832 obs. of  9 variables:\n",
      " $ date                    : Date, format: \"2017-01-01\" \"2017-01-01\" ...\n",
      " $ is_lockdown             : int  0 0 0 0 0 0 0 0 0 0 ...\n",
      " $ is_sun                  : int  0 0 0 0 0 0 0 0 0 1 ...\n",
      " $ holiday_val_factor      : num  1 1 1 1 1 1 1 1 1 1 ...\n",
      " $ weekday_factor          : num  7 7 7 7 7 7 7 7 7 7 ...\n",
      " $ covid_severity          : num  0 0 0 0 0 0 0 0 0 0 ...\n",
      " $ production_capacity_rate: num  77 77 77 77 77 77 77 77 77 77 ...\n",
      " $ price_of_electricity    : num  20.5 20.5 20.5 20.5 20.5 ...\n",
      " $ usdtry                  : num  3.53 3.53 3.53 3.53 3.53 ...\n",
      " - attr(*, \".internal.selfref\")=<externalptr> \n"
     ]
    }
   ],
   "source": [
    "str(feature_dt_hour)"
   ]
  },
  {
   "cell_type": "code",
   "execution_count": 185,
   "metadata": {},
   "outputs": [],
   "source": [
    "time_cons1=read.csv(\"bulk_consumption_with_temp.csv\")\n",
    "time_cons2=read.csv(\"current_data.csv\")\n",
    "time_cons2=time_cons2[,-1]"
   ]
  },
  {
   "cell_type": "code",
   "execution_count": 186,
   "metadata": {},
   "outputs": [],
   "source": [
    "time_cons=rbind(time_cons1,time_cons2)\n",
    "setnames(time_cons,\"Date\",\"date\")\n",
    "time_cons=as.data.table(time_cons)\n",
    "time_cons$date=as.Date(time_cons$date)"
   ]
  },
  {
   "cell_type": "code",
   "execution_count": 187,
   "metadata": {},
   "outputs": [
    {
     "name": "stdout",
     "output_type": "stream",
     "text": [
      "Classes 'data.table' and 'data.frame':\t35832 obs. of  10 variables:\n",
      " $ date       : Date, format: \"2017-01-01\" \"2017-01-01\" ...\n",
      " $ Hour       : int  0 1 2 3 4 5 6 7 8 9 ...\n",
      " $ Consumption: num  25409 24166 22652 21578 21018 ...\n",
      " $ T_1        : num  -15.9 -15.9 -15.9 -15.9 -15.9 ...\n",
      " $ T_2        : num  4.18 4.18 4.18 4.18 4.18 4.18 4.18 4.33 4.48 4.63 ...\n",
      " $ T_3        : num  0.89 0.89 0.89 0.89 0.89 0.89 0.89 0.92 0.95 0.98 ...\n",
      " $ T_4        : num  -19 -19 -19 -19 -19 ...\n",
      " $ T_5        : num  -14.8 -14.8 -14.8 -14.8 -14.8 ...\n",
      " $ T_6        : num  -10.7 -10.7 -10.7 -10.7 -10.7 ...\n",
      " $ T_7        : num  2.16 2.16 2.16 2.16 2.16 2.16 2.16 1.82 1.48 1.14 ...\n",
      " - attr(*, \".internal.selfref\")=<externalptr> \n"
     ]
    }
   ],
   "source": [
    "str(time_cons)"
   ]
  },
  {
   "cell_type": "code",
   "execution_count": 188,
   "metadata": {},
   "outputs": [],
   "source": [
    "time_cons[,cons_daily:= sum(Consumption) ,by=date]\n",
    "time_cons[,perc:= Consumption/cons_daily]"
   ]
  },
  {
   "cell_type": "code",
   "execution_count": 189,
   "metadata": {},
   "outputs": [],
   "source": [
    "for(i in 0:23) {\n",
    "  assign(paste0(\"hour\",i), time_cons[Hour==i & date>\"2020-06-06\"&date<=Sys.Date()-8,])\n",
    "  }"
   ]
  },
  {
   "cell_type": "code",
   "execution_count": 190,
   "metadata": {
    "scrolled": false
   },
   "outputs": [],
   "source": [
    "for(i in 0:23){\n",
    "    #plot(get(paste0(\"hour\",i))[date>\"2020-06-01\"&date<=Sys.Date()-8]$perc,type=\"l\")\n",
    "    assign(paste0(\"decompose\",i),decompose(ts(get(paste0(\"hour\",i))$perc,freq=7),\n",
    "                                           type='add'))\n",
    "    #plot(get(paste0(\"decompose\",i)))\n",
    "}"
   ]
  },
  {
   "cell_type": "code",
   "execution_count": 191,
   "metadata": {},
   "outputs": [],
   "source": [
    "req_feature_hour$hour=rep(0:23,nrow(req_feature_hour)/24)"
   ]
  },
  {
   "cell_type": "markdown",
   "metadata": {},
   "source": [
    "# Hour"
   ]
  },
  {
   "cell_type": "code",
   "execution_count": 192,
   "metadata": {},
   "outputs": [],
   "source": [
    "library(forecast)"
   ]
  },
  {
   "cell_type": "code",
   "execution_count": 193,
   "metadata": {},
   "outputs": [],
   "source": [
    "res_hour_per=data.table(hour=0:23)"
   ]
  },
  {
   "cell_type": "code",
   "execution_count": 214,
   "metadata": {
    "scrolled": false
   },
   "outputs": [],
   "source": [
    "results_percentage=vector(\"list\",24)\n",
    "\n",
    "for(i in 0:23){\n",
    "    new_forescasted=0\n",
    "    fit_mod=auto.arima(get(paste0(\"decompose\",i))$random)\n",
    "    new_forescasted=as.numeric(predict(fit_mod, n.ahead = 1)$pred +\n",
    "                               get(paste0(\"decompose\",i))$season[wday(Sys.Date())] +\n",
    "                                     tail(get(paste0(\"decompose\",i))$trend[!is.na(get(paste0(\"decompose\",i))$trend)],1))\n",
    "    results_percentage[[i+1]]=new_forescasted\n",
    "}    \n",
    "\n"
   ]
  },
  {
   "cell_type": "code",
   "execution_count": 215,
   "metadata": {},
   "outputs": [],
   "source": [
    "Percentage_dt=t(rbind(results_percentage))"
   ]
  },
  {
   "cell_type": "code",
   "execution_count": null,
   "metadata": {},
   "outputs": [],
   "source": []
  },
  {
   "cell_type": "code",
   "execution_count": null,
   "metadata": {},
   "outputs": [],
   "source": []
  }
 ],
 "metadata": {
  "kernelspec": {
   "display_name": "R",
   "language": "R",
   "name": "ir"
  },
  "language_info": {
   "codemirror_mode": "r",
   "file_extension": ".r",
   "mimetype": "text/x-r-source",
   "name": "R",
   "pygments_lexer": "r",
   "version": "3.6.1"
  }
 },
 "nbformat": 4,
 "nbformat_minor": 4
}
